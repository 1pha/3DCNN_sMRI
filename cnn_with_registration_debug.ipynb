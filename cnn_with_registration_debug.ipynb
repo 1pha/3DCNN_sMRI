{
 "cells": [
  {
   "cell_type": "code",
   "execution_count": 1,
   "metadata": {
    "ExecuteTime": {
     "end_time": "2020-12-04T12:57:41.616537Z",
     "start_time": "2020-12-04T12:57:38.245936Z"
    }
   },
   "outputs": [],
   "source": [
    "# importing the libraries\n",
    "import pandas as pd\n",
    "import numpy as np\n",
    "from tqdm import tqdm\n",
    "import os\n",
    "from itertools import chain\n",
    "import seaborn as sns\n",
    "from datetime import datetime\n",
    "\n",
    "# for reading and displaying images\n",
    "from skimage.io import imread\n",
    "import matplotlib.pyplot as plt\n",
    "import nibabel as nib\n",
    "from nilearn.image import resample_img\n",
    "from nilearn.image import new_img_like, load_img, clean_img, crop_img\n",
    "from nilearn.input_data import NiftiMasker\n",
    "from scipy.stats import zscore\n",
    "from glob import glob\n",
    "\n",
    "# for creating validation set\n",
    "from sklearn.model_selection import train_test_split\n",
    "# for evaluating the model\n",
    "from sklearn.metrics import accuracy_score\n",
    "\n",
    "# PyTorch libraries and modules\n",
    "import torch\n",
    "from torch.autograd import Variable\n",
    "import torch.nn as nn\n",
    "import torch.nn.functional as F\n",
    "from torch.optim import *\n",
    "import torch.optim as optim\n",
    "import h5py\n",
    "# from torchsummary import summary\n",
    "from tensorboardX import SummaryWriter\n",
    "\n",
    "from IPython import display\n",
    "%matplotlib inline"
   ]
  },
  {
   "cell_type": "code",
   "execution_count": 2,
   "metadata": {
    "ExecuteTime": {
     "end_time": "2020-12-04T12:57:41.774510Z",
     "start_time": "2020-12-04T12:57:41.617509Z"
    }
   },
   "outputs": [],
   "source": [
    "from src.dataloader import *\n",
    "\n",
    "train_dset = MyDataset(task_type='age')\n",
    "test_dset = MyDataset(task_type='age', test=True)\n",
    "\n",
    "train_loader = DataLoader(train_dset, batch_size=8)\n",
    "test_loader = DataLoader(test_dset, batch_size=8)"
   ]
  },
  {
   "cell_type": "code",
   "execution_count": 3,
   "metadata": {
    "ExecuteTime": {
     "end_time": "2020-12-04T12:57:42.904460Z",
     "start_time": "2020-12-04T12:57:41.776510Z"
    }
   },
   "outputs": [
    {
     "name": "stdout",
     "output_type": "stream",
     "text": [
      "Model Levakov is selected.\n"
     ]
    },
    {
     "data": {
      "text/plain": [
       "Levakov(\n",
       "  (BN): BatchNorm3d(1, eps=1e-05, momentum=0.1, affine=True, track_running_stats=True)\n",
       "  (layer1): Sequential(\n",
       "    (0): Conv3d(1, 8, kernel_size=(3, 3, 3), stride=(1, 1, 1))\n",
       "    (1): ReLU()\n",
       "    (2): Conv3d(8, 8, kernel_size=(3, 3, 3), stride=(1, 1, 1))\n",
       "    (3): ReLU()\n",
       "    (4): MaxPool3d(kernel_size=2, stride=2, padding=0, dilation=1, ceil_mode=False)\n",
       "    (5): BatchNorm3d(8, eps=1e-05, momentum=0.1, affine=True, track_running_stats=True)\n",
       "  )\n",
       "  (layer2): Sequential(\n",
       "    (0): Conv3d(8, 16, kernel_size=(3, 3, 3), stride=(1, 1, 1))\n",
       "    (1): ReLU()\n",
       "    (2): Conv3d(16, 16, kernel_size=(3, 3, 3), stride=(1, 1, 1))\n",
       "    (3): ReLU()\n",
       "    (4): MaxPool3d(kernel_size=2, stride=2, padding=0, dilation=1, ceil_mode=False)\n",
       "    (5): BatchNorm3d(16, eps=1e-05, momentum=0.1, affine=True, track_running_stats=True)\n",
       "    (6): Dropout(p=0.5, inplace=False)\n",
       "  )\n",
       "  (layer3): Sequential(\n",
       "    (0): Conv3d(16, 32, kernel_size=(3, 3, 3), stride=(1, 1, 1))\n",
       "    (1): ReLU()\n",
       "    (2): Conv3d(32, 32, kernel_size=(3, 3, 3), stride=(1, 1, 1))\n",
       "    (3): ReLU()\n",
       "    (4): MaxPool3d(kernel_size=2, stride=2, padding=0, dilation=1, ceil_mode=False)\n",
       "    (5): BatchNorm3d(32, eps=1e-05, momentum=0.1, affine=True, track_running_stats=True)\n",
       "    (6): Dropout(p=0.5, inplace=False)\n",
       "  )\n",
       "  (layer4): Sequential(\n",
       "    (0): Conv3d(32, 64, kernel_size=(3, 3, 3), stride=(1, 1, 1))\n",
       "    (1): ReLU()\n",
       "    (2): Conv3d(64, 64, kernel_size=(3, 3, 3), stride=(1, 1, 1))\n",
       "    (3): ReLU()\n",
       "    (4): MaxPool3d(kernel_size=2, stride=2, padding=0, dilation=1, ceil_mode=False)\n",
       "    (5): BatchNorm3d(64, eps=1e-05, momentum=0.1, affine=True, track_running_stats=True)\n",
       "    (6): Dropout(p=0.5, inplace=False)\n",
       "  )\n",
       "  (fc1): Linear(in_features=512, out_features=256, bias=True)\n",
       "  (fc2): Linear(in_features=256, out_features=128, bias=True)\n",
       "  (fc3): Linear(in_features=128, out_features=1, bias=True)\n",
       "  (fc4): Linear(in_features=1024, out_features=512, bias=True)\n",
       "  (fc5): Linear(in_features=512, out_features=1, bias=True)\n",
       "  (dropout): Dropout(p=0.3, inplace=False)\n",
       ")"
      ]
     },
     "execution_count": 3,
     "metadata": {},
     "output_type": "execute_result"
    }
   ],
   "source": [
    "model = 'levakov'\n",
    "device = torch.device('cuda:0' if torch.cuda.is_available() else 'cpu')\n",
    "print(f'Model {model.capitalize()} is selected.')\n",
    "\n",
    "\n",
    "if model == 'resnet':\n",
    "    from src.architectures.resnet import *\n",
    "\n",
    "    opt = Option()\n",
    "\n",
    "    device = torch.device('cuda:0' if torch.cuda.is_available() else 'cpu')\n",
    "\n",
    "    model = generate_model(model_depth=opt.model_depth,\n",
    "                                n_classes=opt.n_classes,\n",
    "                                n_input_channels=opt.n_input_channels,\n",
    "                                shortcut_type=opt.shortcut_type,\n",
    "                                conv1_t_size=opt.conv1_t_size,\n",
    "                                conv1_t_stride=opt.conv1_t_stride,\n",
    "                                no_max_pool=opt.no_max_pool,\n",
    "                                widen_factor=opt.resnet_widen_factor)\n",
    "    \n",
    "elif model == 'levakov':\n",
    "    from src.architectures.levakov_96 import *\n",
    "\n",
    "    model = Levakov(task_type='age')\n",
    "    \n",
    "else: pass\n",
    "model.to(device)"
   ]
  },
  {
   "cell_type": "code",
   "execution_count": 4,
   "metadata": {
    "ExecuteTime": {
     "end_time": "2020-12-04T12:57:42.935993Z",
     "start_time": "2020-12-04T12:57:42.913415Z"
    }
   },
   "outputs": [],
   "source": [
    "task_type = 'age'\n",
    "resize = True\n",
    "scheduler = False\n",
    "epochs = range(100)\n",
    "folds = range(10)"
   ]
  },
  {
   "cell_type": "code",
   "execution_count": 5,
   "metadata": {
    "ExecuteTime": {
     "end_time": "2020-12-04T12:57:42.951962Z",
     "start_time": "2020-12-04T12:57:42.936964Z"
    }
   },
   "outputs": [],
   "source": [
    "# summary = SummaryWriter(f'./tensorboard/{datetime.now().strftime(\"%Y-%m-%d_%H%M\")}')"
   ]
  },
  {
   "cell_type": "code",
   "execution_count": 6,
   "metadata": {
    "ExecuteTime": {
     "end_time": "2020-12-04T12:57:42.967993Z",
     "start_time": "2020-12-04T12:57:42.954964Z"
    }
   },
   "outputs": [],
   "source": [
    "from src.losses import RMSELoss"
   ]
  },
  {
   "cell_type": "code",
   "execution_count": 7,
   "metadata": {
    "ExecuteTime": {
     "end_time": "2020-12-04T12:57:42.983975Z",
     "start_time": "2020-12-04T12:57:42.968963Z"
    }
   },
   "outputs": [],
   "source": [
    "LOSS = {\n",
    "    'RMSE': RMSELoss(),\n",
    "    'MSE': nn.MSELoss(),\n",
    "}"
   ]
  },
  {
   "cell_type": "code",
   "execution_count": 8,
   "metadata": {
    "ExecuteTime": {
     "end_time": "2020-12-04T12:57:42.999963Z",
     "start_time": "2020-12-04T12:57:42.985962Z"
    }
   },
   "outputs": [],
   "source": [
    "# loss_fn = nn.MSELoss()\n",
    "loss = 'RMSE'\n",
    "\n",
    "loss_fn = LOSS[loss]\n",
    "optimizer = optim.Adam(model.parameters(), lr=1e-4)"
   ]
  },
  {
   "cell_type": "code",
   "execution_count": null,
   "metadata": {
    "ExecuteTime": {
     "start_time": "2020-12-04T12:57:46.635Z"
    },
    "scrolled": false
   },
   "outputs": [],
   "source": [
    "best_loss = 10\n",
    "\n",
    "trn_fold_losses, tst_fold_losses = [], []\n",
    "trn_fold_corrs, tst_fold_corrs = [], []\n",
    "for fold in folds:\n",
    "    \n",
    "    train_dset = MyDataset(task_type='age', fold=fold)\n",
    "    train_loader = DataLoader(train_dset, batch_size=8)\n",
    "    \n",
    "    trn_losses, tst_losses = [], []\n",
    "    for e in epochs:\n",
    "\n",
    "        # TRAIN\n",
    "        trn_bth_loss = 0\n",
    "        trn_trues, trn_preds = [], []\n",
    "        model.train()\n",
    "        for i, (x, y) in enumerate(train_loader):\n",
    "\n",
    "            if resize:\n",
    "                x, y = F.interpolate(x, size=(96, 96, 96)).to(device), y.to(device)\n",
    "\n",
    "            else:\n",
    "                x, y = x.to(device), y.to(device)\n",
    "\n",
    "            optimizer.zero_grad()\n",
    "\n",
    "            y_pred = model.forward(x).to(device)\n",
    "\n",
    "            trn_trues.append(y.to('cpu'))\n",
    "            trn_preds.append(y_pred.to('cpu'))\n",
    "\n",
    "            loss = loss_fn(y_pred.squeeze(1), y)\n",
    "            del x, y, y_pred\n",
    "\n",
    "            loss.backward()\n",
    "            optimizer.step()\n",
    "            if scheduler: scheduler.step()\n",
    "\n",
    "            trn_bth_loss += loss.item()\n",
    "\n",
    "        torch.cuda.empty_cache()\n",
    "\n",
    "        ### loss\n",
    "        trn_losses.append(trn_bth_loss / len(train_loader))\n",
    "\n",
    "        ### collect trues/predictions\n",
    "        trn_trues = list(chain(*trn_trues))\n",
    "        trn_preds = list(chain(*trn_preds))\n",
    "\n",
    "\n",
    "        # TEST\n",
    "        tst_bth_loss = 0\n",
    "        model.eval()\n",
    "        tst_trues, tst_preds = [], []\n",
    "        with torch.no_grad(): # to not give loads on GPU... :(\n",
    "            for i, (x, y) in enumerate(test_loader):\n",
    "                if resize:\n",
    "                    x, y = F.interpolate(x, size=(96, 96, 96)).to(device), y.to(device)\n",
    "\n",
    "                else:\n",
    "                    x, y = x.to(device), y.to(device)\n",
    "\n",
    "                y_pred = model.forward(x).to(device)\n",
    "\n",
    "                tst_trues.append(y.to('cpu'))\n",
    "                tst_preds.append(y_pred.to('cpu'))\n",
    "\n",
    "                loss = loss_fn(y_pred.squeeze(1), y)\n",
    "                del x, y, y_pred\n",
    "\n",
    "                tst_bth_loss += loss.item()\n",
    "\n",
    "        torch.cuda.empty_cache()\n",
    "        ### loss\n",
    "        tst_losses.append(tst_bth_loss / len(test_loader))\n",
    "\n",
    "        ### collect trues/predictions\n",
    "        tst_trues = list(chain(*tst_trues))\n",
    "        tst_preds = list(chain(*tst_preds))\n",
    "\n",
    "        reg_df = pd.DataFrame({\n",
    "            'True': list(map(float, trn_trues + tst_trues)),\n",
    "            'Prediction': list(map(float, trn_preds + tst_preds)),\n",
    "            'Label': ['train'] * len(trn_trues) + ['test'] * len(tst_trues)\n",
    "        })\n",
    "\n",
    "        trn_corr = reg_df[reg_df['Label'] == 'train'].corr().Prediction['True']\n",
    "        tst_corr = reg_df[reg_df['Label'] == 'test' ].corr().Prediction['True']\n",
    "\n",
    "        print(f'FOLD {fold}')\n",
    "        print(f'EPOCHS {e}')\n",
    "        print(f'RMSE :: [TRAIN] {trn_losses[-1]:.3f} | [VALID] {tst_losses[-1]:.3f}')\n",
    "        print(f'CORR :: [TRAIN] {trn_corr:.3f} | [VALID] {tst_corr:.3f}')\n",
    "\n",
    "        sns.lmplot(data=reg_df, x='True', y='Prediction', hue='Label')\n",
    "        plt.grid()\n",
    "        plt.show()\n",
    "\n",
    "        if e % 20 == 0:\n",
    "            plt.plot(trn_losses, label='Train')\n",
    "            plt.plot(tst_losses, label='Valid')\n",
    "            plt.title(f\"L1 Losses among epochs, {e}th\")\n",
    "            #plt.ylim(0, 500)\n",
    "            plt.grid()\n",
    "            plt.legend()\n",
    "    \n",
    "    trn_fold_losses.append(trn_losses)\n",
    "    trn_fold_corrs.append(trn_corr)\n",
    "    tst_fold_losses.append(tst_losses)\n",
    "    tst_fold_corrs.append(tst_corr)"
   ]
  },
  {
   "cell_type": "code",
   "execution_count": 42,
   "metadata": {
    "ExecuteTime": {
     "end_time": "2020-12-02T06:56:28.461921Z",
     "start_time": "2020-12-02T06:55:11.938226Z"
    },
    "scrolled": false
   },
   "outputs": [
    {
     "name": "stdout",
     "output_type": "stream",
     "text": [
      "EPOCHS 0\n",
      "RMSE :: [TRAIN] 21.335 | [VALID] 13.941\n",
      "CORR :: [TRAIN] 0.210 | [VALID] 0.653\n"
     ]
    },
    {
     "data": {
      "image/png": "[encoded data removed]",
      "text/plain": [
       "<Figure size 419.375x360 with 1 Axes>"
      ]
     },
     "metadata": {
      "needs_background": "light"
     },
     "output_type": "display_data"
    },
    {
     "ename": "NameError",
     "evalue": "name 'summary' is not defined",
     "output_type": "error",
     "traceback": [
      "\u001b[1;31m---------------------------------------------------------------------------\u001b[0m",
      "\u001b[1;31mNameError\u001b[0m                                 Traceback (most recent call last)",
      "\u001b[1;32m<ipython-input-42-3aa698b2c032>\u001b[0m in \u001b[0;36m<module>\u001b[1;34m\u001b[0m\n\u001b[0;32m     98\u001b[0m         \u001b[0mbest_loss\u001b[0m \u001b[1;33m=\u001b[0m \u001b[0mmin\u001b[0m\u001b[1;33m(\u001b[0m\u001b[0mtst_losses\u001b[0m\u001b[1;33m[\u001b[0m\u001b[1;33m-\u001b[0m\u001b[1;36m1\u001b[0m\u001b[1;33m]\u001b[0m\u001b[1;33m,\u001b[0m \u001b[0mbest_loss\u001b[0m\u001b[1;33m)\u001b[0m\u001b[1;33m\u001b[0m\u001b[1;33m\u001b[0m\u001b[0m\n\u001b[0;32m     99\u001b[0m \u001b[1;33m\u001b[0m\u001b[0m\n\u001b[1;32m--> 100\u001b[1;33m     summary.add_scalars('loss/RMSE_loss',\n\u001b[0m\u001b[0;32m    101\u001b[0m                          {'Train Loss': trn_losses[-1],\n\u001b[0;32m    102\u001b[0m                           'Valid Loss': tst_losses[-1]}, e)\n",
      "\u001b[1;31mNameError\u001b[0m: name 'summary' is not defined"
     ]
    }
   ],
   "source": [
    "trn_losses, tst_losses = [], []\n",
    "best_loss = 10\n",
    "\n",
    "for e in range(300):\n",
    "\n",
    "    # TRAIN\n",
    "    trn_bth_loss = 0\n",
    "    trn_trues, trn_preds = [], []\n",
    "    model.train()\n",
    "    for i, (x, y) in enumerate(train_loader):\n",
    "\n",
    "        if resize:\n",
    "            x, y = F.interpolate(x, size=(96, 96, 96)).to(device), y.to(device)\n",
    "\n",
    "        else:\n",
    "            x, y = x.to(device), y.to(device)\n",
    "\n",
    "        optimizer.zero_grad()\n",
    "\n",
    "        y_pred = model.forward(x).to(device)\n",
    "\n",
    "        trn_trues.append(y.to('cpu'))\n",
    "        trn_preds.append(y_pred.to('cpu'))\n",
    "\n",
    "        loss = torch.sqrt(loss_fn(y_pred.squeeze(1), y)) # <- for MSE -> RMSE\n",
    "#         loss = loss_fn(y_pred.squeeze(1), y)\n",
    "        del x, y, y_pred\n",
    "\n",
    "        loss.backward()\n",
    "        optimizer.step()\n",
    "        if scheduler: scheduler.step()\n",
    "\n",
    "        trn_bth_loss += loss.item()\n",
    "\n",
    "    torch.cuda.empty_cache()\n",
    "    \n",
    "    ### loss\n",
    "    trn_losses.append(trn_bth_loss / len(train_loader))\n",
    "\n",
    "    ### collect trues/predictions\n",
    "    trn_trues = list(chain(*trn_trues))\n",
    "    trn_preds = list(chain(*trn_preds))\n",
    "\n",
    "        \n",
    "    # TEST\n",
    "    tst_bth_loss = 0\n",
    "    model.eval()\n",
    "    tst_trues, tst_preds = [], []\n",
    "    with torch.no_grad(): # to not give loads on GPU... :(\n",
    "        for i, (x, y) in enumerate(test_loader):\n",
    "            if resize:\n",
    "                x, y = F.interpolate(x, size=(96, 96, 96)).to(device), y.to(device)\n",
    "\n",
    "            else:\n",
    "                x, y = x.to(device), y.to(device)\n",
    "\n",
    "            y_pred = model.forward(x).to(device)\n",
    "\n",
    "            tst_trues.append(y.to('cpu'))\n",
    "            tst_preds.append(y_pred.to('cpu'))\n",
    "\n",
    "            loss = torch.sqrt(loss_fn(y_pred.squeeze(1), y)) # <- for MSE -> RMSE\n",
    "#             loss = loss_fn(y_pred.squeeze(1), y)\n",
    "            del x, y, y_pred\n",
    "\n",
    "            tst_bth_loss += loss.item()\n",
    "\n",
    "    torch.cuda.empty_cache()\n",
    "    ### loss\n",
    "    tst_losses.append(tst_bth_loss / len(test_loader))\n",
    "\n",
    "    ### collect trues/predictions\n",
    "    tst_trues = list(chain(*tst_trues))\n",
    "    tst_preds = list(chain(*tst_preds))\n",
    "    \n",
    "    reg_df = pd.DataFrame({\n",
    "        'True': list(map(float, trn_trues + tst_trues)),\n",
    "        'Prediction': list(map(float, trn_preds + tst_preds)),\n",
    "        'Label': ['train'] * len(trn_trues) + ['test'] * len(tst_trues)\n",
    "    })\n",
    "    \n",
    "    trn_corr = reg_df[reg_df['Label'] == 'train'].corr().Prediction['True']\n",
    "    tst_corr = reg_df[reg_df['Label'] == 'test' ].corr().Prediction['True']\n",
    "\n",
    "    print(f'EPOCHS {e}')\n",
    "    print(f'RMSE :: [TRAIN] {trn_losses[-1]:.3f} | [VALID] {tst_losses[-1]:.3f}')\n",
    "    print(f'CORR :: [TRAIN] {trn_corr:.3f} | [VALID] {tst_corr:.3f}')\n",
    "    \n",
    "    sns.lmplot(data=reg_df, x='True', y='Prediction', hue='Label')\n",
    "    plt.grid()\n",
    "    plt.show()\n",
    "    \n",
    "    if best_loss - .02 > tst_losses[-1]:\n",
    "        \n",
    "        date = f'{datetime.now().strftime(\"%Y-%m-%d_%H%M\")}'\n",
    "        fname = f\"./models/{date}_{tst_losses[-1]:.3f}_model.pth\"\n",
    "        torch.save(model, fname)\n",
    "        best_loss = min(tst_losses[-1], best_loss)\n",
    "        \n",
    "    summary.add_scalars('loss/RMSE_loss',\n",
    "                         {'Train Loss': trn_losses[-1],\n",
    "                          'Valid Loss': tst_losses[-1]}, e)\n",
    "    summary.add_scalars('corr',\n",
    "                       {'Train Correlation': trn_corr,\n",
    "                        'Valid Correlation': tst_corr,\n",
    "                        'Total Correlation': reg_df.corr().Prediction['True']}, e)\n",
    "    \n",
    "    if e % 20 == 0:\n",
    "        plt.plot(trn_losses, label='Train')\n",
    "        plt.plot(tst_losses, label='Valid')\n",
    "        plt.title(f\"L1 Losses among epochs, {e}th\")\n",
    "        #plt.ylim(0, 500)\n",
    "        plt.grid()\n",
    "        plt.legend()"
   ]
  },
  {
   "cell_type": "code",
   "execution_count": 33,
   "metadata": {
    "ExecuteTime": {
     "end_time": "2020-11-25T01:39:21.428975Z",
     "start_time": "2020-11-25T01:39:21.421004Z"
    }
   },
   "outputs": [
    {
     "data": {
      "text/plain": [
       "9.09797722643072"
      ]
     },
     "execution_count": 33,
     "metadata": {},
     "output_type": "execute_result"
    }
   ],
   "source": [
    "best_loss"
   ]
  },
  {
   "cell_type": "code",
   "execution_count": 12,
   "metadata": {
    "ExecuteTime": {
     "end_time": "2020-11-23T09:08:28.506855Z",
     "start_time": "2020-11-23T09:08:28.494858Z"
    }
   },
   "outputs": [],
   "source": [
    "# %load ../2d_slice/src/slice_viewer.py"
   ]
  },
  {
   "cell_type": "code",
   "execution_count": 13,
   "metadata": {
    "ExecuteTime": {
     "end_time": "2020-11-23T09:08:28.521855Z",
     "start_time": "2020-11-23T09:08:28.508857Z"
    }
   },
   "outputs": [],
   "source": [
    "# SliceViewer(np.array(train_dset[0][0][0])).triple_view()"
   ]
  },
  {
   "cell_type": "code",
   "execution_count": null,
   "metadata": {},
   "outputs": [],
   "source": []
  }
 ],
 "metadata": {
  "kernelspec": {
   "display_name": "Python 3",
   "language": "python",
   "name": "python3"
  },
  "language_info": {
   "codemirror_mode": {
    "name": "ipython",
    "version": 3
   },
   "file_extension": ".py",
   "mimetype": "text/x-python",
   "name": "python",
   "nbconvert_exporter": "python",
   "pygments_lexer": "ipython3",
   "version": "3.7.7"
  },
  "toc": {
   "base_numbering": 1,
   "nav_menu": {},
   "number_sections": true,
   "sideBar": true,
   "skip_h1_title": false,
   "title_cell": "Table of Contents",
   "title_sidebar": "Contents",
   "toc_cell": false,
   "toc_position": {},
   "toc_section_display": true,
   "toc_window_display": false
  }
 },
 "nbformat": 4,
 "nbformat_minor": 4
}
