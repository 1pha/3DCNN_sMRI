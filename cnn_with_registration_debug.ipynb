{
 "cells": [
  {
   "cell_type": "code",
   "execution_count": 1,
   "metadata": {
    "ExecuteTime": {
     "end_time": "2020-12-04T13:18:03.841068Z",
     "start_time": "2020-12-04T13:18:00.497502Z"
    }
   },
   "outputs": [],
   "source": [
    "# importing the libraries\n",
    "import pandas as pd\n",
    "import numpy as np\n",
    "from tqdm import tqdm\n",
    "import os\n",
    "from itertools import chain\n",
    "import seaborn as sns\n",
    "from datetime import datetime\n",
    "\n",
    "# for reading and displaying images\n",
    "from skimage.io import imread\n",
    "import matplotlib.pyplot as plt\n",
    "import nibabel as nib\n",
    "from nilearn.image import resample_img\n",
    "from nilearn.image import new_img_like, load_img, clean_img, crop_img\n",
    "from nilearn.input_data import NiftiMasker\n",
    "from scipy.stats import zscore\n",
    "from glob import glob\n",
    "\n",
    "# for creating validation set\n",
    "from sklearn.model_selection import train_test_split\n",
    "# for evaluating the model\n",
    "from sklearn.metrics import accuracy_score\n",
    "\n",
    "# PyTorch libraries and modules\n",
    "import torch\n",
    "from torch.autograd import Variable\n",
    "import torch.nn as nn\n",
    "import torch.nn.functional as F\n",
    "from torch.optim import *\n",
    "import torch.optim as optim\n",
    "import h5py\n",
    "# from torchsummary import summary\n",
    "from tensorboardX import SummaryWriter\n",
    "\n",
    "from IPython import display\n",
    "%matplotlib inline"
   ]
  },
  {
   "cell_type": "code",
   "execution_count": 2,
   "metadata": {
    "ExecuteTime": {
     "end_time": "2020-12-04T13:18:03.999285Z",
     "start_time": "2020-12-04T13:18:03.843032Z"
    }
   },
   "outputs": [],
   "source": [
    "from src.dataloader import *\n",
    "\n",
    "train_dset = MyDataset(task_type='age')\n",
    "test_dset = MyDataset(task_type='age', test=True)\n",
    "\n",
    "train_loader = DataLoader(train_dset, batch_size=8)\n",
    "test_loader = DataLoader(test_dset, batch_size=8)"
   ]
  },
  {
   "cell_type": "code",
   "execution_count": 3,
   "metadata": {
    "ExecuteTime": {
     "end_time": "2020-12-04T13:18:05.328220Z",
     "start_time": "2020-12-04T13:18:04.006285Z"
    }
   },
   "outputs": [
    {
     "name": "stdout",
     "output_type": "stream",
     "text": [
      "Model Levakov is selected.\n"
     ]
    },
    {
     "data": {
      "text/plain": [
       "Levakov(\n",
       "  (BN): BatchNorm3d(1, eps=1e-05, momentum=0.1, affine=True, track_running_stats=True)\n",
       "  (layer1): Sequential(\n",
       "    (0): Conv3d(1, 8, kernel_size=(3, 3, 3), stride=(1, 1, 1))\n",
       "    (1): ReLU()\n",
       "    (2): Conv3d(8, 8, kernel_size=(3, 3, 3), stride=(1, 1, 1))\n",
       "    (3): ReLU()\n",
       "    (4): MaxPool3d(kernel_size=2, stride=2, padding=0, dilation=1, ceil_mode=False)\n",
       "    (5): BatchNorm3d(8, eps=1e-05, momentum=0.1, affine=True, track_running_stats=True)\n",
       "  )\n",
       "  (layer2): Sequential(\n",
       "    (0): Conv3d(8, 16, kernel_size=(3, 3, 3), stride=(1, 1, 1))\n",
       "    (1): ReLU()\n",
       "    (2): Conv3d(16, 16, kernel_size=(3, 3, 3), stride=(1, 1, 1))\n",
       "    (3): ReLU()\n",
       "    (4): MaxPool3d(kernel_size=2, stride=2, padding=0, dilation=1, ceil_mode=False)\n",
       "    (5): BatchNorm3d(16, eps=1e-05, momentum=0.1, affine=True, track_running_stats=True)\n",
       "    (6): Dropout(p=0.5, inplace=False)\n",
       "  )\n",
       "  (layer3): Sequential(\n",
       "    (0): Conv3d(16, 32, kernel_size=(3, 3, 3), stride=(1, 1, 1))\n",
       "    (1): ReLU()\n",
       "    (2): Conv3d(32, 32, kernel_size=(3, 3, 3), stride=(1, 1, 1))\n",
       "    (3): ReLU()\n",
       "    (4): MaxPool3d(kernel_size=2, stride=2, padding=0, dilation=1, ceil_mode=False)\n",
       "    (5): BatchNorm3d(32, eps=1e-05, momentum=0.1, affine=True, track_running_stats=True)\n",
       "    (6): Dropout(p=0.5, inplace=False)\n",
       "  )\n",
       "  (layer4): Sequential(\n",
       "    (0): Conv3d(32, 64, kernel_size=(3, 3, 3), stride=(1, 1, 1))\n",
       "    (1): ReLU()\n",
       "    (2): Conv3d(64, 64, kernel_size=(3, 3, 3), stride=(1, 1, 1))\n",
       "    (3): ReLU()\n",
       "    (4): MaxPool3d(kernel_size=2, stride=2, padding=0, dilation=1, ceil_mode=False)\n",
       "    (5): BatchNorm3d(64, eps=1e-05, momentum=0.1, affine=True, track_running_stats=True)\n",
       "    (6): Dropout(p=0.5, inplace=False)\n",
       "  )\n",
       "  (fc1): Linear(in_features=512, out_features=256, bias=True)\n",
       "  (fc2): Linear(in_features=256, out_features=128, bias=True)\n",
       "  (fc3): Linear(in_features=128, out_features=1, bias=True)\n",
       "  (fc4): Linear(in_features=1024, out_features=512, bias=True)\n",
       "  (fc5): Linear(in_features=512, out_features=1, bias=True)\n",
       "  (dropout): Dropout(p=0.3, inplace=False)\n",
       ")"
      ]
     },
     "execution_count": 3,
     "metadata": {},
     "output_type": "execute_result"
    }
   ],
   "source": [
    "model = 'resnet'\n",
    "device = torch.device('cuda:0' if torch.cuda.is_available() else 'cpu')\n",
    "print(f'Model {model.capitalize()} is selected.')\n",
    "\n",
    "\n",
    "if model == 'resnet':\n",
    "    from src.architectures.resnet import *\n",
    "\n",
    "    opt = Option()\n",
    "\n",
    "    device = torch.device('cuda:0' if torch.cuda.is_available() else 'cpu')\n",
    "\n",
    "    model = generate_model(model_depth=opt.model_depth,\n",
    "                                n_classes=opt.n_classes,\n",
    "                                n_input_channels=opt.n_input_channels,\n",
    "                                shortcut_type=opt.shortcut_type,\n",
    "                                conv1_t_size=opt.conv1_t_size,\n",
    "                                conv1_t_stride=opt.conv1_t_stride,\n",
    "                                no_max_pool=opt.no_max_pool,\n",
    "                                widen_factor=opt.resnet_widen_factor)\n",
    "    \n",
    "elif model == 'levakov':\n",
    "    from src.architectures.levakov_96 import *\n",
    "\n",
    "    model = Levakov(task_type='age')\n",
    "    \n",
    "else: pass\n",
    "model.to(device)"
   ]
  },
  {
   "cell_type": "code",
   "execution_count": 4,
   "metadata": {
    "ExecuteTime": {
     "end_time": "2020-12-04T13:18:05.344220Z",
     "start_time": "2020-12-04T13:18:05.331223Z"
    }
   },
   "outputs": [],
   "source": [
    "task_type = 'age'\n",
    "resize = True\n",
    "scheduler = False\n",
    "epochs = range(100)\n",
    "folds = range(10)"
   ]
  },
  {
   "cell_type": "code",
   "execution_count": 5,
   "metadata": {
    "ExecuteTime": {
     "end_time": "2020-12-04T13:18:05.360219Z",
     "start_time": "2020-12-04T13:18:05.346224Z"
    }
   },
   "outputs": [],
   "source": [
    "# summary = SummaryWriter(f'./tensorboard/{datetime.now().strftime(\"%Y-%m-%d_%H%M\")}')"
   ]
  },
  {
   "cell_type": "code",
   "execution_count": 6,
   "metadata": {
    "ExecuteTime": {
     "end_time": "2020-12-04T13:18:05.376220Z",
     "start_time": "2020-12-04T13:18:05.361220Z"
    }
   },
   "outputs": [],
   "source": [
    "from src.losses import RMSELoss"
   ]
  },
  {
   "cell_type": "code",
   "execution_count": 7,
   "metadata": {
    "ExecuteTime": {
     "end_time": "2020-12-04T13:18:05.392220Z",
     "start_time": "2020-12-04T13:18:05.378222Z"
    }
   },
   "outputs": [],
   "source": [
    "LOSS = {\n",
    "    'RMSE': RMSELoss(),\n",
    "    'MSE': nn.MSELoss(),\n",
    "}"
   ]
  },
  {
   "cell_type": "code",
   "execution_count": 8,
   "metadata": {
    "ExecuteTime": {
     "end_time": "2020-12-04T13:18:05.408220Z",
     "start_time": "2020-12-04T13:18:05.393221Z"
    }
   },
   "outputs": [],
   "source": [
    "# loss_fn = nn.MSELoss()\n",
    "loss = 'RMSE'\n",
    "\n",
    "loss_fn = LOSS[loss]\n",
    "optimizer = optim.Adam(model.parameters(), lr=1e-4)"
   ]
  },
  {
   "cell_type": "code",
   "execution_count": 42,
   "metadata": {
    "ExecuteTime": {
     "end_time": "2020-12-06T10:01:42.765233Z",
     "start_time": "2020-12-06T10:01:42.759230Z"
    }
   },
   "outputs": [],
   "source": [
    "reg_df = pd.concat([reg_df, reg_df], ignore_index=True)"
   ]
  },
  {
   "cell_type": "code",
   "execution_count": null,
   "metadata": {
    "ExecuteTime": {
     "end_time": "2020-12-05T09:57:38.101011Z",
     "start_time": "2020-12-04T13:18:05.409221Z"
    }
   },
   "outputs": [],
   "source": [
    "best_loss = 10\n",
    "\n",
    "trn_fold_losses, tst_fold_losses = [], []\n",
    "trn_fold_corrs, tst_fold_corrs = [], []\n",
    "for fold in folds:\n",
    "    \n",
    "    train_dset = MyDataset(task_type='age', fold=fold)\n",
    "    test_dset = MyDataset(task_type='age', test=True, fold=fold)\n",
    "\n",
    "    train_loader = DataLoader(train_dset, batch_size=8)\n",
    "    test_loader = DataLoader(test_dset, batch_size=8)\n",
    "    \n",
    "    trn_losses, tst_losses = [], []\n",
    "    for e in epochs:\n",
    "\n",
    "        # TRAIN\n",
    "        trn_bth_loss = 0\n",
    "        trn_trues, trn_preds = [], []\n",
    "        model.train()\n",
    "        for i, (x, y) in enumerate(train_loader):\n",
    "\n",
    "            if resize:\n",
    "                x, y = F.interpolate(x, size=(96, 96, 96)).to(device), y.to(device)\n",
    "\n",
    "            else:\n",
    "                x, y = x.to(device), y.to(device)\n",
    "\n",
    "            optimizer.zero_grad()\n",
    "\n",
    "            y_pred = model.forward(x).to(device)\n",
    "\n",
    "            trn_trues.append(y.to('cpu'))\n",
    "            trn_preds.append(y_pred.to('cpu'))\n",
    "\n",
    "            loss = loss_fn(y_pred.squeeze(1), y)\n",
    "            del x, y, y_pred\n",
    "\n",
    "            loss.backward()\n",
    "            optimizer.step()\n",
    "            if scheduler: scheduler.step()\n",
    "\n",
    "            trn_bth_loss += loss.item()\n",
    "\n",
    "        torch.cuda.empty_cache()\n",
    "\n",
    "        ### loss\n",
    "        trn_losses.append(trn_bth_loss / len(train_loader))\n",
    "\n",
    "        ### collect trues/predictions\n",
    "        trn_trues = list(chain(*trn_trues))\n",
    "        trn_preds = list(chain(*trn_preds))\n",
    "\n",
    "\n",
    "        # TEST\n",
    "        tst_bth_loss = 0\n",
    "        model.eval()\n",
    "        tst_trues, tst_preds = [], []\n",
    "        with torch.no_grad(): # to not give loads on GPU... :(\n",
    "            for i, (x, y) in enumerate(test_loader):\n",
    "                if resize:\n",
    "                    x, y = F.interpolate(x, size=(96, 96, 96)).to(device), y.to(device)\n",
    "\n",
    "                else:\n",
    "                    x, y = x.to(device), y.to(device)\n",
    "\n",
    "                y_pred = model.forward(x).to(device)\n",
    "\n",
    "                tst_trues.append(y.to('cpu'))\n",
    "                tst_preds.append(y_pred.to('cpu'))\n",
    "\n",
    "                loss = loss_fn(y_pred.squeeze(1), y)\n",
    "                del x, y, y_pred\n",
    "\n",
    "                tst_bth_loss += loss.item()\n",
    "\n",
    "        torch.cuda.empty_cache()\n",
    "        ### loss\n",
    "        tst_losses.append(tst_bth_loss / len(test_loader))\n",
    "\n",
    "        ### collect trues/predictions\n",
    "        tst_trues = list(chain(*tst_trues))\n",
    "        tst_preds = list(chain(*tst_preds))\n",
    "\n",
    "        reg_df = pd.DataFrame({\n",
    "            'True': list(map(float, trn_trues + tst_trues)),\n",
    "            'Prediction': list(map(float, trn_preds + tst_preds)),\n",
    "            'Label': ['train'] * len(trn_trues) + ['valid'] * len(tst_trues)\n",
    "        })\n",
    "\n",
    "        trn_corr = reg_df[reg_df['Label'] == 'train'].corr().Prediction['True']\n",
    "        tst_corr = reg_df[reg_df['Label'] == 'valid'].corr().Prediction['True']\n",
    "\n",
    "        print(f'FOLD {fold}')\n",
    "        print(f'EPOCHS {e}')\n",
    "        print(f'RMSE :: [TRAIN] {trn_losses[-1]:.3f} | [VALID] {tst_losses[-1]:.3f}')\n",
    "        print(f'CORR :: [TRAIN] {trn_corr:.3f} | [VALID] {tst_corr:.3f}')\n",
    "\n",
    "        sns.lmplot(data=reg_df, x='True', y='Prediction', hue='Label')\n",
    "        plt.grid()\n",
    "        plt.show()\n",
    "\n",
    "        if e % 10 == 0:\n",
    "            plt.title(f\"L1 Losses among epochs, {e}th\")\n",
    "            plt.plot(trn_losses, label='Train')\n",
    "            plt.plot(tst_losses, label='Valid')\n",
    "            plt.grid(); plt.legend()\n",
    "            \n",
    "            sns.lmplot(data=reg_df, x='True', y='Prediction', hue='Label')\n",
    "            plt.grid()\n",
    "            plt.show()\n",
    "    \n",
    "    trn_fold_losses.append(trn_losses)\n",
    "    trn_fold_corrs.append(trn_corr)\n",
    "    tst_fold_losses.append(tst_losses)\n",
    "    tst_fold_corrs.append(tst_corr)\n",
    "    \n",
    "    # TEST\n",
    "    tst_bth_loss = 0\n",
    "    model.eval()\n",
    "    tst_trues, tst_preds = [], []\n",
    "    with torch.no_grad(): # to not give loads on GPU... :(\n",
    "        for i, (x, y) in enumerate(test_loader):\n",
    "            if resize:\n",
    "                x, y = F.interpolate(x, size=(96, 96, 96)).to(device), y.to(device)\n",
    "\n",
    "            else:\n",
    "                x, y = x.to(device), y.to(device)\n",
    "\n",
    "            y_pred = model.forward(x).to(device)\n",
    "\n",
    "            tst_trues.append(y.to('cpu'))\n",
    "            tst_preds.append(y_pred.to('cpu'))\n",
    "\n",
    "            loss = loss_fn(y_pred.squeeze(1), y)\n",
    "            del x, y, y_pred\n",
    "\n",
    "            tst_bth_loss += loss.item()\n",
    "\n",
    "    torch.cuda.empty_cache()\n",
    "    ### loss\n",
    "    tst_loss = tst_bth_loss / len(test_loader)\n",
    "\n",
    "    ### collect trues/predictions\n",
    "    tst_trues = list(chain(*tst_trues))\n",
    "    tst_preds = list(chain(*tst_preds))\n",
    "    \n",
    "    tst_df = pd.DataFrame({\n",
    "        'True': list(map(float, tst_trues)),\n",
    "        'Prediction': list(map(float, tst_preds)),\n",
    "        'Label': ['test'] * len(tst_trues)\n",
    "    })\n",
    "    reg_df = pd.concat([reg_df, tst_df], ignore_index=True)\n",
    "\n",
    "    tst_corr = reg_df[reg_df['Label'] == 'test'].corr().Prediction['True']\n",
    "    print(f'RMSE :: [TEST] {tst_loss:.3f}')\n",
    "    print(f'CORR :: [TEST] {tst_corr:.3f}')\n",
    "\n",
    "    sns.lmplot(data=reg_df, x='True', y='Prediction', hue='Label')\n",
    "    plt.grid()\n",
    "    plt.show()"
   ]
  },
  {
   "cell_type": "code",
   "execution_count": 10,
   "metadata": {
    "ExecuteTime": {
     "end_time": "2020-12-05T09:57:38.418562Z",
     "start_time": "2020-12-05T09:57:38.103011Z"
    }
   },
   "outputs": [],
   "source": [
    "test_dset = MyDataset(task_type='age', test=True)\n",
    "test_loader = DataLoader(test_dset, batch_size=8)"
   ]
  },
  {
   "cell_type": "code",
   "execution_count": 11,
   "metadata": {
    "ExecuteTime": {
     "end_time": "2020-12-05T09:57:52.670492Z",
     "start_time": "2020-12-05T09:57:38.419569Z"
    }
   },
   "outputs": [
    {
     "name": "stdout",
     "output_type": "stream",
     "text": [
      "RMSE :: [VALID] 9.131\n",
      "CORR :: [VALID] 0.813\n"
     ]
    },
    {
     "data": {
      "image/png": "[encoded data removed]",
      "text/plain": [
       "<Figure size 415.125x360 with 1 Axes>"
      ]
     },
     "metadata": {
      "needs_background": "light"
     },
     "output_type": "display_data"
    }
   ],
   "source": [
    "# TEST\n",
    "tst_bth_loss = 0\n",
    "model.eval()\n",
    "tst_trues, tst_preds = [], []\n",
    "with torch.no_grad(): # to not give loads on GPU... :(\n",
    "    for i, (x, y) in enumerate(test_loader):\n",
    "        if resize:\n",
    "            x, y = F.interpolate(x, size=(96, 96, 96)).to(device), y.to(device)\n",
    "\n",
    "        else:\n",
    "            x, y = x.to(device), y.to(device)\n",
    "\n",
    "        y_pred = model.forward(x).to(device)\n",
    "\n",
    "        tst_trues.append(y.to('cpu'))\n",
    "        tst_preds.append(y_pred.to('cpu'))\n",
    "\n",
    "        loss = loss_fn(y_pred.squeeze(1), y)\n",
    "        del x, y, y_pred\n",
    "\n",
    "        tst_bth_loss += loss.item()\n",
    "\n",
    "torch.cuda.empty_cache()\n",
    "### loss\n",
    "tst_loss = tst_bth_loss / len(test_loader)\n",
    "\n",
    "### collect trues/predictions\n",
    "tst_trues = list(chain(*tst_trues))\n",
    "tst_preds = list(chain(*tst_preds))\n",
    "\n",
    "reg_df = pd.DataFrame({\n",
    "    'True': list(map(float, tst_trues)),\n",
    "    'Prediction': list(map(float, tst_preds)),\n",
    "    'Label': ['test'] * len(tst_trues)\n",
    "})\n",
    "\n",
    "tst_corr = reg_df[reg_df['Label'] == 'test' ].corr().Prediction['True']\n",
    "print(f'RMSE :: [VALID] {tst_loss:.3f}')\n",
    "print(f'CORR :: [VALID] {tst_corr:.3f}')\n",
    "\n",
    "sns.lmplot(data=reg_df, x='True', y='Prediction', hue='Label')\n",
    "plt.grid()\n",
    "plt.show()"
   ]
  },
  {
   "cell_type": "code",
   "execution_count": 30,
   "metadata": {
    "ExecuteTime": {
     "end_time": "2020-12-06T09:48:28.890498Z",
     "start_time": "2020-12-06T09:48:28.878901Z"
    }
   },
   "outputs": [],
   "source": [
    "trn_fold_losses_np = np.array(trn_fold_losses)\n",
    "tst_fold_losses_np = np.array(tst_fold_losses)\n",
    "\n",
    "trn_loss_avg = np.average(trn_fold_losses_np, axis=0)\n",
    "trn_loss_std = np.std(trn_fold_losses_np, axis=0)\n",
    "\n",
    "tst_loss_avg = np.average(tst_fold_losses_np, axis=0)\n",
    "tst_loss_std = np.std(tst_fold_losses_np, axis=0)\n",
    "\n",
    "plt.figure(figsize=(7, 4))\n",
    "plt.title('Train/Valid Loss Among Epochs 100, Fold 10')\n",
    "\n",
    "plt.plot(trn_loss_avg, label='Train')\n",
    "plt.fill_between(range(100), trn_loss_avg-trn_loss_std, trn_loss_avg+trn_loss_std, alpha=.2)\n",
    "plt.plot(tst_loss_avg, label='Valid')\n",
    "plt.fill_between(range(100), tst_loss_avg-trn_loss_std, tst_loss_avg+trn_loss_std, alpha=.2)\n",
    "\n",
    "plt.xlabel('Epochs')\n",
    "plt.ylabel('RMSE loss')\n",
    "\n",
    "plt.legend()\n",
    "plt.ylim(5, 15)\n",
    "plt.grid()"
   ]
  },
  {
   "cell_type": "code",
   "execution_count": 12,
   "metadata": {
    "ExecuteTime": {
     "end_time": "2020-12-05T09:57:52.686508Z",
     "start_time": "2020-12-05T09:57:52.671493Z"
    },
    "scrolled": false
   },
   "outputs": [],
   "source": [
    "# trn_losses, tst_losses = [], []\n",
    "# best_loss = 10\n",
    "\n",
    "# for e in range(300):\n",
    "\n",
    "#     # TRAIN\n",
    "#     trn_bth_loss = 0\n",
    "#     trn_trues, trn_preds = [], []\n",
    "#     model.train()\n",
    "#     for i, (x, y) in enumerate(train_loader):\n",
    "\n",
    "#         if resize:\n",
    "#             x, y = F.interpolate(x, size=(96, 96, 96)).to(device), y.to(device)\n",
    "\n",
    "#         else:\n",
    "#             x, y = x.to(device), y.to(device)\n",
    "\n",
    "#         optimizer.zero_grad()\n",
    "\n",
    "#         y_pred = model.forward(x).to(device)\n",
    "\n",
    "#         trn_trues.append(y.to('cpu'))\n",
    "#         trn_preds.append(y_pred.to('cpu'))\n",
    "\n",
    "#         loss = torch.sqrt(loss_fn(y_pred.squeeze(1), y)) # <- for MSE -> RMSE\n",
    "# #         loss = loss_fn(y_pred.squeeze(1), y)\n",
    "#         del x, y, y_pred\n",
    "\n",
    "#         loss.backward()\n",
    "#         optimizer.step()\n",
    "#         if scheduler: scheduler.step()\n",
    "\n",
    "#         trn_bth_loss += loss.item()\n",
    "\n",
    "#     torch.cuda.empty_cache()\n",
    "    \n",
    "#     ### loss\n",
    "#     trn_losses.append(trn_bth_loss / len(train_loader))\n",
    "\n",
    "#     ### collect trues/predictions\n",
    "#     trn_trues = list(chain(*trn_trues))\n",
    "#     trn_preds = list(chain(*trn_preds))\n",
    "\n",
    "        \n",
    "#     # TEST\n",
    "#     tst_bth_loss = 0\n",
    "#     model.eval()\n",
    "#     tst_trues, tst_preds = [], []\n",
    "#     with torch.no_grad(): # to not give loads on GPU... :(\n",
    "#         for i, (x, y) in enumerate(test_loader):\n",
    "#             if resize:\n",
    "#                 x, y = F.interpolate(x, size=(96, 96, 96)).to(device), y.to(device)\n",
    "\n",
    "#             else:\n",
    "#                 x, y = x.to(device), y.to(device)\n",
    "\n",
    "#             y_pred = model.forward(x).to(device)\n",
    "\n",
    "#             tst_trues.append(y.to('cpu'))\n",
    "#             tst_preds.append(y_pred.to('cpu'))\n",
    "\n",
    "#             loss = torch.sqrt(loss_fn(y_pred.squeeze(1), y)) # <- for MSE -> RMSE\n",
    "# #             loss = loss_fn(y_pred.squeeze(1), y)\n",
    "#             del x, y, y_pred\n",
    "\n",
    "#             tst_bth_loss += loss.item()\n",
    "\n",
    "#     torch.cuda.empty_cache()\n",
    "#     ### loss\n",
    "#     tst_losses.append(tst_bth_loss / len(test_loader))\n",
    "\n",
    "#     ### collect trues/predictions\n",
    "#     tst_trues = list(chain(*tst_trues))\n",
    "#     tst_preds = list(chain(*tst_preds))\n",
    "    \n",
    "#     reg_df = pd.DataFrame({\n",
    "#         'True': list(map(float, trn_trues + tst_trues)),\n",
    "#         'Prediction': list(map(float, trn_preds + tst_preds)),\n",
    "#         'Label': ['train'] * len(trn_trues) + ['test'] * len(tst_trues)\n",
    "#     })\n",
    "    \n",
    "#     trn_corr = reg_df[reg_df['Label'] == 'train'].corr().Prediction['True']\n",
    "#     tst_corr = reg_df[reg_df['Label'] == 'test' ].corr().Prediction['True']\n",
    "\n",
    "#     print(f'EPOCHS {e}')\n",
    "#     print(f'RMSE :: [TRAIN] {trn_losses[-1]:.3f} | [VALID] {tst_losses[-1]:.3f}')\n",
    "#     print(f'CORR :: [TRAIN] {trn_corr:.3f} | [VALID] {tst_corr:.3f}')\n",
    "    \n",
    "#     sns.lmplot(data=reg_df, x='True', y='Prediction', hue='Label')\n",
    "#     plt.grid()\n",
    "#     plt.show()\n",
    "    \n",
    "#     if best_loss - .02 > tst_losses[-1]:\n",
    "        \n",
    "#         date = f'{datetime.now().strftime(\"%Y-%m-%d_%H%M\")}'\n",
    "#         fname = f\"./models/{date}_{tst_losses[-1]:.3f}_model.pth\"\n",
    "#         torch.save(model, fname)\n",
    "#         best_loss = min(tst_losses[-1], best_loss)\n",
    "        \n",
    "#     summary.add_scalars('loss/RMSE_loss',\n",
    "#                          {'Train Loss': trn_losses[-1],\n",
    "#                           'Valid Loss': tst_losses[-1]}, e)\n",
    "#     summary.add_scalars('corr',\n",
    "#                        {'Train Correlation': trn_corr,\n",
    "#                         'Valid Correlation': tst_corr,\n",
    "#                         'Total Correlation': reg_df.corr().Prediction['True']}, e)\n",
    "    \n",
    "#     if e % 20 == 0:\n",
    "#         plt.plot(trn_losses, label='Train')\n",
    "#         plt.plot(tst_losses, label='Valid')\n",
    "#         plt.title(f\"L1 Losses among epochs, {e}th\")\n",
    "#         #plt.ylim(0, 500)\n",
    "#         plt.grid()\n",
    "#         plt.legend()"
   ]
  },
  {
   "cell_type": "code",
   "execution_count": 13,
   "metadata": {
    "ExecuteTime": {
     "end_time": "2020-12-05T09:57:52.702506Z",
     "start_time": "2020-12-05T09:57:52.687508Z"
    }
   },
   "outputs": [
    {
     "data": {
      "text/plain": [
       "10"
      ]
     },
     "execution_count": 13,
     "metadata": {},
     "output_type": "execute_result"
    }
   ],
   "source": [
    "best_loss"
   ]
  },
  {
   "cell_type": "code",
   "execution_count": 14,
   "metadata": {
    "ExecuteTime": {
     "end_time": "2020-12-05T09:57:52.718506Z",
     "start_time": "2020-12-05T09:57:52.703508Z"
    }
   },
   "outputs": [],
   "source": [
    "# %load ../2d_slice/src/slice_viewer.py"
   ]
  },
  {
   "cell_type": "code",
   "execution_count": 15,
   "metadata": {
    "ExecuteTime": {
     "end_time": "2020-12-05T09:57:52.734507Z",
     "start_time": "2020-12-05T09:57:52.719508Z"
    }
   },
   "outputs": [],
   "source": [
    "# SliceViewer(np.array(train_dset[0][0][0])).triple_view()"
   ]
  },
  {
   "cell_type": "code",
   "execution_count": null,
   "metadata": {},
   "outputs": [],
   "source": []
  }
 ],
 "metadata": {
  "kernelspec": {
   "display_name": "Python 3",
   "language": "python",
   "name": "python3"
  },
  "language_info": {
   "codemirror_mode": {
    "name": "ipython",
    "version": 3
   },
   "file_extension": ".py",
   "mimetype": "text/x-python",
   "name": "python",
   "nbconvert_exporter": "python",
   "pygments_lexer": "ipython3",
   "version": "3.7.7"
  },
  "toc": {
   "base_numbering": 1,
   "nav_menu": {},
   "number_sections": true,
   "sideBar": true,
   "skip_h1_title": false,
   "title_cell": "Table of Contents",
   "title_sidebar": "Contents",
   "toc_cell": false,
   "toc_position": {},
   "toc_section_display": true,
   "toc_window_display": false
  }
 },
 "nbformat": 4,
 "nbformat_minor": 4
}
