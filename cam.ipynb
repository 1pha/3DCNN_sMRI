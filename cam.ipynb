{
 "cells": [
  {
   "cell_type": "markdown",
   "metadata": {},
   "source": [
    "## Import"
   ]
  },
  {
   "cell_type": "code",
   "execution_count": 2,
   "metadata": {
    "ExecuteTime": {
     "end_time": "2021-01-12T07:31:53.565397Z",
     "start_time": "2021-01-12T07:31:49.393717Z"
    }
   },
   "outputs": [],
   "source": [
    "# importing the libraries\n",
    "import pandas as pd\n",
    "import numpy as np\n",
    "import seaborn as sns\n",
    "from itertools import chain\n",
    "\n",
    "# for reading and displaying images\n",
    "import matplotlib.pyplot as plt\n",
    "from glob import glob\n",
    "\n",
    "# for creating validation set\n",
    "from sklearn.model_selection import train_test_split\n",
    "\n",
    "# PyTorch libraries and modules\n",
    "import torch\n",
    "import torch.nn as nn\n",
    "import torch.nn.functional as F\n",
    "import torchvision.datasets as dset\n",
    "from torch.utils.data import DataLoader\n",
    "\n",
    "# models\n",
    "from src.dataloader import *\n",
    "from src.architectures.resnet import *\n",
    "from src.architectures.levakov_96 import *\n",
    "from src.architectures.inception import *\n",
    "from src.architectures.dinsdale import *\n",
    "\n",
    "from src.run import *\n",
    "\n",
    "from torch.optim import *\n",
    "import torch.optim as optim\n",
    "from torchsummary import summary\n",
    "\n",
    "# CAM\n",
    "from PIL import Image\n",
    "from matplotlib.pyplot import imshow\n",
    "\n",
    "from medcam import medcam"
   ]
  },
  {
   "cell_type": "markdown",
   "metadata": {},
   "source": [
    "## Load Model"
   ]
  },
  {
   "cell_type": "code",
   "execution_count": 3,
   "metadata": {
    "ExecuteTime": {
     "end_time": "2021-01-12T07:31:55.589469Z",
     "start_time": "2021-01-12T07:31:53.566394Z"
    }
   },
   "outputs": [
    {
     "name": "stdout",
     "output_type": "stream",
     "text": [
      "Model Resnet is selected.\n",
      "----------------------------------------------------------------\n",
      "        Layer (type)               Output Shape         Param #\n",
      "================================================================\n",
      "            Conv3d-1       [-1, 16, 96, 48, 48]           2,352\n",
      "       BatchNorm3d-2       [-1, 16, 96, 48, 48]              32\n",
      "              ReLU-3       [-1, 16, 96, 48, 48]               0\n",
      "         MaxPool3d-4       [-1, 16, 48, 24, 24]               0\n",
      "            Conv3d-5       [-1, 16, 48, 24, 24]           6,912\n",
      "       BatchNorm3d-6       [-1, 16, 48, 24, 24]              32\n",
      "              ReLU-7       [-1, 16, 48, 24, 24]               0\n",
      "            Conv3d-8       [-1, 16, 48, 24, 24]           6,912\n",
      "       BatchNorm3d-9       [-1, 16, 48, 24, 24]              32\n",
      "             ReLU-10       [-1, 16, 48, 24, 24]               0\n",
      "       BasicBlock-11       [-1, 16, 48, 24, 24]               0\n",
      "           Conv3d-12       [-1, 32, 24, 12, 12]          13,824\n",
      "      BatchNorm3d-13       [-1, 32, 24, 12, 12]              64\n",
      "             ReLU-14       [-1, 32, 24, 12, 12]               0\n",
      "           Conv3d-15       [-1, 32, 24, 12, 12]          27,648\n",
      "      BatchNorm3d-16       [-1, 32, 24, 12, 12]              64\n",
      "             ReLU-17       [-1, 32, 24, 12, 12]               0\n",
      "       BasicBlock-18       [-1, 32, 24, 12, 12]               0\n",
      "           Conv3d-19         [-1, 64, 12, 6, 6]          55,296\n",
      "      BatchNorm3d-20         [-1, 64, 12, 6, 6]             128\n",
      "             ReLU-21         [-1, 64, 12, 6, 6]               0\n",
      "           Conv3d-22         [-1, 64, 12, 6, 6]         110,592\n",
      "      BatchNorm3d-23         [-1, 64, 12, 6, 6]             128\n",
      "             ReLU-24         [-1, 64, 12, 6, 6]               0\n",
      "       BasicBlock-25         [-1, 64, 12, 6, 6]               0\n",
      "           Conv3d-26         [-1, 128, 6, 3, 3]         221,184\n",
      "      BatchNorm3d-27         [-1, 128, 6, 3, 3]             256\n",
      "             ReLU-28         [-1, 128, 6, 3, 3]               0\n",
      "           Conv3d-29         [-1, 128, 6, 3, 3]         442,368\n",
      "      BatchNorm3d-30         [-1, 128, 6, 3, 3]             256\n",
      "             ReLU-31         [-1, 128, 6, 3, 3]               0\n",
      "       BasicBlock-32         [-1, 128, 6, 3, 3]               0\n",
      "AdaptiveAvgPool3d-33         [-1, 128, 1, 1, 1]               0\n",
      "           Linear-34                    [-1, 1]             129\n",
      "================================================================\n",
      "Total params: 888,209\n",
      "Trainable params: 888,209\n",
      "Non-trainable params: 0\n",
      "----------------------------------------------------------------\n",
      "Input size (MB): 3.38\n",
      "Forward/backward pass size (MB): 115.75\n",
      "Params size (MB): 3.39\n",
      "Estimated Total Size (MB): 122.52\n",
      "----------------------------------------------------------------\n",
      "None\n"
     ]
    }
   ],
   "source": [
    "def load_model(model, verbose=True):\n",
    "    \n",
    "    device = torch.device('cuda:0' if torch.cuda.is_available() else 'cpu')\n",
    "    print(f'Model {model.capitalize()} is selected.')\n",
    "\n",
    "    if model == 'resnet':\n",
    "        \n",
    "\n",
    "        opt = Option()\n",
    "        model = generate_model(model_depth=opt.model_depth,\n",
    "                                    n_classes=opt.n_classes,\n",
    "                                    n_input_channels=opt.n_input_channels,\n",
    "                                    shortcut_type=opt.shortcut_type,\n",
    "                                    conv1_t_size=opt.conv1_t_size,\n",
    "                                    conv1_t_stride=opt.conv1_t_stride,\n",
    "                                    no_max_pool=opt.no_max_pool,\n",
    "                                    widen_factor=opt.resnet_widen_factor)\n",
    "\n",
    "    elif model == 'levakov':\n",
    "        model = Levakov(task_type='age')\n",
    "\n",
    "    elif model == 'inception':\n",
    "        model = Inception3()\n",
    "\n",
    "    elif model == 'dinsdale':\n",
    "        model = Dinsdale(1, 1, 2)\n",
    "\n",
    "    else: return None\n",
    "\n",
    "    model.to(device)\n",
    "    if verbose:\n",
    "        print(summary(model, input_size=(1, 96, 96, 96)))\n",
    "    \n",
    "    return model, device\n",
    "\n",
    "model = 'resnet'\n",
    "model, device = load_model(model)"
   ]
  },
  {
   "cell_type": "markdown",
   "metadata": {},
   "source": [
    "## Setups"
   ]
  },
  {
   "cell_type": "markdown",
   "metadata": {},
   "source": [
    "Default Settings"
   ]
  },
  {
   "cell_type": "code",
   "execution_count": 4,
   "metadata": {
    "ExecuteTime": {
     "end_time": "2021-01-12T07:31:55.918361Z",
     "start_time": "2021-01-12T07:31:55.591471Z"
    }
   },
   "outputs": [],
   "source": [
    "model = torch.load('models/resnet_200_elastic_6.949.pth')"
   ]
  },
  {
   "cell_type": "code",
   "execution_count": 5,
   "metadata": {
    "ExecuteTime": {
     "end_time": "2021-01-12T07:31:55.933634Z",
     "start_time": "2021-01-12T07:31:55.919388Z"
    }
   },
   "outputs": [],
   "source": [
    "task_type = 'age' # no longer used.\n",
    "resize = True\n",
    "scheduler = False\n",
    "epochs = range(200)\n",
    "fold = None\n",
    "\n",
    "from src.losses import RMSELoss\n",
    "\n",
    "loss_fn = nn.MSELoss()\n",
    "lamb = 0.0005\n",
    "rmse_fn = RMSELoss()\n",
    "mae_fn = nn.L1Loss()"
   ]
  },
  {
   "cell_type": "code",
   "execution_count": 6,
   "metadata": {
    "ExecuteTime": {
     "end_time": "2021-01-12T07:32:20.023999Z",
     "start_time": "2021-01-12T07:31:55.934658Z"
    }
   },
   "outputs": [],
   "source": [
    "model = medcam.inject(model, output_dir=\"attention_maps/tmp/\", retain_graph=True, layer='conv1')\n",
    "model, (tst_losses, tst_maes, tst_rmses), tst_preds = eval(model, True, None, fold, resize, device, 1,\n",
    "                                                       loss_fn, mae_fn, rmse_fn,\n",
    "                                                       [], [], [])"
   ]
  },
  {
   "cell_type": "markdown",
   "metadata": {},
   "source": [
    "# Attention Maps"
   ]
  },
  {
   "cell_type": "markdown",
   "metadata": {},
   "source": [
    "./attention_maps/conv1/*.nii.gz"
   ]
  },
  {
   "cell_type": "code",
   "execution_count": 8,
   "metadata": {
    "ExecuteTime": {
     "end_time": "2021-01-12T07:33:46.987905Z",
     "start_time": "2021-01-12T07:33:46.967330Z"
    }
   },
   "outputs": [],
   "source": [
    "path = glob('./attention_maps/conv1/*.nii.gz')"
   ]
  },
  {
   "cell_type": "code",
   "execution_count": 11,
   "metadata": {
    "ExecuteTime": {
     "end_time": "2021-01-12T07:34:05.499989Z",
     "start_time": "2021-01-12T07:34:02.441634Z"
    }
   },
   "outputs": [
    {
     "data": {
      "text/plain": [
       "array([[[0., 0., 0., ..., 0., 0., 0.],\n",
       "        [0., 0., 0., ..., 0., 0., 0.],\n",
       "        [0., 0., 0., ..., 0., 0., 0.],\n",
       "        ...,\n",
       "        [0., 0., 0., ..., 0., 0., 0.],\n",
       "        [0., 0., 0., ..., 0., 0., 0.],\n",
       "        [0., 0., 0., ..., 0., 0., 0.]],\n",
       "\n",
       "       [[0., 0., 0., ..., 0., 0., 0.],\n",
       "        [0., 0., 0., ..., 0., 0., 0.],\n",
       "        [0., 0., 0., ..., 0., 0., 0.],\n",
       "        ...,\n",
       "        [0., 0., 0., ..., 0., 0., 0.],\n",
       "        [0., 0., 0., ..., 0., 0., 0.],\n",
       "        [0., 0., 0., ..., 0., 0., 0.]],\n",
       "\n",
       "       [[0., 0., 0., ..., 0., 0., 0.],\n",
       "        [0., 0., 0., ..., 0., 0., 0.],\n",
       "        [0., 0., 0., ..., 0., 0., 0.],\n",
       "        ...,\n",
       "        [0., 0., 0., ..., 0., 0., 0.],\n",
       "        [0., 0., 0., ..., 0., 0., 0.],\n",
       "        [0., 0., 0., ..., 0., 0., 0.]],\n",
       "\n",
       "       ...,\n",
       "\n",
       "       [[0., 0., 0., ..., 0., 0., 0.],\n",
       "        [0., 0., 0., ..., 0., 0., 0.],\n",
       "        [0., 0., 0., ..., 0., 0., 0.],\n",
       "        ...,\n",
       "        [0., 0., 0., ..., 0., 0., 0.],\n",
       "        [0., 0., 0., ..., 0., 0., 0.],\n",
       "        [0., 0., 0., ..., 0., 0., 0.]],\n",
       "\n",
       "       [[0., 0., 0., ..., 0., 0., 0.],\n",
       "        [0., 0., 0., ..., 0., 0., 0.],\n",
       "        [0., 0., 0., ..., 0., 0., 0.],\n",
       "        ...,\n",
       "        [0., 0., 0., ..., 0., 0., 0.],\n",
       "        [0., 0., 0., ..., 0., 0., 0.],\n",
       "        [0., 0., 0., ..., 0., 0., 0.]],\n",
       "\n",
       "       [[0., 0., 0., ..., 0., 0., 0.],\n",
       "        [0., 0., 0., ..., 0., 0., 0.],\n",
       "        [0., 0., 0., ..., 0., 0., 0.],\n",
       "        ...,\n",
       "        [0., 0., 0., ..., 0., 0., 0.],\n",
       "        [0., 0., 0., ..., 0., 0., 0.],\n",
       "        [0., 0., 0., ..., 0., 0., 0.]]])"
      ]
     },
     "execution_count": 11,
     "metadata": {},
     "output_type": "execute_result"
    }
   ],
   "source": [
    "avg_map = nib.load(path[0]).get_fdata()\n",
    "for att in path[1:]:\n",
    "    \n",
    "    avg_map += nib.load(att).get_fdata()\n",
    "    \n",
    "avg_map /= len(path)\n",
    "avg_map"
   ]
  },
  {
   "cell_type": "code",
   "execution_count": 16,
   "metadata": {
    "ExecuteTime": {
     "end_time": "2021-01-12T07:38:00.108999Z",
     "start_time": "2021-01-12T07:38:00.079304Z"
    }
   },
   "outputs": [],
   "source": [
    "att_map_0 = nib.load(path[0]).get_fdata()"
   ]
  },
  {
   "cell_type": "code",
   "execution_count": 17,
   "metadata": {
    "ExecuteTime": {
     "end_time": "2021-01-12T07:38:00.234282Z",
     "start_time": "2021-01-12T07:38:00.223282Z"
    }
   },
   "outputs": [
    {
     "data": {
      "text/plain": [
       "(48, 48, 96)"
      ]
     },
     "execution_count": 17,
     "metadata": {},
     "output_type": "execute_result"
    }
   ],
   "source": [
    "att_map_0.shape"
   ]
  },
  {
   "cell_type": "code",
   "execution_count": 18,
   "metadata": {
    "ExecuteTime": {
     "end_time": "2021-01-12T07:38:00.769405Z",
     "start_time": "2021-01-12T07:38:00.759391Z"
    }
   },
   "outputs": [],
   "source": [
    "import seaborn as sns"
   ]
  },
  {
   "cell_type": "code",
   "execution_count": 19,
   "metadata": {
    "ExecuteTime": {
     "end_time": "2021-01-12T07:38:01.177422Z",
     "start_time": "2021-01-12T07:38:00.911481Z"
    }
   },
   "outputs": [
    {
     "data": {
      "text/plain": [
       "<AxesSubplot:>"
      ]
     },
     "execution_count": 19,
     "metadata": {},
     "output_type": "execute_result"
    },
    {
     "data": {
      "image/png": "[encoded data removed]",
      "text/plain": [
       "<Figure size 432x288 with 2 Axes>"
      ]
     },
     "metadata": {
      "needs_background": "light"
     },
     "output_type": "display_data"
    }
   ],
   "source": [
    "sns.heatmap(att_map_0[24])"
   ]
  },
  {
   "cell_type": "code",
   "execution_count": 12,
   "metadata": {
    "ExecuteTime": {
     "end_time": "2021-01-12T07:34:11.406479Z",
     "start_time": "2021-01-12T07:34:11.137080Z"
    }
   },
   "outputs": [
    {
     "data": {
      "text/plain": [
       "<AxesSubplot:>"
      ]
     },
     "execution_count": 12,
     "metadata": {},
     "output_type": "execute_result"
    },
    {
     "data": {
      "image/png": "[encoded data removed]",
      "text/plain": [
       "<Figure size 432x288 with 2 Axes>"
      ]
     },
     "metadata": {
      "needs_background": "light"
     },
     "output_type": "display_data"
    }
   ],
   "source": [
    "sns.heatmap(avg_map[24, :, :])"
   ]
  },
  {
   "cell_type": "code",
   "execution_count": 20,
   "metadata": {
    "ExecuteTime": {
     "end_time": "2021-01-12T07:39:15.546772Z",
     "start_time": "2021-01-12T07:39:15.287730Z"
    }
   },
   "outputs": [
    {
     "data": {
      "text/plain": [
       "<AxesSubplot:>"
      ]
     },
     "execution_count": 20,
     "metadata": {},
     "output_type": "execute_result"
    },
    {
     "data": {
      "image/png": "[encoded data removed]",
      "text/plain": [
       "<Figure size 432x288 with 2 Axes>"
      ]
     },
     "metadata": {
      "needs_background": "light"
     },
     "output_type": "display_data"
    }
   ],
   "source": [
    "sns.heatmap(avg_map[:, 28, :])"
   ]
  },
  {
   "cell_type": "code",
   "execution_count": 14,
   "metadata": {
    "ExecuteTime": {
     "end_time": "2021-01-12T07:34:27.839328Z",
     "start_time": "2021-01-12T07:34:27.592330Z"
    }
   },
   "outputs": [
    {
     "data": {
      "text/plain": [
       "<AxesSubplot:>"
      ]
     },
     "execution_count": 14,
     "metadata": {},
     "output_type": "execute_result"
    },
    {
     "data": {
      "image/png": "[encoded data removed]",
      "text/plain": [
       "<Figure size 432x288 with 2 Axes>"
      ]
     },
     "metadata": {
      "needs_background": "light"
     },
     "output_type": "display_data"
    }
   ],
   "source": [
    "sns.heatmap(avg_map[:, :, 47])"
   ]
  },
  {
   "cell_type": "code",
   "execution_count": 35,
   "metadata": {
    "ExecuteTime": {
     "end_time": "2021-01-12T07:21:38.207883Z",
     "start_time": "2021-01-12T07:21:37.891366Z"
    }
   },
   "outputs": [],
   "source": [
    "dset = MyDataset(task_type='age', test=True, augment=None, fold=None)\n",
    "dataloader = DataLoader(dset, batch_size=1)"
   ]
  },
  {
   "cell_type": "code",
   "execution_count": 37,
   "metadata": {
    "ExecuteTime": {
     "end_time": "2021-01-12T07:21:52.734529Z",
     "start_time": "2021-01-12T07:21:52.683101Z"
    }
   },
   "outputs": [
    {
     "data": {
      "text/plain": [
       "tensor([[[[[0., 0., 0.,  ..., 0., 0., 0.],\n",
       "           [0., 0., 0.,  ..., 0., 0., 0.],\n",
       "           [0., 0., 0.,  ..., 0., 0., 0.],\n",
       "           ...,\n",
       "           [0., 0., 0.,  ..., 0., 0., 0.],\n",
       "           [0., 0., 0.,  ..., 0., 0., 0.],\n",
       "           [0., 0., 0.,  ..., 0., 0., 0.]],\n",
       "\n",
       "          [[0., 0., 0.,  ..., 0., 0., 0.],\n",
       "           [0., 0., 0.,  ..., 0., 0., 0.],\n",
       "           [0., 0., 0.,  ..., 0., 0., 0.],\n",
       "           ...,\n",
       "           [0., 0., 0.,  ..., 0., 0., 0.],\n",
       "           [0., 0., 0.,  ..., 0., 0., 0.],\n",
       "           [0., 0., 0.,  ..., 0., 0., 0.]],\n",
       "\n",
       "          [[0., 0., 0.,  ..., 0., 0., 0.],\n",
       "           [0., 0., 0.,  ..., 0., 0., 0.],\n",
       "           [0., 0., 0.,  ..., 0., 0., 0.],\n",
       "           ...,\n",
       "           [0., 0., 0.,  ..., 0., 0., 0.],\n",
       "           [0., 0., 0.,  ..., 0., 0., 0.],\n",
       "           [0., 0., 0.,  ..., 0., 0., 0.]],\n",
       "\n",
       "          ...,\n",
       "\n",
       "          [[0., 0., 0.,  ..., 0., 0., 0.],\n",
       "           [0., 0., 0.,  ..., 0., 0., 0.],\n",
       "           [0., 0., 0.,  ..., 0., 0., 0.],\n",
       "           ...,\n",
       "           [0., 0., 0.,  ..., 0., 0., 0.],\n",
       "           [0., 0., 0.,  ..., 0., 0., 0.],\n",
       "           [0., 0., 0.,  ..., 0., 0., 0.]],\n",
       "\n",
       "          [[0., 0., 0.,  ..., 0., 0., 0.],\n",
       "           [0., 0., 0.,  ..., 0., 0., 0.],\n",
       "           [0., 0., 0.,  ..., 0., 0., 0.],\n",
       "           ...,\n",
       "           [0., 0., 0.,  ..., 0., 0., 0.],\n",
       "           [0., 0., 0.,  ..., 0., 0., 0.],\n",
       "           [0., 0., 0.,  ..., 0., 0., 0.]],\n",
       "\n",
       "          [[0., 0., 0.,  ..., 0., 0., 0.],\n",
       "           [0., 0., 0.,  ..., 0., 0., 0.],\n",
       "           [0., 0., 0.,  ..., 0., 0., 0.],\n",
       "           ...,\n",
       "           [0., 0., 0.,  ..., 0., 0., 0.],\n",
       "           [0., 0., 0.,  ..., 0., 0., 0.],\n",
       "           [0., 0., 0.,  ..., 0., 0., 0.]]]]])"
      ]
     },
     "execution_count": 37,
     "metadata": {},
     "output_type": "execute_result"
    }
   ],
   "source": [
    "next(iter(dataloader))[0]"
   ]
  },
  {
   "cell_type": "markdown",
   "metadata": {},
   "source": [
    "./attention_maps/tmp/"
   ]
  },
  {
   "cell_type": "code",
   "execution_count": 17,
   "metadata": {
    "ExecuteTime": {
     "end_time": "2021-01-12T07:31:33.672723Z",
     "start_time": "2021-01-12T07:31:33.664697Z"
    }
   },
   "outputs": [],
   "source": [
    "path = './attention_maps/tmp/conv1/*'"
   ]
  },
  {
   "cell_type": "code",
   "execution_count": 18,
   "metadata": {
    "ExecuteTime": {
     "end_time": "2021-01-12T07:31:33.828527Z",
     "start_time": "2021-01-12T07:31:33.808528Z"
    }
   },
   "outputs": [
    {
     "data": {
      "text/plain": [
       "['./attention_maps/tmp/conv1\\\\attention_map_0_0_0.nii.gz',\n",
       " './attention_maps/tmp/conv1\\\\attention_map_1_0_0.nii.gz',\n",
       " './attention_maps/tmp/conv1\\\\attention_map_2_0_0.nii.gz',\n",
       " './attention_maps/tmp/conv1\\\\attention_map_3_0_0.nii.gz',\n",
       " './attention_maps/tmp/conv1\\\\attention_map_4_0_0.nii.gz',\n",
       " './attention_maps/tmp/conv1\\\\attention_map_5_0_0.nii.gz',\n",
       " './attention_maps/tmp/conv1\\\\attention_map_6_0_0.nii.gz',\n",
       " './attention_maps/tmp/conv1\\\\attention_map_7_0_0.nii.gz',\n",
       " './attention_maps/tmp/conv1\\\\attention_map_8_0_0.nii.gz',\n",
       " './attention_maps/tmp/conv1\\\\attention_map_9_0_0.nii.gz',\n",
       " './attention_maps/tmp/conv1\\\\attention_map_10_0_0.nii.gz',\n",
       " './attention_maps/tmp/conv1\\\\attention_map_11_0_0.nii.gz',\n",
       " './attention_maps/tmp/conv1\\\\attention_map_12_0_0.nii.gz',\n",
       " './attention_maps/tmp/conv1\\\\attention_map_13_0_0.nii.gz',\n",
       " './attention_maps/tmp/conv1\\\\attention_map_14_0_0.nii.gz',\n",
       " './attention_maps/tmp/conv1\\\\attention_map_15_0_0.nii.gz',\n",
       " './attention_maps/tmp/conv1\\\\attention_map_16_0_0.nii.gz',\n",
       " './attention_maps/tmp/conv1\\\\attention_map_17_0_0.nii.gz',\n",
       " './attention_maps/tmp/conv1\\\\attention_map_18_0_0.nii.gz',\n",
       " './attention_maps/tmp/conv1\\\\attention_map_19_0_0.nii.gz',\n",
       " './attention_maps/tmp/conv1\\\\attention_map_20_0_0.nii.gz',\n",
       " './attention_maps/tmp/conv1\\\\attention_map_21_0_0.nii.gz',\n",
       " './attention_maps/tmp/conv1\\\\attention_map_22_0_0.nii.gz',\n",
       " './attention_maps/tmp/conv1\\\\attention_map_23_0_0.nii.gz',\n",
       " './attention_maps/tmp/conv1\\\\attention_map_24_0_0.nii.gz',\n",
       " './attention_maps/tmp/conv1\\\\attention_map_25_0_0.nii.gz',\n",
       " './attention_maps/tmp/conv1\\\\attention_map_26_0_0.nii.gz',\n",
       " './attention_maps/tmp/conv1\\\\attention_map_27_0_0.nii.gz',\n",
       " './attention_maps/tmp/conv1\\\\attention_map_28_0_0.nii.gz',\n",
       " './attention_maps/tmp/conv1\\\\attention_map_29_0_0.nii.gz',\n",
       " './attention_maps/tmp/conv1\\\\attention_map_30_0_0.nii.gz',\n",
       " './attention_maps/tmp/conv1\\\\attention_map_31_0_0.nii.gz',\n",
       " './attention_maps/tmp/conv1\\\\attention_map_32_0_0.nii.gz',\n",
       " './attention_maps/tmp/conv1\\\\attention_map_33_0_0.nii.gz',\n",
       " './attention_maps/tmp/conv1\\\\attention_map_34_0_0.nii.gz',\n",
       " './attention_maps/tmp/conv1\\\\attention_map_35_0_0.nii.gz',\n",
       " './attention_maps/tmp/conv1\\\\attention_map_36_0_0.nii.gz',\n",
       " './attention_maps/tmp/conv1\\\\attention_map_37_0_0.nii.gz',\n",
       " './attention_maps/tmp/conv1\\\\attention_map_38_0_0.nii.gz',\n",
       " './attention_maps/tmp/conv1\\\\attention_map_39_0_0.nii.gz',\n",
       " './attention_maps/tmp/conv1\\\\attention_map_40_0_0.nii.gz',\n",
       " './attention_maps/tmp/conv1\\\\attention_map_41_0_0.nii.gz',\n",
       " './attention_maps/tmp/conv1\\\\attention_map_42_0_0.nii.gz',\n",
       " './attention_maps/tmp/conv1\\\\attention_map_43_0_0.nii.gz',\n",
       " './attention_maps/tmp/conv1\\\\attention_map_44_0_0.nii.gz',\n",
       " './attention_maps/tmp/conv1\\\\attention_map_45_0_0.nii.gz',\n",
       " './attention_maps/tmp/conv1\\\\attention_map_46_0_0.nii.gz',\n",
       " './attention_maps/tmp/conv1\\\\attention_map_47_0_0.nii.gz',\n",
       " './attention_maps/tmp/conv1\\\\attention_map_48_0_0.nii.gz',\n",
       " './attention_maps/tmp/conv1\\\\attention_map_49_0_0.nii.gz',\n",
       " './attention_maps/tmp/conv1\\\\attention_map_50_0_0.nii.gz',\n",
       " './attention_maps/tmp/conv1\\\\attention_map_51_0_0.nii.gz',\n",
       " './attention_maps/tmp/conv1\\\\attention_map_52_0_0.nii.gz',\n",
       " './attention_maps/tmp/conv1\\\\attention_map_53_0_0.nii.gz',\n",
       " './attention_maps/tmp/conv1\\\\attention_map_54_0_0.nii.gz',\n",
       " './attention_maps/tmp/conv1\\\\attention_map_55_0_0.nii.gz',\n",
       " './attention_maps/tmp/conv1\\\\attention_map_56_0_0.nii.gz',\n",
       " './attention_maps/tmp/conv1\\\\attention_map_57_0_0.nii.gz',\n",
       " './attention_maps/tmp/conv1\\\\attention_map_58_0_0.nii.gz',\n",
       " './attention_maps/tmp/conv1\\\\attention_map_59_0_0.nii.gz',\n",
       " './attention_maps/tmp/conv1\\\\attention_map_60_0_0.nii.gz',\n",
       " './attention_maps/tmp/conv1\\\\attention_map_61_0_0.nii.gz',\n",
       " './attention_maps/tmp/conv1\\\\attention_map_62_0_0.nii.gz',\n",
       " './attention_maps/tmp/conv1\\\\attention_map_63_0_0.nii.gz',\n",
       " './attention_maps/tmp/conv1\\\\attention_map_64_0_0.nii.gz',\n",
       " './attention_maps/tmp/conv1\\\\attention_map_65_0_0.nii.gz',\n",
       " './attention_maps/tmp/conv1\\\\attention_map_66_0_0.nii.gz',\n",
       " './attention_maps/tmp/conv1\\\\attention_map_67_0_0.nii.gz',\n",
       " './attention_maps/tmp/conv1\\\\attention_map_68_0_0.nii.gz',\n",
       " './attention_maps/tmp/conv1\\\\attention_map_69_0_0.nii.gz',\n",
       " './attention_maps/tmp/conv1\\\\attention_map_70_0_0.nii.gz',\n",
       " './attention_maps/tmp/conv1\\\\attention_map_71_0_0.nii.gz',\n",
       " './attention_maps/tmp/conv1\\\\attention_map_72_0_0.nii.gz',\n",
       " './attention_maps/tmp/conv1\\\\attention_map_73_0_0.nii.gz',\n",
       " './attention_maps/tmp/conv1\\\\attention_map_74_0_0.nii.gz',\n",
       " './attention_maps/tmp/conv1\\\\attention_map_75_0_0.nii.gz',\n",
       " './attention_maps/tmp/conv1\\\\attention_map_76_0_0.nii.gz',\n",
       " './attention_maps/tmp/conv1\\\\attention_map_77_0_0.nii.gz',\n",
       " './attention_maps/tmp/conv1\\\\attention_map_78_0_0.nii.gz',\n",
       " './attention_maps/tmp/conv1\\\\attention_map_79_0_0.nii.gz',\n",
       " './attention_maps/tmp/conv1\\\\attention_map_80_0_0.nii.gz',\n",
       " './attention_maps/tmp/conv1\\\\attention_map_81_0_0.nii.gz',\n",
       " './attention_maps/tmp/conv1\\\\attention_map_82_0_0.nii.gz',\n",
       " './attention_maps/tmp/conv1\\\\attention_map_83_0_0.nii.gz',\n",
       " './attention_maps/tmp/conv1\\\\attention_map_84_0_0.nii.gz',\n",
       " './attention_maps/tmp/conv1\\\\attention_map_85_0_0.nii.gz',\n",
       " './attention_maps/tmp/conv1\\\\attention_map_86_0_0.nii.gz',\n",
       " './attention_maps/tmp/conv1\\\\attention_map_87_0_0.nii.gz',\n",
       " './attention_maps/tmp/conv1\\\\attention_map_88_0_0.nii.gz',\n",
       " './attention_maps/tmp/conv1\\\\attention_map_89_0_0.nii.gz',\n",
       " './attention_maps/tmp/conv1\\\\attention_map_90_0_0.nii.gz',\n",
       " './attention_maps/tmp/conv1\\\\attention_map_91_0_0.nii.gz',\n",
       " './attention_maps/tmp/conv1\\\\attention_map_92_0_0.nii.gz',\n",
       " './attention_maps/tmp/conv1\\\\attention_map_93_0_0.nii.gz',\n",
       " './attention_maps/tmp/conv1\\\\attention_map_94_0_0.nii.gz',\n",
       " './attention_maps/tmp/conv1\\\\attention_map_95_0_0.nii.gz',\n",
       " './attention_maps/tmp/conv1\\\\attention_map_96_0_0.nii.gz',\n",
       " './attention_maps/tmp/conv1\\\\attention_map_97_0_0.nii.gz',\n",
       " './attention_maps/tmp/conv1\\\\attention_map_98_0_0.nii.gz',\n",
       " './attention_maps/tmp/conv1\\\\attention_map_99_0_0.nii.gz',\n",
       " './attention_maps/tmp/conv1\\\\attention_map_100_0_0.nii.gz',\n",
       " './attention_maps/tmp/conv1\\\\attention_map_101_0_0.nii.gz',\n",
       " './attention_maps/tmp/conv1\\\\attention_map_102_0_0.nii.gz',\n",
       " './attention_maps/tmp/conv1\\\\attention_map_103_0_0.nii.gz',\n",
       " './attention_maps/tmp/conv1\\\\attention_map_104_0_0.nii.gz',\n",
       " './attention_maps/tmp/conv1\\\\attention_map_105_0_0.nii.gz',\n",
       " './attention_maps/tmp/conv1\\\\attention_map_106_0_0.nii.gz',\n",
       " './attention_maps/tmp/conv1\\\\attention_map_107_0_0.nii.gz',\n",
       " './attention_maps/tmp/conv1\\\\attention_map_108_0_0.nii.gz',\n",
       " './attention_maps/tmp/conv1\\\\attention_map_109_0_0.nii.gz',\n",
       " './attention_maps/tmp/conv1\\\\attention_map_110_0_0.nii.gz',\n",
       " './attention_maps/tmp/conv1\\\\attention_map_111_0_0.nii.gz',\n",
       " './attention_maps/tmp/conv1\\\\attention_map_112_0_0.nii.gz',\n",
       " './attention_maps/tmp/conv1\\\\attention_map_113_0_0.nii.gz',\n",
       " './attention_maps/tmp/conv1\\\\attention_map_114_0_0.nii.gz',\n",
       " './attention_maps/tmp/conv1\\\\attention_map_115_0_0.nii.gz',\n",
       " './attention_maps/tmp/conv1\\\\attention_map_116_0_0.nii.gz',\n",
       " './attention_maps/tmp/conv1\\\\attention_map_117_0_0.nii.gz',\n",
       " './attention_maps/tmp/conv1\\\\attention_map_118_0_0.nii.gz',\n",
       " './attention_maps/tmp/conv1\\\\attention_map_119_0_0.nii.gz',\n",
       " './attention_maps/tmp/conv1\\\\attention_map_120_0_0.nii.gz',\n",
       " './attention_maps/tmp/conv1\\\\attention_map_121_0_0.nii.gz',\n",
       " './attention_maps/tmp/conv1\\\\attention_map_122_0_0.nii.gz',\n",
       " './attention_maps/tmp/conv1\\\\attention_map_123_0_0.nii.gz',\n",
       " './attention_maps/tmp/conv1\\\\attention_map_124_0_0.nii.gz',\n",
       " './attention_maps/tmp/conv1\\\\attention_map_125_0_0.nii.gz',\n",
       " './attention_maps/tmp/conv1\\\\attention_map_126_0_0.nii.gz',\n",
       " './attention_maps/tmp/conv1\\\\attention_map_127_0_0.nii.gz',\n",
       " './attention_maps/tmp/conv1\\\\attention_map_128_0_0.nii.gz',\n",
       " './attention_maps/tmp/conv1\\\\attention_map_129_0_0.nii.gz',\n",
       " './attention_maps/tmp/conv1\\\\attention_map_130_0_0.nii.gz',\n",
       " './attention_maps/tmp/conv1\\\\attention_map_131_0_0.nii.gz',\n",
       " './attention_maps/tmp/conv1\\\\attention_map_132_0_0.nii.gz',\n",
       " './attention_maps/tmp/conv1\\\\attention_map_133_0_0.nii.gz',\n",
       " './attention_maps/tmp/conv1\\\\attention_map_134_0_0.nii.gz',\n",
       " './attention_maps/tmp/conv1\\\\attention_map_135_0_0.nii.gz',\n",
       " './attention_maps/tmp/conv1\\\\attention_map_136_0_0.nii.gz',\n",
       " './attention_maps/tmp/conv1\\\\attention_map_137_0_0.nii.gz',\n",
       " './attention_maps/tmp/conv1\\\\attention_map_138_0_0.nii.gz',\n",
       " './attention_maps/tmp/conv1\\\\attention_map_139_0_0.nii.gz',\n",
       " './attention_maps/tmp/conv1\\\\attention_map_140_0_0.nii.gz',\n",
       " './attention_maps/tmp/conv1\\\\attention_map_141_0_0.nii.gz',\n",
       " './attention_maps/tmp/conv1\\\\attention_map_142_0_0.nii.gz',\n",
       " './attention_maps/tmp/conv1\\\\attention_map_143_0_0.nii.gz',\n",
       " './attention_maps/tmp/conv1\\\\attention_map_144_0_0.nii.gz',\n",
       " './attention_maps/tmp/conv1\\\\attention_map_145_0_0.nii.gz',\n",
       " './attention_maps/tmp/conv1\\\\attention_map_146_0_0.nii.gz',\n",
       " './attention_maps/tmp/conv1\\\\attention_map_147_0_0.nii.gz',\n",
       " './attention_maps/tmp/conv1\\\\attention_map_148_0_0.nii.gz',\n",
       " './attention_maps/tmp/conv1\\\\attention_map_149_0_0.nii.gz',\n",
       " './attention_maps/tmp/conv1\\\\attention_map_150_0_0.nii.gz',\n",
       " './attention_maps/tmp/conv1\\\\attention_map_151_0_0.nii.gz',\n",
       " './attention_maps/tmp/conv1\\\\attention_map_152_0_0.nii.gz',\n",
       " './attention_maps/tmp/conv1\\\\attention_map_153_0_0.nii.gz',\n",
       " './attention_maps/tmp/conv1\\\\attention_map_154_0_0.nii.gz',\n",
       " './attention_maps/tmp/conv1\\\\attention_map_155_0_0.nii.gz',\n",
       " './attention_maps/tmp/conv1\\\\attention_map_156_0_0.nii.gz',\n",
       " './attention_maps/tmp/conv1\\\\attention_map_157_0_0.nii.gz',\n",
       " './attention_maps/tmp/conv1\\\\attention_map_158_0_0.nii.gz',\n",
       " './attention_maps/tmp/conv1\\\\attention_map_159_0_0.nii.gz',\n",
       " './attention_maps/tmp/conv1\\\\attention_map_160_0_0.nii.gz',\n",
       " './attention_maps/tmp/conv1\\\\attention_map_161_0_0.nii.gz',\n",
       " './attention_maps/tmp/conv1\\\\attention_map_162_0_0.nii.gz',\n",
       " './attention_maps/tmp/conv1\\\\attention_map_163_0_0.nii.gz',\n",
       " './attention_maps/tmp/conv1\\\\attention_map_164_0_0.nii.gz',\n",
       " './attention_maps/tmp/conv1\\\\attention_map_165_0_0.nii.gz',\n",
       " './attention_maps/tmp/conv1\\\\attention_map_166_0_0.nii.gz',\n",
       " './attention_maps/tmp/conv1\\\\attention_map_167_0_0.nii.gz',\n",
       " './attention_maps/tmp/conv1\\\\attention_map_168_0_0.nii.gz',\n",
       " './attention_maps/tmp/conv1\\\\attention_map_169_0_0.nii.gz',\n",
       " './attention_maps/tmp/conv1\\\\attention_map_170_0_0.nii.gz',\n",
       " './attention_maps/tmp/conv1\\\\attention_map_171_0_0.nii.gz',\n",
       " './attention_maps/tmp/conv1\\\\attention_map_172_0_0.nii.gz',\n",
       " './attention_maps/tmp/conv1\\\\attention_map_173_0_0.nii.gz',\n",
       " './attention_maps/tmp/conv1\\\\attention_map_174_0_0.nii.gz',\n",
       " './attention_maps/tmp/conv1\\\\attention_map_175_0_0.nii.gz',\n",
       " './attention_maps/tmp/conv1\\\\attention_map_176_0_0.nii.gz',\n",
       " './attention_maps/tmp/conv1\\\\attention_map_177_0_0.nii.gz',\n",
       " './attention_maps/tmp/conv1\\\\attention_map_178_0_0.nii.gz',\n",
       " './attention_maps/tmp/conv1\\\\attention_map_179_0_0.nii.gz',\n",
       " './attention_maps/tmp/conv1\\\\attention_map_180_0_0.nii.gz',\n",
       " './attention_maps/tmp/conv1\\\\attention_map_181_0_0.nii.gz',\n",
       " './attention_maps/tmp/conv1\\\\attention_map_182_0_0.nii.gz',\n",
       " './attention_maps/tmp/conv1\\\\attention_map_183_0_0.nii.gz',\n",
       " './attention_maps/tmp/conv1\\\\attention_map_184_0_0.nii.gz',\n",
       " './attention_maps/tmp/conv1\\\\attention_map_185_0_0.nii.gz',\n",
       " './attention_maps/tmp/conv1\\\\attention_map_186_0_0.nii.gz',\n",
       " './attention_maps/tmp/conv1\\\\attention_map_187_0_0.nii.gz',\n",
       " './attention_maps/tmp/conv1\\\\attention_map_188_0_0.nii.gz',\n",
       " './attention_maps/tmp/conv1\\\\attention_map_189_0_0.nii.gz',\n",
       " './attention_maps/tmp/conv1\\\\attention_map_190_0_0.nii.gz',\n",
       " './attention_maps/tmp/conv1\\\\attention_map_191_0_0.nii.gz',\n",
       " './attention_maps/tmp/conv1\\\\attention_map_192_0_0.nii.gz',\n",
       " './attention_maps/tmp/conv1\\\\desktop.ini']"
      ]
     },
     "execution_count": 18,
     "metadata": {},
     "output_type": "execute_result"
    }
   ],
   "source": [
    "glob(path)"
   ]
  },
  {
   "cell_type": "code",
   "execution_count": null,
   "metadata": {},
   "outputs": [],
   "source": []
  }
 ],
 "metadata": {
  "kernelspec": {
   "display_name": "Python 3",
   "language": "python",
   "name": "python3"
  },
  "language_info": {
   "codemirror_mode": {
    "name": "ipython",
    "version": 3
   },
   "file_extension": ".py",
   "mimetype": "text/x-python",
   "name": "python",
   "nbconvert_exporter": "python",
   "pygments_lexer": "ipython3",
   "version": "3.7.7"
  },
  "toc": {
   "base_numbering": 1,
   "nav_menu": {},
   "number_sections": false,
   "sideBar": true,
   "skip_h1_title": false,
   "title_cell": "Table of Contents",
   "title_sidebar": "Contents",
   "toc_cell": false,
   "toc_position": {
    "height": "calc(100% - 180px)",
    "left": "10px",
    "top": "150px",
    "width": "181.071px"
   },
   "toc_section_display": true,
   "toc_window_display": true
  }
 },
 "nbformat": 4,
 "nbformat_minor": 4
}
