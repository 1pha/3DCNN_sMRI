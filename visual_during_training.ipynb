{
 "cells": [
  {
   "cell_type": "markdown",
   "id": "selective-prairie",
   "metadata": {},
   "source": [
    "# Import"
   ]
  },
  {
   "cell_type": "code",
   "execution_count": 2,
   "id": "excess-lounge",
   "metadata": {
    "ExecuteTime": {
     "end_time": "2021-04-12T05:29:12.142144Z",
     "start_time": "2021-04-12T05:29:07.084950Z"
    }
   },
   "outputs": [],
   "source": [
    "from tqdm import tqdm\n",
    "import seaborn as sns\n",
    "import matplotlib.pyplot as plt\n",
    "\n",
    "from src.config import *\n",
    "from src.models.model_util import *\n",
    "from src.data.data_util import *\n",
    "from src.visualization.auggrad import *\n",
    "from src.visualization.cams import *\n",
    "from src.visualization.visual_utils import *\n",
    "from src.visualization.vistool_pipeline import *\n",
    "\n",
    "from IPython.display import clear_output"
   ]
  },
  {
   "cell_type": "code",
   "execution_count": 3,
   "id": "functioning-express",
   "metadata": {
    "ExecuteTime": {
     "end_time": "2021-04-05T09:04:13.153761Z",
     "start_time": "2021-04-05T09:04:13.148205Z"
    }
   },
   "outputs": [],
   "source": [
    "# LOAD CONFIG\n",
    "cfg = load_config()\n",
    "\n",
    "# MODEL CONFIG\n",
    "cfg.model_name = 'resnet_no_maxpool'\n",
    "cfg.start_channels = 64\n",
    "model, cfg.device = load_model(cfg.model_name, verbose=False, cfg=cfg)\n",
    "model.load_state_dict(torch.load('./result/models/2021_04_07_1408_resnet_no_maxpool/resnet_no_maxpool_ep70-100_sd42_mae6.241.pth/'))\n",
    "\n",
    "# Dataloader\n",
    "# cfg.return_path = True\n",
    "train_dataset = DatasetPlus(cfg, augment=False, test=True)\n",
    "sample_dl = DataLoader(train_dataset, batch_size=1)\n",
    "\n",
    "# FOR SINGLE BRAIN\n",
    "# x, y = train_dataset[15]\n",
    "# x = x[None, ...]"
   ]
  },
  {
   "cell_type": "code",
   "execution_count": null,
   "id": "historical-twenty",
   "metadata": {},
   "outputs": [],
   "source": [
    "gcam = VisTool(cfg, model, cam_type='gcam')\n",
    "path = './result/models/2021_04_07_1408_resnet_no_maxpool/*.pth'\n",
    "gcam.run_pretrains_dataloader(path, sample_dl, layer_index=8, visualize=False)"
   ]
  },
  {
   "cell_type": "code",
   "execution_count": null,
   "id": "possible-aerospace",
   "metadata": {},
   "outputs": [],
   "source": [
    "sgrad = VisTool(cfg, model, cam_type='sgrad')\n",
    "path = './result/models/2021_04_07_1408_resnet_no_maxpool/*.pth'\n",
    "sgrad.run_pretrains_dataloader(path, sample_dl, visualize=False)"
   ]
  },
  {
   "cell_type": "code",
   "execution_count": null,
   "id": "foster-editing",
   "metadata": {},
   "outputs": [],
   "source": [
    "agrad = VisTool(cfg, model, cam_type='agrad')\n",
    "path = './result/models/2021_04_07_1408_resnet_no_maxpool/*.pth'\n",
    "agrad.run_pretrains_dataloader(path, sample_dl, visualize=False)"
   ]
  },
  {
   "cell_type": "code",
   "execution_count": null,
   "id": "sized-component",
   "metadata": {},
   "outputs": [],
   "source": [
    "# make averaged_brain + vismap\n",
    "averaged_brain = F.interpolate(torch.tensor(np.load('../../brainmask_tlrc/averaged_brain_no_oas3.npy'))[None, None, ...],\n",
    "                              size=(96, 96, 96))\n",
    "for i, v in enumerate(gcam.vismap_ts):\n",
    "    plot_vismap(brain=averaged_brain, vismap=torch.tensor(v[0]), save=True)"
   ]
  }
 ],
 "metadata": {
  "kernelspec": {
   "display_name": "Python 3",
   "language": "python",
   "name": "python3"
  },
  "language_info": {
   "codemirror_mode": {
    "name": "ipython",
    "version": 3
   },
   "file_extension": ".py",
   "mimetype": "text/x-python",
   "name": "python",
   "nbconvert_exporter": "python",
   "pygments_lexer": "ipython3",
   "version": "3.8.8"
  },
  "toc": {
   "base_numbering": 1,
   "nav_menu": {},
   "number_sections": true,
   "sideBar": true,
   "skip_h1_title": false,
   "title_cell": "Table of Contents",
   "title_sidebar": "Contents",
   "toc_cell": false,
   "toc_position": {},
   "toc_section_display": true,
   "toc_window_display": false
  }
 },
 "nbformat": 4,
 "nbformat_minor": 5
}
