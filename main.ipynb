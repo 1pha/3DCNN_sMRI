{
 "cells": [
  {
   "cell_type": "markdown",
   "metadata": {},
   "source": [
    "## Import"
   ]
  },
  {
   "cell_type": "code",
   "execution_count": 1,
   "metadata": {
    "ExecuteTime": {
     "end_time": "2021-03-27T12:08:38.170440Z",
     "start_time": "2021-03-27T12:08:31.985709Z"
    }
   },
   "outputs": [],
   "source": [
    "# importing the libraries\n",
    "import os\n",
    "import pandas as pd\n",
    "import numpy as np\n",
    "from itertools import chain\n",
    "from IPython.display import clear_output\n",
    "\n",
    "# for reading and displaying images\n",
    "from glob import glob\n",
    "import seaborn as sns\n",
    "import matplotlib.pyplot as plt\n",
    "\n",
    "# for creating validation set\n",
    "from sklearn.model_selection import train_test_split\n",
    "\n",
    "# PyTorch libraries and modules\n",
    "import torch\n",
    "import torch.nn as nn\n",
    "import torch.nn.functional as F\n",
    "\n",
    "# models\n",
    "from src.models.model_util import load_model, save_checkpoint\n",
    "\n",
    "# other files\n",
    "from src.training.run import *\n",
    "from src.data.data_util import *\n",
    "\n",
    "# Torch\n",
    "from torch.optim import *\n",
    "import torch.optim as optim\n",
    "from torchsummary import summary\n",
    "# from tensorboardX import SummaryWriter\n",
    "\n",
    "# Maintenance\n",
    "import mlflow\n",
    "from DeepNotion.build import *\n",
    "\n",
    "# CAM - M3dCam\n",
    "# from medcam import medcam"
   ]
  },
  {
   "cell_type": "markdown",
   "metadata": {},
   "source": [
    "## Load Configurations and set Seed"
   ]
  },
  {
   "cell_type": "code",
   "execution_count": 2,
   "metadata": {
    "ExecuteTime": {
     "end_time": "2021-03-27T12:08:38.233412Z",
     "start_time": "2021-03-27T12:08:38.176382Z"
    }
   },
   "outputs": [],
   "source": [
    "from src.config import *\n",
    "cfg = load_config()\n",
    "\n",
    "random_seed = cfg.seed\n",
    "np.random.seed(random_seed)\n",
    "torch.manual_seed(random_seed)\n",
    "torch.cuda.manual_seed(random_seed)"
   ]
  },
  {
   "cell_type": "markdown",
   "metadata": {},
   "source": [
    "## MLFlow Init"
   ]
  },
  {
   "cell_type": "code",
   "execution_count": 3,
   "metadata": {
    "ExecuteTime": {
     "end_time": "2021-03-22T08:08:34.307321Z",
     "start_time": "2021-03-22T08:08:34.238697Z"
    }
   },
   "outputs": [
    {
     "name": "stdout",
     "output_type": "stream",
     "text": [
      "Existing experiment\n"
     ]
    }
   ],
   "source": [
    "exp_name = '3dcnn_smri_comparison_test'\n",
    "try:\n",
    "    mlflow.create_experiment(name=exp_name)\n",
    "except:\n",
    "    print('Existing experiment')\n",
    "    \n",
    "mlflow.set_experiment(exp_name)"
   ]
  },
  {
   "cell_type": "markdown",
   "metadata": {},
   "source": [
    "## Tracking on Notion"
   ]
  },
  {
   "cell_type": "code",
   "execution_count": 4,
   "metadata": {
    "ExecuteTime": {
     "end_time": "2021-02-09T09:49:17.643847Z",
     "start_time": "2021-02-09T09:49:17.634822Z"
    }
   },
   "outputs": [],
   "source": [
    "cfg['notion']['use'] = False"
   ]
  },
  {
   "cell_type": "markdown",
   "metadata": {},
   "source": [
    "### Load Preexisting page"
   ]
  },
  {
   "cell_type": "code",
   "execution_count": 6,
   "metadata": {
    "ExecuteTime": {
     "end_time": "2021-02-08T12:13:37.193611Z",
     "start_time": "2021-02-08T12:13:35.833064Z"
    }
   },
   "outputs": [],
   "source": [
    "if cfg['notion']['use']:\n",
    "    root, client = login(cfg['notion'])\n",
    "    page = root.children[-1]"
   ]
  },
  {
   "cell_type": "markdown",
   "metadata": {},
   "source": [
    "### Make New Page"
   ]
  },
  {
   "cell_type": "code",
   "execution_count": 18,
   "metadata": {
    "ExecuteTime": {
     "end_time": "2021-02-08T11:17:19.029212Z",
     "start_time": "2021-02-08T11:14:17.645806Z"
    },
    "scrolled": true
   },
   "outputs": [
    {
     "name": "stdout",
     "output_type": "stream",
     "text": [
      "2021.02.08.20:14\n"
     ]
    }
   ],
   "source": [
    "if cfg['notion']['use']:\n",
    "\n",
    "    print(today())\n",
    "    root, client = login(cfg['notion'])\n",
    "    page = make_page(root)\n",
    "\n",
    "    toggle = page.children.add_new(ToggleBlock, title='Configuration')\n",
    "\n",
    "    print(\"Saving Configurations ...\")\n",
    "    for name, value in cfg.get_dict().items():\n",
    "        if name not in ['notion']:\n",
    "            txt = '**' + name + '** ' + str(value)\n",
    "            print(txt)\n",
    "            toggle.children.add_new(BulletedListBlock, title=txt)\n",
    "\n",
    "#     fold_db = make_db(page, schema=cfg.schema)\n",
    "#     test_db = make_db(page, schema=cfg.test_schema)"
   ]
  },
  {
   "cell_type": "markdown",
   "metadata": {},
   "source": [
    "## Train"
   ]
  },
  {
   "cell_type": "markdown",
   "metadata": {},
   "source": [
    "### No Fold"
   ]
  },
  {
   "cell_type": "code",
   "execution_count": 4,
   "metadata": {
    "ExecuteTime": {
     "end_time": "2021-03-27T12:09:25.116615Z",
     "start_time": "2021-03-27T12:09:21.913855Z"
    }
   },
   "outputs": [
    {
     "name": "stdout",
     "output_type": "stream",
     "text": [
      "Model Vanilla_residual is selected.\n",
      "cuda:0\n"
     ]
    },
    {
     "data": {
      "text/plain": [
       "<ActiveRun: >"
      ]
     },
     "execution_count": 4,
     "metadata": {},
     "output_type": "execute_result"
    }
   ],
   "source": [
    "cfg.model_name = 'vanilla_residual'\n",
    "# cfg.resize = (96, 128, 96)\n",
    "cfg.layers = [8, 16, 32]\n",
    "cfg.refresh()\n",
    "model, cfg.device = load_model(cfg.model_name, verbose=False, cfg=cfg)\n",
    "\n",
    "cfg.registration = 'tlrc'\n",
    "print(cfg.device)\n",
    "\n",
    "optimizer = optim.Adam(model.parameters(), lr=cfg.learning_rate)\n",
    "\n",
    "trn_dp, tst_dp = DataPacket(), DataPacket()\n",
    "\n",
    "run_date = today().replace('.', '_').replace(':', '') + '_' + cfg.model_name\n",
    "condition = 'TLRC Aug, 100 ep, VRes - 8/16/32, Single'\n",
    "mlflow.start_run(run_name=condition)"
   ]
  },
  {
   "cell_type": "code",
   "execution_count": null,
   "metadata": {
    "ExecuteTime": {
     "end_time": "2021-03-27T16:12:00.756796Z",
     "start_time": "2021-03-27T12:09:26.490438Z"
    },
    "scrolled": false
   },
   "outputs": [
    {
     "name": "stdout",
     "output_type": "stream",
     "text": [
      "Epoch 1 / 100, BEST MAE 8.000\n",
      "[train] 138.1 sec [valid] 16.8 sec \n",
      "[TRAIN]:: Loss=3328.537 Mae=55.356 Rmse=57.582 Corr=0.050 \n",
      "[TEST ]:: Loss=3138.913 Mae=53.234 Rmse=55.952 Corr=0.604 \n"
     ]
    },
    {
     "data": {
      "image/png": "[encoded data removed]",
      "text/plain": [
       "<Figure size 432x288 with 1 Axes>"
      ]
     },
     "metadata": {
      "needs_background": "light"
     },
     "output_type": "display_data"
    },
    {
     "data": {
      "image/png": "[encoded data removed]",
      "text/plain": [
       "<Figure size 420x360 with 1 Axes>"
      ]
     },
     "metadata": {
      "needs_background": "light"
     },
     "output_type": "display_data"
    },
    {
     "name": "stdout",
     "output_type": "stream",
     "text": [
      "Saving ...\n",
      "Epoch 2 / 100, BEST MAE 8.000\n"
     ]
    }
   ],
   "source": [
    "fold = None\n",
    "# cfg.epochs = 200\n",
    "db = make_db(page, client=client, schema=cfg['notion']['no_fold_aug_schema'], title='Results') if cfg['notion']['use'] else None\n",
    "for e in range(cfg.epochs):\n",
    "    \n",
    "    start_time = time.time()\n",
    "    print(f'Epoch {e+1} / {cfg.epochs}, BEST MAE {cfg.best_mae:.3f}')\n",
    "    \n",
    "    model, trn_dp, trn_res = train(model, optimizer, fn_lst, trn_dp, cfg, fold=fold, augment=True)\n",
    "    model, tst_dp, tst_res = valid(model, fn_lst, tst_dp, cfg, fold=fold)\n",
    "    elapsed_time = round(time.time() - start_time, 3)\n",
    "       \n",
    "    if cfg.best_mae > tst_dp.mae[-1]:\n",
    "        \n",
    "        cfg.best_mae = tst_dp.mae[-1]\n",
    "        model_name = f'{cfg.model_name}_ep{e}-{cfg.epochs}_sd{cfg.seed}_mae{cfg.best_mae:.3f}.pth'\n",
    "        save_checkpoint(model.state_dict(), model_name, model_dir=f'./result/models/{run_date}/', is_best=True)\n",
    "        \n",
    "    df = pd.concat([make_df(trn_res, 'Train'),\n",
    "                    make_df(tst_res, 'Test')], ignore_index=True)\n",
    "    \n",
    "    trn_dp.corr.update(df[df['Label'] == 'Train'].corr().Prediction['True'])\n",
    "    trn_dp.refresh()\n",
    "    tst_dp.corr.update(df[df['Label'] == 'Test'].corr().Prediction['True'])\n",
    "    tst_dp.refresh()\n",
    "\n",
    "    if e % 1 == 0:\n",
    "        trn_dp.info('train')\n",
    "        tst_dp.info('test ')\n",
    "\n",
    "    if e % cfg.verbose_period == 0:\n",
    "        plt.title(f\"L1 Losses among epochs, {e}th\")\n",
    "        plt.plot(list(trn_dp.loss), label='Train')\n",
    "        plt.plot(list(tst_dp.loss), label='Test')\n",
    "        plt.grid(); plt.legend()\n",
    "\n",
    "        sns.lmplot(data=df, x='True', y='Prediction', hue='Label')\n",
    "        plt.grid()\n",
    "        plt.show()\n",
    "        \n",
    "        model_name = f'{cfg.model_name}_ep{e}-{str(cfg.epochs).zfill(3)}_sd{cfg.seed}_mae{cfg.best_mae:.3f}.pth'\n",
    "        save_checkpoint(model.state_dict(), model_name, model_dir=f'./result/models/{run_date}/', is_best=False)\n",
    "        \n",
    "        if db:\n",
    "            data = gather_data(e=e, time=elapsed_time, cfg=cfg,\n",
    "                               train=trn_dp, valid=tst_dp)\n",
    "            write_db(db, data)\n",
    "    \n",
    "    metrics = mlflow_data(time=elapsed_time, train=trn_dp, valid=tst_dp)\n",
    "    mlflow.log_metrics(metrics, e)\n",
    "    \n",
    "    torch.cuda.empty_cache()\n",
    "    \n",
    "# Save Parameters to MLFlow\n",
    "cfg.best_mae = min(tst_dp.mae)\n",
    "cfg.refresh()\n",
    "params = dict()\n",
    "for name, value in cfg.get_dict().items():\n",
    "    if name not in ['notion']:  \n",
    "        params[name] = str(value)\n",
    "mlflow.log_params(params)\n",
    "\n",
    "save_checkpoint(cfg.get_dict(), 'cfg.pt', model_dir=f'./result/models/{run_date}/', is_best=True)\n",
    "\n",
    "# Save Plots to MLFlow\n",
    "sns.jointplot(data=df[df['Label'] == 'Test'], x='Prediction', y='True', kind='reg')\n",
    "plt.grid()\n",
    "plt.savefig(f'./result/models/{run_date}/test_jointplot.png')\n",
    "plt.show()\n",
    "# mlflow.log_artifact(f'./result/models/{run_date}/test_jointplot.png')\n",
    "plt.close()\n",
    "\n",
    "plt.title(f\"L1 Losses\\n{condition}\")\n",
    "plt.plot(list(trn_dp.loss), label='Train')\n",
    "plt.plot(list(tst_dp.loss), label='Test')\n",
    "plt.grid(); plt.legend()\n",
    "plt.savefig(f'./result/models/{run_date}/loss_plot.png')\n",
    "plt.show()\n",
    "# mlflow.log_artifact(f'./result/models/{run_date}/loss_plot.png')\n",
    "\n",
    "mlflow.end_run()"
   ]
  },
  {
   "cell_type": "code",
   "execution_count": null,
   "metadata": {
    "ExecuteTime": {
     "start_time": "2021-03-22T00:56:28.625Z"
    }
   },
   "outputs": [],
   "source": [
    "import yaml\n",
    "cfg.best_mae = min(tst_dp.mae)\n",
    "with open(f'./result/models/{run_date}/cfg.yml', 'w') as y:\n",
    "    yaml.dump(cfg.get_dict(), y, default_flow_style=False)"
   ]
  },
  {
   "cell_type": "code",
   "execution_count": null,
   "metadata": {
    "ExecuteTime": {
     "end_time": "2021-03-18T11:19:29.708993Z",
     "start_time": "2021-03-18T11:19:29.202487Z"
    }
   },
   "outputs": [],
   "source": [
    "sns.jointplot(data=df[df['Label'] == 'Test'], x='Prediction', y='True', kind='reg')\n",
    "plt.grid()"
   ]
  },
  {
   "cell_type": "code",
   "execution_count": null,
   "metadata": {
    "ExecuteTime": {
     "end_time": "2021-03-19T10:28:05.650690Z",
     "start_time": "2021-03-19T10:28:05.095941Z"
    }
   },
   "outputs": [],
   "source": [
    "plt.title(f\"L1 Losses\\n{condition}\")\n",
    "plt.plot(list(trn_dp.loss), label='Train')\n",
    "plt.plot(list(tst_dp.loss), label='Test')\n",
    "plt.grid(); plt.legend()\n",
    "plt.savefig(f'./result/models/{run_date}/loss_plot.png')\n",
    "plt.show()\n",
    "mlflow.log_artifact(f'./result/models/{run_date}/loss_plot.png')"
   ]
  },
  {
   "cell_type": "markdown",
   "metadata": {},
   "source": [
    "### Unexpected stops - checkpoint"
   ]
  },
  {
   "cell_type": "code",
   "execution_count": 15,
   "metadata": {
    "ExecuteTime": {
     "end_time": "2021-03-23T01:39:20.118847Z",
     "start_time": "2021-03-23T01:35:47.301427Z"
    }
   },
   "outputs": [
    {
     "name": "stdout",
     "output_type": "stream",
     "text": [
      "Epoch 91 / 100, BEST MAE 6.499\n",
      "[train] 191.1 sec [valid] 21.0 sec \n",
      "[TRAIN]:: Loss=5.907 Mae=1.783 Rmse=2.289 Corr=0.989 \n",
      "[TEST ]:: Loss=69.431 Mae=6.616 Rmse=8.106 Corr=0.883 \n"
     ]
    },
    {
     "data": {
      "image/png": "[encoded data removed]",
      "text/plain": [
       "<Figure size 432x288 with 1 Axes>"
      ]
     },
     "metadata": {
      "needs_background": "light"
     },
     "output_type": "display_data"
    },
    {
     "data": {
      "image/png": "[encoded data removed]",
      "text/plain": [
       "<Figure size 420x360 with 1 Axes>"
      ]
     },
     "metadata": {
      "needs_background": "light"
     },
     "output_type": "display_data"
    },
    {
     "name": "stdout",
     "output_type": "stream",
     "text": [
      "Saving ...\n"
     ]
    },
    {
     "ename": "OSError",
     "evalue": "[WinError 433] A device which does not exist was specified: './result'",
     "output_type": "error",
     "traceback": [
      "\u001b[1;31m---------------------------------------------------------------------------\u001b[0m",
      "\u001b[1;31mOSError\u001b[0m                                   Traceback (most recent call last)",
      "\u001b[1;32m<ipython-input-15-fdd18ed9665e>\u001b[0m in \u001b[0;36m<module>\u001b[1;34m\u001b[0m\n\u001b[0;32m     40\u001b[0m \u001b[1;33m\u001b[0m\u001b[0m\n\u001b[0;32m     41\u001b[0m         \u001b[0mmodel_name\u001b[0m \u001b[1;33m=\u001b[0m \u001b[1;34mf'{cfg.model_name}_ep{e}-{str(cfg.epochs).zfill(3)}_sd{cfg.seed}_mae{cfg.best_mae:.3f}.pth'\u001b[0m\u001b[1;33m\u001b[0m\u001b[1;33m\u001b[0m\u001b[0m\n\u001b[1;32m---> 42\u001b[1;33m         \u001b[0msave_checkpoint\u001b[0m\u001b[1;33m(\u001b[0m\u001b[0mmodel\u001b[0m\u001b[1;33m.\u001b[0m\u001b[0mstate_dict\u001b[0m\u001b[1;33m(\u001b[0m\u001b[1;33m)\u001b[0m\u001b[1;33m,\u001b[0m \u001b[0mmodel_name\u001b[0m\u001b[1;33m,\u001b[0m \u001b[0mmodel_dir\u001b[0m\u001b[1;33m=\u001b[0m\u001b[1;34mf'./result/models/{run_date}/'\u001b[0m\u001b[1;33m,\u001b[0m \u001b[0mis_best\u001b[0m\u001b[1;33m=\u001b[0m\u001b[1;32mFalse\u001b[0m\u001b[1;33m)\u001b[0m\u001b[1;33m\u001b[0m\u001b[1;33m\u001b[0m\u001b[0m\n\u001b[0m\u001b[0;32m     43\u001b[0m \u001b[1;33m\u001b[0m\u001b[0m\n\u001b[0;32m     44\u001b[0m         \u001b[1;32mif\u001b[0m \u001b[0mdb\u001b[0m\u001b[1;33m:\u001b[0m\u001b[1;33m\u001b[0m\u001b[1;33m\u001b[0m\u001b[0m\n",
      "\u001b[1;32mG:\\My Drive\\brain_data\\workspace\\3d_brain\\src\\models\\model_util.py\u001b[0m in \u001b[0;36msave_checkpoint\u001b[1;34m(state, model_filename, model_dir, is_best)\u001b[0m\n\u001b[0;32m     62\u001b[0m     \u001b[0mprint\u001b[0m\u001b[1;33m(\u001b[0m\u001b[1;34m'Saving ...'\u001b[0m\u001b[1;33m)\u001b[0m\u001b[1;33m\u001b[0m\u001b[1;33m\u001b[0m\u001b[0m\n\u001b[0;32m     63\u001b[0m     \u001b[1;32mif\u001b[0m \u001b[1;32mnot\u001b[0m \u001b[0mos\u001b[0m\u001b[1;33m.\u001b[0m\u001b[0mpath\u001b[0m\u001b[1;33m.\u001b[0m\u001b[0mexists\u001b[0m\u001b[1;33m(\u001b[0m\u001b[0mmodel_dir\u001b[0m\u001b[1;33m)\u001b[0m\u001b[1;33m:\u001b[0m\u001b[1;33m\u001b[0m\u001b[1;33m\u001b[0m\u001b[0m\n\u001b[1;32m---> 64\u001b[1;33m         \u001b[0mos\u001b[0m\u001b[1;33m.\u001b[0m\u001b[0mmakedirs\u001b[0m\u001b[1;33m(\u001b[0m\u001b[0mmodel_dir\u001b[0m\u001b[1;33m)\u001b[0m\u001b[1;33m\u001b[0m\u001b[1;33m\u001b[0m\u001b[0m\n\u001b[0m\u001b[0;32m     65\u001b[0m     \u001b[1;31m# torch.save(state, os.path.join(model_dir, model_filename))\u001b[0m\u001b[1;33m\u001b[0m\u001b[1;33m\u001b[0m\u001b[1;33m\u001b[0m\u001b[0m\n\u001b[0;32m     66\u001b[0m     \u001b[1;32mif\u001b[0m \u001b[0mis_best\u001b[0m\u001b[1;33m:\u001b[0m\u001b[1;33m\u001b[0m\u001b[1;33m\u001b[0m\u001b[0m\n",
      "\u001b[1;32m~\\anaconda3\\envs\\cnn\\lib\\os.py\u001b[0m in \u001b[0;36mmakedirs\u001b[1;34m(name, mode, exist_ok)\u001b[0m\n\u001b[0;32m    211\u001b[0m     \u001b[1;32mif\u001b[0m \u001b[0mhead\u001b[0m \u001b[1;32mand\u001b[0m \u001b[0mtail\u001b[0m \u001b[1;32mand\u001b[0m \u001b[1;32mnot\u001b[0m \u001b[0mpath\u001b[0m\u001b[1;33m.\u001b[0m\u001b[0mexists\u001b[0m\u001b[1;33m(\u001b[0m\u001b[0mhead\u001b[0m\u001b[1;33m)\u001b[0m\u001b[1;33m:\u001b[0m\u001b[1;33m\u001b[0m\u001b[1;33m\u001b[0m\u001b[0m\n\u001b[0;32m    212\u001b[0m         \u001b[1;32mtry\u001b[0m\u001b[1;33m:\u001b[0m\u001b[1;33m\u001b[0m\u001b[1;33m\u001b[0m\u001b[0m\n\u001b[1;32m--> 213\u001b[1;33m             \u001b[0mmakedirs\u001b[0m\u001b[1;33m(\u001b[0m\u001b[0mhead\u001b[0m\u001b[1;33m,\u001b[0m \u001b[0mexist_ok\u001b[0m\u001b[1;33m=\u001b[0m\u001b[0mexist_ok\u001b[0m\u001b[1;33m)\u001b[0m\u001b[1;33m\u001b[0m\u001b[1;33m\u001b[0m\u001b[0m\n\u001b[0m\u001b[0;32m    214\u001b[0m         \u001b[1;32mexcept\u001b[0m \u001b[0mFileExistsError\u001b[0m\u001b[1;33m:\u001b[0m\u001b[1;33m\u001b[0m\u001b[1;33m\u001b[0m\u001b[0m\n\u001b[0;32m    215\u001b[0m             \u001b[1;31m# Defeats race condition when another thread created the path\u001b[0m\u001b[1;33m\u001b[0m\u001b[1;33m\u001b[0m\u001b[1;33m\u001b[0m\u001b[0m\n",
      "\u001b[1;32m~\\anaconda3\\envs\\cnn\\lib\\os.py\u001b[0m in \u001b[0;36mmakedirs\u001b[1;34m(name, mode, exist_ok)\u001b[0m\n\u001b[0;32m    211\u001b[0m     \u001b[1;32mif\u001b[0m \u001b[0mhead\u001b[0m \u001b[1;32mand\u001b[0m \u001b[0mtail\u001b[0m \u001b[1;32mand\u001b[0m \u001b[1;32mnot\u001b[0m \u001b[0mpath\u001b[0m\u001b[1;33m.\u001b[0m\u001b[0mexists\u001b[0m\u001b[1;33m(\u001b[0m\u001b[0mhead\u001b[0m\u001b[1;33m)\u001b[0m\u001b[1;33m:\u001b[0m\u001b[1;33m\u001b[0m\u001b[1;33m\u001b[0m\u001b[0m\n\u001b[0;32m    212\u001b[0m         \u001b[1;32mtry\u001b[0m\u001b[1;33m:\u001b[0m\u001b[1;33m\u001b[0m\u001b[1;33m\u001b[0m\u001b[0m\n\u001b[1;32m--> 213\u001b[1;33m             \u001b[0mmakedirs\u001b[0m\u001b[1;33m(\u001b[0m\u001b[0mhead\u001b[0m\u001b[1;33m,\u001b[0m \u001b[0mexist_ok\u001b[0m\u001b[1;33m=\u001b[0m\u001b[0mexist_ok\u001b[0m\u001b[1;33m)\u001b[0m\u001b[1;33m\u001b[0m\u001b[1;33m\u001b[0m\u001b[0m\n\u001b[0m\u001b[0;32m    214\u001b[0m         \u001b[1;32mexcept\u001b[0m \u001b[0mFileExistsError\u001b[0m\u001b[1;33m:\u001b[0m\u001b[1;33m\u001b[0m\u001b[1;33m\u001b[0m\u001b[0m\n\u001b[0;32m    215\u001b[0m             \u001b[1;31m# Defeats race condition when another thread created the path\u001b[0m\u001b[1;33m\u001b[0m\u001b[1;33m\u001b[0m\u001b[1;33m\u001b[0m\u001b[0m\n",
      "\u001b[1;32m~\\anaconda3\\envs\\cnn\\lib\\os.py\u001b[0m in \u001b[0;36mmakedirs\u001b[1;34m(name, mode, exist_ok)\u001b[0m\n\u001b[0;32m    221\u001b[0m             \u001b[1;32mreturn\u001b[0m\u001b[1;33m\u001b[0m\u001b[1;33m\u001b[0m\u001b[0m\n\u001b[0;32m    222\u001b[0m     \u001b[1;32mtry\u001b[0m\u001b[1;33m:\u001b[0m\u001b[1;33m\u001b[0m\u001b[1;33m\u001b[0m\u001b[0m\n\u001b[1;32m--> 223\u001b[1;33m         \u001b[0mmkdir\u001b[0m\u001b[1;33m(\u001b[0m\u001b[0mname\u001b[0m\u001b[1;33m,\u001b[0m \u001b[0mmode\u001b[0m\u001b[1;33m)\u001b[0m\u001b[1;33m\u001b[0m\u001b[1;33m\u001b[0m\u001b[0m\n\u001b[0m\u001b[0;32m    224\u001b[0m     \u001b[1;32mexcept\u001b[0m \u001b[0mOSError\u001b[0m\u001b[1;33m:\u001b[0m\u001b[1;33m\u001b[0m\u001b[1;33m\u001b[0m\u001b[0m\n\u001b[0;32m    225\u001b[0m         \u001b[1;31m# Cannot rely on checking for EEXIST, since the operating system\u001b[0m\u001b[1;33m\u001b[0m\u001b[1;33m\u001b[0m\u001b[1;33m\u001b[0m\u001b[0m\n",
      "\u001b[1;31mOSError\u001b[0m: [WinError 433] A device which does not exist was specified: './result'"
     ]
    }
   ],
   "source": [
    "fold = None\n",
    "# cfg.epochs = 200\n",
    "db = make_db(page, client=client, schema=cfg['notion']['no_fold_aug_schema'], title='Results') if cfg['notion']['use'] else None\n",
    "for e in range(e, cfg.epochs):\n",
    "    \n",
    "    start_time = time.time()\n",
    "    print(f'Epoch {e+1} / {cfg.epochs}, BEST MAE {cfg.best_mae:.3f}')\n",
    "    \n",
    "    model, trn_dp, trn_res = train(model, optimizer, fn_lst, trn_dp, cfg, fold=fold, augment=True)\n",
    "    model, tst_dp, tst_res = valid(model, fn_lst, tst_dp, cfg, fold=fold)\n",
    "    elapsed_time = round(time.time() - start_time, 3)\n",
    "       \n",
    "    if cfg.best_mae > tst_dp.mae[-1]:\n",
    "        \n",
    "        cfg.best_mae = tst_dp.mae[-1]\n",
    "        model_name = f'{cfg.model_name}_ep{e}-{cfg.epochs}_sd{cfg.seed}_mae{cfg.best_mae:.3f}.pth'\n",
    "        save_checkpoint(model.state_dict(), model_name, model_dir=f'./result/models/{run_date}/', is_best=True)\n",
    "        \n",
    "    df = pd.concat([make_df(trn_res, 'Train'),\n",
    "                    make_df(tst_res, 'Test')], ignore_index=True)\n",
    "    \n",
    "    trn_dp.corr.update(df[df['Label'] == 'Train'].corr().Prediction['True'])\n",
    "    trn_dp.refresh()\n",
    "    tst_dp.corr.update(df[df['Label'] == 'Test'].corr().Prediction['True'])\n",
    "    tst_dp.refresh()\n",
    "\n",
    "    if e % 1 == 0:\n",
    "        trn_dp.info('train')\n",
    "        tst_dp.info('test ')\n",
    "\n",
    "    if e % cfg.verbose_period == 0:\n",
    "        plt.title(f\"L1 Losses among epochs, {e}th\")\n",
    "        plt.plot(list(trn_dp.loss), label='Train')\n",
    "        plt.plot(list(tst_dp.loss), label='Test')\n",
    "        plt.grid(); plt.legend()\n",
    "\n",
    "        sns.lmplot(data=df, x='True', y='Prediction', hue='Label')\n",
    "        plt.grid()\n",
    "        plt.show()\n",
    "        \n",
    "        model_name = f'{cfg.model_name}_ep{e}-{str(cfg.epochs).zfill(3)}_sd{cfg.seed}_mae{cfg.best_mae:.3f}.pth'\n",
    "        save_checkpoint(model.state_dict(), model_name, model_dir=f'./result/models/{run_date}/', is_best=False)\n",
    "        \n",
    "        if db:\n",
    "            data = gather_data(e=e, time=elapsed_time, cfg=cfg,\n",
    "                               train=trn_dp, valid=tst_dp)\n",
    "            write_db(db, data)\n",
    "    \n",
    "    metrics = mlflow_data(time=elapsed_time, train=trn_dp, valid=tst_dp)\n",
    "    mlflow.log_metrics(metrics, e)\n",
    "    \n",
    "    torch.cuda.empty_cache()\n",
    "    \n",
    "# Save Parameters to MLFlow\n",
    "cfg.best_mae = min(tst_dp.mae)\n",
    "cfg.refresh()\n",
    "params = dict()\n",
    "for name, value in cfg.get_dict().items():\n",
    "    if name not in ['notion']:  \n",
    "        params[name] = str(value)\n",
    "mlflow.log_params(params)\n",
    "\n",
    "save_checkpoint(cfg.get_dict(), 'cfg.pt', model_dir=f'./result/models/{run_date}/', is_best=True)\n",
    "\n",
    "# Save Plots to MLFlow\n",
    "sns.jointplot(data=df[df['Label'] == 'Test'], x='Prediction', y='True', kind='reg')\n",
    "plt.grid()\n",
    "plt.savefig(f'./result/models/{run_date}/test_jointplot.png')\n",
    "plt.show()\n",
    "# mlflow.log_artifact(f'./result/models/{run_date}/test_jointplot.png')\n",
    "plt.close()\n",
    "\n",
    "plt.title(f\"L1 Losses\\n{condition}\")\n",
    "plt.plot(list(trn_dp.loss), label='Train')\n",
    "plt.plot(list(tst_dp.loss), label='Test')\n",
    "plt.grid(); plt.legend()\n",
    "plt.savefig(f'./result/models/{run_date}/loss_plot.png')\n",
    "plt.show()\n",
    "# mlflow.log_artifact(f'./result/models/{run_date}/loss_plot.png')\n",
    "\n",
    "mlflow.end_run()"
   ]
  },
  {
   "cell_type": "markdown",
   "metadata": {},
   "source": [
    "### kFold"
   ]
  },
  {
   "cell_type": "code",
   "execution_count": 8,
   "metadata": {
    "ExecuteTime": {
     "end_time": "2021-02-08T03:24:42.513463Z",
     "start_time": "2021-02-08T03:24:42.501464Z"
    }
   },
   "outputs": [],
   "source": [
    "models  = []\n",
    "packets = []\n",
    "tst_dp = DataPacket()"
   ]
  },
  {
   "cell_type": "markdown",
   "metadata": {},
   "source": [
    "#### Whole Run"
   ]
  },
  {
   "cell_type": "code",
   "execution_count": 9,
   "metadata": {
    "ExecuteTime": {
     "end_time": "2021-02-08T03:24:44.086810Z",
     "start_time": "2021-02-08T03:24:43.867391Z"
    }
   },
   "outputs": [],
   "source": [
    "# test_db = make_db(page, client=client, schema=cfg['notion']['test_schema'], title='Test') if cfg['notion']['use'] else None\n",
    "test_db = page.children[2]\n",
    "fold_db = make_db(page, client=client, schema=cfg['notion']['schema'], title=f'Fold {fold+1}') if cfg['notion']['use'] else None"
   ]
  },
  {
   "cell_type": "code",
   "execution_count": null,
   "metadata": {
    "ExecuteTime": {
     "end_time": "2021-02-08T11:13:55.572508Z",
     "start_time": "2021-02-08T07:39:05.946681Z"
    }
   },
   "outputs": [],
   "source": [
    "for fold in range(16, cfg.folds):\n",
    "    \n",
    "    print(f'Fold {fold+1} / {cfg.folds}')\n",
    "    mlflow.start_run(run_name=f'{today()} Fold {fold+1}')\n",
    "    mlflow.log_params(params)\n",
    "    mlflow.set_tags({\n",
    "        'fold': fold+1\n",
    "    })\n",
    "\n",
    "    model, dps, res = run(cfg, fold, fold_db, mlflow=mlflow)\n",
    "    models.append(model)\n",
    "    packets.append(dps)\n",
    "    \n",
    "    cfg.test = True\n",
    "    model, tst_dp, tst_res = eval(model, fn_lst, tst_dp, cfg, fold=None)\n",
    "    \n",
    "    df = pd.concat([make_df(res[0], 'Train'),\n",
    "                   make_df(res[1], 'Valid'),\n",
    "                   make_df(tst_res, 'Test')], ignore_index=True)\n",
    "    \n",
    "    tst_dp.corr.update(df[df['Label'] == 'Test'].corr().Prediction['True'])\n",
    "    tst_dp.refresh()\n",
    "    \n",
    "    # Show Holdout testset information\n",
    "    tst_dp.info('Holdout test')\n",
    "    sns.lmplot(data=df, x='True', y='Prediction', hue='Label')\n",
    "    plt.grid()\n",
    "    plt.show()\n",
    "    \n",
    "    if test_db:\n",
    "        data = gather_data(f=fold, test=tst_dp)\n",
    "        write_db(test_db, data)\n",
    "    \n",
    "    torch.cuda.empty_cache()\n",
    "    clear_output(wait=True)"
   ]
  },
  {
   "cell_type": "markdown",
   "metadata": {},
   "source": [
    "## Ensemble"
   ]
  },
  {
   "cell_type": "markdown",
   "metadata": {},
   "source": [
    "### Naive Averaging"
   ]
  },
  {
   "cell_type": "code",
   "execution_count": 39,
   "metadata": {
    "ExecuteTime": {
     "end_time": "2021-01-20T04:32:10.166519Z",
     "start_time": "2021-01-20T04:31:28.471706Z"
    }
   },
   "outputs": [
    {
     "name": "stdout",
     "output_type": "stream",
     "text": [
      "Model Resnet is selected.\n",
      "Model Resnet is selected.\n",
      "Model Resnet is selected.\n",
      "Model Resnet is selected.\n",
      "Model Resnet is selected.\n"
     ]
    }
   ],
   "source": [
    "# Ensemble\n",
    "preds = dict()\n",
    "models = glob('./models/ensembles/*.pth')\n",
    "for fold, state in enumerate(models):\n",
    "    \n",
    "    model, device = load_model('resnet', verbose=False)\n",
    "    model = torch.load(state)\n",
    "    \n",
    "    model, (_, _, _), tst_preds = eval(model, True, None, None, resize, device, batch_size,\n",
    "                                      loss_fn, mae_fn, rmse_fn,\n",
    "                                      [], [], [])\n",
    "    \n",
    "    preds[f'model_{fold}'] = list(map(float, tst_preds[1]))\n",
    "    \n",
    "ensemble_results = pd.DataFrame(preds)\n",
    "ensemble_results['Avg'] = ensemble_results.mean(axis=1)\n",
    "ensemble_results['True'] = list(map(float, tst_preds[0]))"
   ]
  },
  {
   "cell_type": "code",
   "execution_count": 64,
   "metadata": {
    "ExecuteTime": {
     "end_time": "2021-01-20T04:42:02.363594Z",
     "start_time": "2021-01-20T04:42:02.355083Z"
    }
   },
   "outputs": [],
   "source": [
    "def result_plot(df):\n",
    "    \n",
    "    avg = torch.Tensor(ensemble_results['Avg'])\n",
    "    tru = torch.Tensor(ensemble_results['True'])\n",
    "    \n",
    "    corr = ensemble_results.corr()['True']['Avg']\n",
    "    mae_fn, rmse_fn = nn.L1Loss(), RMSELoss()\n",
    "    \n",
    "    print(f'Ensemble Results')\n",
    "    print(f'MAE  = {float(mae_fn(avg, tru)):.3f}')\n",
    "    print(f'RMSE = {float(rmse_fn(avg, tru)):.3f}')\n",
    "    print(f'CORR = {corr:.3f}')\n",
    "    \n",
    "    sns.lmplot(data=ensemble_results, x='True', y='Avg')\n",
    "    plt.grid()\n",
    "    plt.show()"
   ]
  },
  {
   "cell_type": "code",
   "execution_count": 65,
   "metadata": {
    "ExecuteTime": {
     "end_time": "2021-01-20T04:42:02.805698Z",
     "start_time": "2021-01-20T04:42:02.546708Z"
    }
   },
   "outputs": [
    {
     "name": "stdout",
     "output_type": "stream",
     "text": [
      "Ensemble Results\n",
      "MAE  = 7.025\n",
      "RMSE = 8.598\n",
      "CORR = 0.854\n"
     ]
    },
    {
     "data": {
      "image/png": "[encoded data removed]",
      "text/plain": [
       "<Figure size 360x360 with 1 Axes>"
      ]
     },
     "metadata": {
      "needs_background": "light"
     },
     "output_type": "display_data"
    }
   ],
   "source": [
    "result_plot(ensemble_results)"
   ]
  },
  {
   "cell_type": "markdown",
   "metadata": {},
   "source": [
    "### Blender"
   ]
  },
  {
   "cell_type": "code",
   "execution_count": 7,
   "metadata": {
    "ExecuteTime": {
     "end_time": "2021-01-27T08:02:57.712105Z",
     "start_time": "2021-01-27T08:02:57.698105Z"
    }
   },
   "outputs": [],
   "source": [
    "class Identity(nn.Module):\n",
    "    def __init__(self):\n",
    "        super(Identity, self).__init__()\n",
    "        \n",
    "    def forward(self, x):\n",
    "        return x"
   ]
  },
  {
   "cell_type": "code",
   "execution_count": 8,
   "metadata": {
    "ExecuteTime": {
     "end_time": "2021-01-27T08:02:58.128103Z",
     "start_time": "2021-01-27T08:02:58.118111Z"
    }
   },
   "outputs": [],
   "source": [
    "class CFG:\n",
    "    \n",
    "    model_name='resnet'\n",
    "    dropout=0.1\n",
    "    use_last_layer=True"
   ]
  },
  {
   "cell_type": "code",
   "execution_count": 10,
   "metadata": {
    "ExecuteTime": {
     "end_time": "2021-01-27T08:03:04.805978Z",
     "start_time": "2021-01-27T08:03:04.798010Z"
    }
   },
   "outputs": [],
   "source": [
    "class Ensemble(nn.Module):\n",
    "    \n",
    "    def __init__(self, model_list, CFG):\n",
    "        super(Ensemble, self).__init__()\n",
    "        \n",
    "        self.cfg = CFG\n",
    "        self.dropout = self.cfg.dropout\n",
    "        self.models = dict()\n",
    "        \n",
    "        for idx, model_path in enumerate(model_list):\n",
    "            \n",
    "            model, device = load_model(self.cfg.model_name, verbose=False)\n",
    "            model = torch.load(model_path)\n",
    "            if not self.cfg.use_last_layer:\n",
    "                model.fc = Identity()\n",
    "                \n",
    "                self.last_layer = nn.Sequential(\n",
    "                    nn.Linear(len(model_list) * 128, 128),\n",
    "                    nn.Dropout(self.dropout),\n",
    "                    nn.Linear(128, 1)\n",
    "#                     nn.Dropout(self.dropout)\n",
    "                )\n",
    "                \n",
    "            else:\n",
    "                self.last_layer = nn.Sequential(\n",
    "                    nn.Linear(len(model_list), 1),\n",
    "#                     nn.Dropout(self.dropout)\n",
    "                )\n",
    "                \n",
    "            for param in model.parameters():\n",
    "                param.requires_grad = False\n",
    "                \n",
    "            self.models[idx] = model\n",
    "        \n",
    "    def forward(self, x):\n",
    "        \n",
    "        vectors = list()\n",
    "        for idx, model in self.models.items():\n",
    "            vectors.append(model(x))\n",
    "            \n",
    "        x = torch.cat(vectors, dim=1)\n",
    "        x = self.last_layer(x)\n",
    "        \n",
    "        return x"
   ]
  },
  {
   "cell_type": "code",
   "execution_count": 11,
   "metadata": {
    "ExecuteTime": {
     "end_time": "2021-01-27T08:03:09.478826Z",
     "start_time": "2021-01-27T08:03:09.109293Z"
    }
   },
   "outputs": [
    {
     "name": "stdout",
     "output_type": "stream",
     "text": [
      "Model Resnet is selected.\n",
      "Model Resnet is selected.\n",
      "Model Resnet is selected.\n",
      "Model Resnet is selected.\n",
      "Model Resnet is selected.\n"
     ]
    }
   ],
   "source": [
    "model_list = glob('./models/ensembles/rough/*.pth')\n",
    "model_list.sort()\n",
    "cfg = CFG()\n",
    "cfg.use_last_layer = True\n",
    "model = Ensemble(model_list, cfg).to(device)\n",
    "with torch.no_grad():\n",
    "    model.last_layer[0].weight.fill_(1 / len(model_list))\n",
    "optimizer = optim.Adam(model.parameters(), lr=1e-4)"
   ]
  },
  {
   "cell_type": "markdown",
   "metadata": {},
   "source": [
    "## SFCN Test"
   ]
  },
  {
   "cell_type": "code",
   "execution_count": 53,
   "metadata": {
    "ExecuteTime": {
     "end_time": "2021-02-09T10:20:04.347002Z",
     "start_time": "2021-02-09T10:20:03.732504Z"
    }
   },
   "outputs": [
    {
     "name": "stdout",
     "output_type": "stream",
     "text": [
      "Model Resnet is selected.\n",
      "----------------------------------------------------------------\n",
      "        Layer (type)               Output Shape         Param #\n",
      "================================================================\n",
      "            Conv3d-1       [-1, 16, 96, 48, 48]           2,352\n",
      "       BatchNorm3d-2       [-1, 16, 96, 48, 48]              32\n",
      "              ReLU-3       [-1, 16, 96, 48, 48]               0\n",
      "         MaxPool3d-4       [-1, 16, 48, 24, 24]               0\n",
      "            Conv3d-5       [-1, 16, 48, 24, 24]           6,912\n",
      "       BatchNorm3d-6       [-1, 16, 48, 24, 24]              32\n",
      "              ReLU-7       [-1, 16, 48, 24, 24]               0\n",
      "            Conv3d-8       [-1, 16, 48, 24, 24]           6,912\n",
      "       BatchNorm3d-9       [-1, 16, 48, 24, 24]              32\n",
      "             ReLU-10       [-1, 16, 48, 24, 24]               0\n",
      "       BasicBlock-11       [-1, 16, 48, 24, 24]               0\n",
      "           Conv3d-12       [-1, 32, 24, 12, 12]          13,824\n",
      "      BatchNorm3d-13       [-1, 32, 24, 12, 12]              64\n",
      "             ReLU-14       [-1, 32, 24, 12, 12]               0\n",
      "           Conv3d-15       [-1, 32, 24, 12, 12]          27,648\n",
      "      BatchNorm3d-16       [-1, 32, 24, 12, 12]              64\n",
      "             ReLU-17       [-1, 32, 24, 12, 12]               0\n",
      "       BasicBlock-18       [-1, 32, 24, 12, 12]               0\n",
      "           Conv3d-19         [-1, 64, 12, 6, 6]          55,296\n",
      "      BatchNorm3d-20         [-1, 64, 12, 6, 6]             128\n",
      "             ReLU-21         [-1, 64, 12, 6, 6]               0\n",
      "           Conv3d-22         [-1, 64, 12, 6, 6]         110,592\n",
      "      BatchNorm3d-23         [-1, 64, 12, 6, 6]             128\n",
      "             ReLU-24         [-1, 64, 12, 6, 6]               0\n",
      "       BasicBlock-25         [-1, 64, 12, 6, 6]               0\n",
      "           Conv3d-26         [-1, 128, 6, 3, 3]         221,184\n",
      "      BatchNorm3d-27         [-1, 128, 6, 3, 3]             256\n",
      "             ReLU-28         [-1, 128, 6, 3, 3]               0\n",
      "           Conv3d-29         [-1, 128, 6, 3, 3]         442,368\n",
      "      BatchNorm3d-30         [-1, 128, 6, 3, 3]             256\n",
      "             ReLU-31         [-1, 128, 6, 3, 3]               0\n",
      "       BasicBlock-32         [-1, 128, 6, 3, 3]               0\n",
      "AdaptiveAvgPool3d-33         [-1, 128, 1, 1, 1]               0\n",
      "           Linear-34                    [-1, 1]             129\n",
      "================================================================\n",
      "Total params: 888,209\n",
      "Trainable params: 888,209\n",
      "Non-trainable params: 0\n",
      "----------------------------------------------------------------\n",
      "Input size (MB): 3.38\n",
      "Forward/backward pass size (MB): 115.75\n",
      "Params size (MB): 3.39\n",
      "Estimated Total Size (MB): 122.52\n",
      "----------------------------------------------------------------\n",
      "None\n"
     ]
    }
   ],
   "source": [
    "resnet, _ = load_model('resnet', verbose=True)"
   ]
  },
  {
   "cell_type": "code",
   "execution_count": 119,
   "metadata": {
    "ExecuteTime": {
     "end_time": "2021-02-09T10:44:54.274066Z",
     "start_time": "2021-02-09T10:44:54.207098Z"
    }
   },
   "outputs": [
    {
     "name": "stdout",
     "output_type": "stream",
     "text": [
      "Model Sfcn is selected.\n"
     ]
    }
   ],
   "source": [
    "cfg.model_name = 'sfcn'\n",
    "model, cfg.device = load_model(cfg.model_name, verbose=False)\n",
    "optimizer = optim.Adam(model.parameters(), lr=cfg.learning_rate)"
   ]
  },
  {
   "cell_type": "code",
   "execution_count": 120,
   "metadata": {
    "ExecuteTime": {
     "end_time": "2021-02-09T10:44:55.001390Z",
     "start_time": "2021-02-09T10:44:54.709577Z"
    }
   },
   "outputs": [
    {
     "data": {
      "text/plain": [
       "<All keys matched successfully>"
      ]
     },
     "execution_count": 120,
     "metadata": {},
     "output_type": "execute_result"
    }
   ],
   "source": [
    "state_dict = torch.load('../UKBiobank_deep_pretrain/brain_age/run_20190719_00_epoch_best_mae.p')\n",
    "state_dict = dict(state_dict)\n",
    "keys = list(map(lambda x: x.split('module.')[-1], state_dict.keys()))\n",
    "state_dict = {k: v for k, v in zip(keys, state_dict.values())}\n",
    "model.load_state_dict(state_dict)"
   ]
  },
  {
   "cell_type": "code",
   "execution_count": 52,
   "metadata": {
    "ExecuteTime": {
     "end_time": "2021-02-09T10:19:42.127224Z",
     "start_time": "2021-02-09T10:19:41.781101Z"
    }
   },
   "outputs": [
    {
     "name": "stdout",
     "output_type": "stream",
     "text": [
      "----------------------------------------------------------------\n",
      "        Layer (type)               Output Shape         Param #\n",
      "================================================================\n",
      "            Conv3d-1    [-1, 32, 160, 192, 160]             896\n",
      "       BatchNorm3d-2    [-1, 32, 160, 192, 160]              64\n",
      "         MaxPool3d-3       [-1, 32, 80, 96, 80]               0\n",
      "              ReLU-4       [-1, 32, 80, 96, 80]               0\n",
      "            Conv3d-5       [-1, 64, 80, 96, 80]          55,360\n",
      "       BatchNorm3d-6       [-1, 64, 80, 96, 80]             128\n",
      "         MaxPool3d-7       [-1, 64, 40, 48, 40]               0\n",
      "              ReLU-8       [-1, 64, 40, 48, 40]               0\n",
      "            Conv3d-9      [-1, 128, 40, 48, 40]         221,312\n",
      "      BatchNorm3d-10      [-1, 128, 40, 48, 40]             256\n",
      "        MaxPool3d-11      [-1, 128, 20, 24, 20]               0\n",
      "             ReLU-12      [-1, 128, 20, 24, 20]               0\n",
      "           Conv3d-13      [-1, 256, 20, 24, 20]         884,992\n",
      "      BatchNorm3d-14      [-1, 256, 20, 24, 20]             512\n",
      "        MaxPool3d-15      [-1, 256, 10, 12, 10]               0\n",
      "             ReLU-16      [-1, 256, 10, 12, 10]               0\n",
      "           Conv3d-17      [-1, 256, 10, 12, 10]       1,769,728\n",
      "      BatchNorm3d-18      [-1, 256, 10, 12, 10]             512\n",
      "        MaxPool3d-19         [-1, 256, 5, 6, 5]               0\n",
      "             ReLU-20         [-1, 256, 5, 6, 5]               0\n",
      "           Conv3d-21          [-1, 64, 5, 6, 5]          16,448\n",
      "      BatchNorm3d-22          [-1, 64, 5, 6, 5]             128\n",
      "             ReLU-23          [-1, 64, 5, 6, 5]               0\n",
      "        AvgPool3d-24          [-1, 64, 1, 1, 1]               0\n",
      "          Dropout-25          [-1, 64, 1, 1, 1]               0\n",
      "           Conv3d-26          [-1, 40, 1, 1, 1]           2,600\n",
      "================================================================\n",
      "Total params: 2,952,936\n",
      "Trainable params: 2,952,936\n",
      "Non-trainable params: 0\n",
      "----------------------------------------------------------------\n",
      "Input size (MB): 18.75\n",
      "Forward/backward pass size (MB): 3591.43\n",
      "Params size (MB): 11.26\n",
      "Estimated Total Size (MB): 3621.45\n",
      "----------------------------------------------------------------\n"
     ]
    }
   ],
   "source": [
    "summary(model, input_size=(1, 160, 192, 160))"
   ]
  },
  {
   "cell_type": "code",
   "execution_count": 122,
   "metadata": {
    "ExecuteTime": {
     "end_time": "2021-02-09T10:45:07.472713Z",
     "start_time": "2021-02-09T10:45:07.215265Z"
    }
   },
   "outputs": [],
   "source": [
    "cfg.test = True\n",
    "test_dset = MyDataset(cfg, augment=False, fold=None)\n",
    "test_dl = DataLoader(test_dset, batch_size=16)"
   ]
  },
  {
   "cell_type": "code",
   "execution_count": 123,
   "metadata": {
    "ExecuteTime": {
     "end_time": "2021-02-09T10:45:10.255298Z",
     "start_time": "2021-02-09T10:45:10.247749Z"
    }
   },
   "outputs": [],
   "source": [
    "from tqdm import tqdm"
   ]
  },
  {
   "cell_type": "code",
   "execution_count": 124,
   "metadata": {
    "ExecuteTime": {
     "end_time": "2021-02-09T10:45:10.585409Z",
     "start_time": "2021-02-09T10:45:10.582410Z"
    }
   },
   "outputs": [],
   "source": [
    "mae = nn.L1Loss()"
   ]
  },
  {
   "cell_type": "code",
   "execution_count": 125,
   "metadata": {
    "ExecuteTime": {
     "end_time": "2021-02-09T10:45:10.961693Z",
     "start_time": "2021-02-09T10:45:10.942692Z"
    }
   },
   "outputs": [
    {
     "data": {
      "text/plain": [
       "175"
      ]
     },
     "execution_count": 125,
     "metadata": {},
     "output_type": "execute_result"
    }
   ],
   "source": [
    "len(test_dl)"
   ]
  },
  {
   "cell_type": "code",
   "execution_count": 141,
   "metadata": {
    "ExecuteTime": {
     "end_time": "2021-02-09T11:20:49.031486Z",
     "start_time": "2021-02-09T11:19:14.467069Z"
    },
    "scrolled": true
   },
   "outputs": [
    {
     "name": "stderr",
     "output_type": "stream",
     "text": [
      "175it [01:34,  1.85it/s]\n"
     ]
    }
   ],
   "source": [
    "model.to(cfg.device)\n",
    "model.eval()\n",
    "y_preds, ys = [], []\n",
    "age_bins = torch.tensor([42+i for i in range(40)])\n",
    "with torch.no_grad(): # to not give loads on GPU... :(\n",
    "    for i, (x, y) in tqdm(enumerate(test_dl)):\n",
    "\n",
    "        x, y = F.interpolate(x, size=(160, 192, 160)).to(cfg.device), y.to(cfg.device)\n",
    "\n",
    "        y_pred = model.forward(x)[0].to(cfg.device)\n",
    "        y_pred = (np.exp(y_pred.squeeze().cpu()) * age_bins).sum()\n",
    "#         y_pred = y_pred.max(axis=1).indices.squeeze()\n",
    "#         y_pred += 42\n",
    "        y_preds.append(y_pred)\n",
    "        ys.append(y.squeeze())\n",
    "#             loss = mae(y_pred, y.squeeze())\n",
    "\n",
    "\n",
    "torch.cuda.empty_cache()"
   ]
  },
  {
   "cell_type": "code",
   "execution_count": null,
   "metadata": {},
   "outputs": [],
   "source": []
  }
 ],
 "metadata": {
  "kernelspec": {
   "display_name": "Python 3",
   "language": "python",
   "name": "python3"
  },
  "language_info": {
   "codemirror_mode": {
    "name": "ipython",
    "version": 3
   },
   "file_extension": ".py",
   "mimetype": "text/x-python",
   "name": "python",
   "nbconvert_exporter": "python",
   "pygments_lexer": "ipython3",
   "version": "3.7.9"
  },
  "toc": {
   "base_numbering": 1,
   "nav_menu": {},
   "number_sections": true,
   "sideBar": true,
   "skip_h1_title": false,
   "title_cell": "Table of Contents",
   "title_sidebar": "Contents",
   "toc_cell": false,
   "toc_position": {
    "height": "calc(100% - 180px)",
    "left": "10px",
    "top": "150px",
    "width": "191.527px"
   },
   "toc_section_display": true,
   "toc_window_display": true
  }
 },
 "nbformat": 4,
 "nbformat_minor": 4
}
