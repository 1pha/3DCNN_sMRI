{
 "cells": [
  {
   "cell_type": "markdown",
   "metadata": {},
   "source": [
    "## Import"
   ]
  },
  {
   "cell_type": "code",
   "execution_count": 1,
   "metadata": {
    "ExecuteTime": {
     "end_time": "2021-02-01T07:43:28.756728Z",
     "start_time": "2021-02-01T07:43:22.916004Z"
    }
   },
   "outputs": [],
   "source": [
    "# importing the libraries\n",
    "import os\n",
    "import pandas as pd\n",
    "import numpy as np\n",
    "from itertools import chain\n",
    "\n",
    "# for reading and displaying images\n",
    "from glob import glob\n",
    "import seaborn as sns\n",
    "import matplotlib.pyplot as plt\n",
    "\n",
    "# for creating validation set\n",
    "from sklearn.model_selection import train_test_split\n",
    "\n",
    "# PyTorch libraries and modules\n",
    "import torch\n",
    "import torch.nn as nn\n",
    "import torch.nn.functional as F\n",
    "\n",
    "# models\n",
    "from src.architectures.model_util import load_model, save_checkpoint\n",
    "\n",
    "# other files\n",
    "from src.run import *\n",
    "from src.data_util import *\n",
    "\n",
    "# Torch\n",
    "from torch.optim import *\n",
    "import torch.optim as optim\n",
    "from torchsummary import summary\n",
    "from tensorboardX import SummaryWriter\n",
    "\n",
    "# Maintenance\n",
    "import mlflow\n",
    "from DeepNotion.build import *\n",
    "\n",
    "# CAM - M3dCam\n",
    "from medcam import medcam"
   ]
  },
  {
   "cell_type": "markdown",
   "metadata": {},
   "source": [
    "## Load Configurations"
   ]
  },
  {
   "cell_type": "code",
   "execution_count": 2,
   "metadata": {
    "ExecuteTime": {
     "end_time": "2021-02-01T07:43:28.818712Z",
     "start_time": "2021-02-01T07:43:28.763684Z"
    }
   },
   "outputs": [],
   "source": [
    "from src.config import *\n",
    "cfg = load_config()"
   ]
  },
  {
   "cell_type": "markdown",
   "metadata": {},
   "source": [
    "## MLFlow Init"
   ]
  },
  {
   "cell_type": "code",
   "execution_count": 3,
   "metadata": {
    "ExecuteTime": {
     "end_time": "2021-02-01T07:43:28.881695Z",
     "start_time": "2021-02-01T07:43:28.820668Z"
    }
   },
   "outputs": [
    {
     "name": "stdout",
     "output_type": "stream",
     "text": [
      "Existing experiment\n"
     ]
    }
   ],
   "source": [
    "exp_name = '3dcnn_smri'\n",
    "try:\n",
    "    mlflow.create_experiment(name=exp_name)\n",
    "except:\n",
    "    print('Existing experiment')\n",
    "    \n",
    "mlflow.set_experiment(exp_name)"
   ]
  },
  {
   "cell_type": "markdown",
   "metadata": {},
   "source": [
    "Pararmeters to write"
   ]
  },
  {
   "cell_type": "code",
   "execution_count": 4,
   "metadata": {
    "ExecuteTime": {
     "end_time": "2021-02-01T07:43:28.897693Z",
     "start_time": "2021-02-01T07:43:28.882668Z"
    }
   },
   "outputs": [],
   "source": [
    "params = dict()\n",
    "for name, value in cfg.get_dict().items():\n",
    "    if name not in ['notion']:\n",
    "        params[name] = str(value)"
   ]
  },
  {
   "cell_type": "markdown",
   "metadata": {},
   "source": [
    "## Tracking on Notion"
   ]
  },
  {
   "cell_type": "code",
   "execution_count": 5,
   "metadata": {
    "ExecuteTime": {
     "end_time": "2021-02-01T07:43:28.913694Z",
     "start_time": "2021-02-01T07:43:28.898669Z"
    },
    "scrolled": true
   },
   "outputs": [],
   "source": [
    "if cfg['notion']['use']:\n",
    "\n",
    "    print(today())\n",
    "    root, client = login('./config.yml')\n",
    "    page = make_page(root)\n",
    "\n",
    "    toggle = page.children.add_new(ToggleBlock, title='Configuration')\n",
    "\n",
    "    for name, value in cfg.get_dict().items():\n",
    "        if name not in ['notion']:\n",
    "            txt = '**' + name + '** ' + str(value)\n",
    "            toggle.children.add_new(BulletedListBlock, title=txt)\n",
    "\n",
    "    fold_db = make_db(page, schema=cfg.schema)\n",
    "    test_db = make_db(page, schema=cfg.test_schema)"
   ]
  },
  {
   "cell_type": "markdown",
   "metadata": {},
   "source": [
    "## Train"
   ]
  },
  {
   "cell_type": "markdown",
   "metadata": {},
   "source": [
    "### No Fold"
   ]
  },
  {
   "cell_type": "code",
   "execution_count": 6,
   "metadata": {
    "ExecuteTime": {
     "end_time": "2021-02-01T07:31:00.422782Z",
     "start_time": "2021-02-01T07:30:58.742682Z"
    }
   },
   "outputs": [
    {
     "name": "stdout",
     "output_type": "stream",
     "text": [
      "Model Resnet is selected.\n"
     ]
    }
   ],
   "source": [
    "model, cfg.device = load_model(cfg.model_name, verbose=False)\n",
    "optimizer = optim.Adam(model.parameters(), lr=cfg.learning_rate)\n",
    "\n",
    "trn_dp, aug_dp, tst_dp = DataPacket(), DataPacket(), DataPacket()\n",
    "aug_dp.delete('corr')\n",
    "\n",
    "mlflow.start_run()\n",
    "mlflow.log_params(params)"
   ]
  },
  {
   "cell_type": "code",
   "execution_count": 7,
   "metadata": {
    "ExecuteTime": {
     "end_time": "2021-02-01T07:41:51.305531Z",
     "start_time": "2021-02-01T07:31:12.668344Z"
    },
    "scrolled": true
   },
   "outputs": [
    {
     "name": "stdout",
     "output_type": "stream",
     "text": [
      "Epoch 1 / 100, BEST MAE 10.000\n",
      "[train] 51.1 sec [train] 151.6 sec [eval] 12.2 sec \n",
      "[TRAIN]:: Loss=3411.567 Mae=56.066 Rmse=58.350 Corr=0.447 \n",
      "[AUGME]:: Loss=3313.219 Mae=55.374 Rmse=57.499 \n",
      "[TEST ]:: Loss=3230.259 Mae=54.770 Rmse=56.735 Corr=0.666 \n",
      "Epoch 2 / 100, BEST MAE 10.000\n",
      "[train] 50.5 sec [train] 162.1 sec [eval] 12.2 sec \n",
      "[TRAIN]:: Loss=3247.994 Mae=54.849 Rmse=56.928 Corr=0.717 \n",
      "[AUGME]:: Loss=3198.117 Mae=54.423 Rmse=56.488 \n",
      "[TEST ]:: Loss=3068.977 Mae=53.269 Rmse=55.296 Corr=0.640 \n",
      "Epoch 3 / 100, BEST MAE 10.000\n",
      "[train] 50.7 sec [train] 140.2 sec "
     ]
    },
    {
     "ename": "KeyboardInterrupt",
     "evalue": "",
     "output_type": "error",
     "traceback": [
      "\u001b[1;31m---------------------------------------------------------------------------\u001b[0m",
      "\u001b[1;31mKeyboardInterrupt\u001b[0m                         Traceback (most recent call last)",
      "\u001b[1;32m<ipython-input-7-34f03b8e6d49>\u001b[0m in \u001b[0;36m<module>\u001b[1;34m\u001b[0m\n\u001b[0;32m     11\u001b[0m     \u001b[0mmodel\u001b[0m\u001b[1;33m,\u001b[0m \u001b[0maug_dp\u001b[0m\u001b[1;33m,\u001b[0m \u001b[0maug_res\u001b[0m \u001b[1;33m=\u001b[0m \u001b[0mtrain\u001b[0m\u001b[1;33m(\u001b[0m\u001b[0mmodel\u001b[0m\u001b[1;33m,\u001b[0m \u001b[0moptimizer\u001b[0m\u001b[1;33m,\u001b[0m \u001b[0mfn_lst\u001b[0m\u001b[1;33m,\u001b[0m \u001b[0maug_dp\u001b[0m\u001b[1;33m,\u001b[0m \u001b[0mcfg\u001b[0m\u001b[1;33m,\u001b[0m \u001b[0mfold\u001b[0m\u001b[1;33m=\u001b[0m\u001b[0mfold\u001b[0m\u001b[1;33m,\u001b[0m \u001b[0maugment\u001b[0m\u001b[1;33m=\u001b[0m\u001b[1;32mTrue\u001b[0m\u001b[1;33m)\u001b[0m\u001b[1;33m\u001b[0m\u001b[1;33m\u001b[0m\u001b[0m\n\u001b[0;32m     12\u001b[0m     \u001b[0mcfg\u001b[0m\u001b[1;33m.\u001b[0m\u001b[0mtest\u001b[0m \u001b[1;33m=\u001b[0m \u001b[1;32mTrue\u001b[0m\u001b[1;33m\u001b[0m\u001b[1;33m\u001b[0m\u001b[0m\n\u001b[1;32m---> 13\u001b[1;33m     \u001b[0mmodel\u001b[0m\u001b[1;33m,\u001b[0m \u001b[0mtst_dp\u001b[0m\u001b[1;33m,\u001b[0m \u001b[0mtst_res\u001b[0m \u001b[1;33m=\u001b[0m \u001b[0meval\u001b[0m\u001b[1;33m(\u001b[0m\u001b[0mmodel\u001b[0m\u001b[1;33m,\u001b[0m \u001b[0mfn_lst\u001b[0m\u001b[1;33m,\u001b[0m \u001b[0mtst_dp\u001b[0m\u001b[1;33m,\u001b[0m \u001b[0mcfg\u001b[0m\u001b[1;33m,\u001b[0m \u001b[0mfold\u001b[0m\u001b[1;33m=\u001b[0m\u001b[0mfold\u001b[0m\u001b[1;33m)\u001b[0m\u001b[1;33m\u001b[0m\u001b[1;33m\u001b[0m\u001b[0m\n\u001b[0m\u001b[0;32m     14\u001b[0m     \u001b[0melapsed_time\u001b[0m \u001b[1;33m=\u001b[0m \u001b[0mround\u001b[0m\u001b[1;33m(\u001b[0m\u001b[0mtime\u001b[0m\u001b[1;33m.\u001b[0m\u001b[0mtime\u001b[0m\u001b[1;33m(\u001b[0m\u001b[1;33m)\u001b[0m \u001b[1;33m-\u001b[0m \u001b[0mstart_time\u001b[0m\u001b[1;33m,\u001b[0m \u001b[1;36m3\u001b[0m\u001b[1;33m)\u001b[0m\u001b[1;33m\u001b[0m\u001b[1;33m\u001b[0m\u001b[0m\n\u001b[0;32m     15\u001b[0m \u001b[1;33m\u001b[0m\u001b[0m\n",
      "\u001b[1;32mG:\\My Drive\\brain_data\\workspace\\3d_brain\\src\\run.py\u001b[0m in \u001b[0;36mwrapper_fn\u001b[1;34m(*args, **kwargs)\u001b[0m\n\u001b[0;32m     26\u001b[0m     \u001b[1;32mdef\u001b[0m \u001b[0mwrapper_fn\u001b[0m\u001b[1;33m(\u001b[0m\u001b[1;33m*\u001b[0m\u001b[0margs\u001b[0m\u001b[1;33m,\u001b[0m \u001b[1;33m**\u001b[0m\u001b[0mkwargs\u001b[0m\u001b[1;33m)\u001b[0m\u001b[1;33m:\u001b[0m\u001b[1;33m\u001b[0m\u001b[1;33m\u001b[0m\u001b[0m\n\u001b[0;32m     27\u001b[0m         \u001b[0mstart_time\u001b[0m \u001b[1;33m=\u001b[0m \u001b[0mtime\u001b[0m\u001b[1;33m.\u001b[0m\u001b[0mtime\u001b[0m\u001b[1;33m(\u001b[0m\u001b[1;33m)\u001b[0m\u001b[1;33m\u001b[0m\u001b[1;33m\u001b[0m\u001b[0m\n\u001b[1;32m---> 28\u001b[1;33m         \u001b[0mresult\u001b[0m \u001b[1;33m=\u001b[0m \u001b[0moriginal_fn\u001b[0m\u001b[1;33m(\u001b[0m\u001b[1;33m*\u001b[0m\u001b[0margs\u001b[0m\u001b[1;33m,\u001b[0m \u001b[1;33m**\u001b[0m\u001b[0mkwargs\u001b[0m\u001b[1;33m)\u001b[0m\u001b[1;33m\u001b[0m\u001b[1;33m\u001b[0m\u001b[0m\n\u001b[0m\u001b[0;32m     29\u001b[0m         \u001b[0mend_time\u001b[0m \u001b[1;33m=\u001b[0m \u001b[0mtime\u001b[0m\u001b[1;33m.\u001b[0m\u001b[0mtime\u001b[0m\u001b[1;33m(\u001b[0m\u001b[1;33m)\u001b[0m\u001b[1;33m\u001b[0m\u001b[1;33m\u001b[0m\u001b[0m\n\u001b[0;32m     30\u001b[0m         \u001b[0mend\u001b[0m \u001b[1;33m=\u001b[0m \u001b[1;34m''\u001b[0m \u001b[1;32mif\u001b[0m \u001b[0moriginal_fn\u001b[0m\u001b[1;33m.\u001b[0m\u001b[0m__name__\u001b[0m\u001b[1;33m==\u001b[0m\u001b[1;34m'train'\u001b[0m \u001b[1;32melse\u001b[0m \u001b[1;34m'\\n'\u001b[0m\u001b[1;33m\u001b[0m\u001b[1;33m\u001b[0m\u001b[0m\n",
      "\u001b[1;32mG:\\My Drive\\brain_data\\workspace\\3d_brain\\src\\run.py\u001b[0m in \u001b[0;36meval\u001b[1;34m(model, loss_fns, DP, CFG, fold)\u001b[0m\n\u001b[0;32m    179\u001b[0m     \u001b[0mpredictions\u001b[0m\u001b[1;33m,\u001b[0m \u001b[0mtargets\u001b[0m \u001b[1;33m=\u001b[0m \u001b[1;33m[\u001b[0m\u001b[1;33m]\u001b[0m\u001b[1;33m,\u001b[0m \u001b[1;33m[\u001b[0m\u001b[1;33m]\u001b[0m\u001b[1;33m\u001b[0m\u001b[1;33m\u001b[0m\u001b[0m\n\u001b[0;32m    180\u001b[0m     \u001b[1;32mwith\u001b[0m \u001b[0mtorch\u001b[0m\u001b[1;33m.\u001b[0m\u001b[0mno_grad\u001b[0m\u001b[1;33m(\u001b[0m\u001b[1;33m)\u001b[0m\u001b[1;33m:\u001b[0m \u001b[1;31m# to not give loads on GPU... :(\u001b[0m\u001b[1;33m\u001b[0m\u001b[1;33m\u001b[0m\u001b[0m\n\u001b[1;32m--> 181\u001b[1;33m         \u001b[1;32mfor\u001b[0m \u001b[0mi\u001b[0m\u001b[1;33m,\u001b[0m \u001b[1;33m(\u001b[0m\u001b[0mx\u001b[0m\u001b[1;33m,\u001b[0m \u001b[0my\u001b[0m\u001b[1;33m)\u001b[0m \u001b[1;32min\u001b[0m \u001b[0menumerate\u001b[0m\u001b[1;33m(\u001b[0m\u001b[0mdataloader\u001b[0m\u001b[1;33m)\u001b[0m\u001b[1;33m:\u001b[0m\u001b[1;33m\u001b[0m\u001b[1;33m\u001b[0m\u001b[0m\n\u001b[0m\u001b[0;32m    182\u001b[0m \u001b[1;33m\u001b[0m\u001b[0m\n\u001b[0;32m    183\u001b[0m             \u001b[1;32mtry\u001b[0m\u001b[1;33m:\u001b[0m\u001b[1;33m\u001b[0m\u001b[1;33m\u001b[0m\u001b[0m\n",
      "\u001b[1;32m~\\anaconda3\\lib\\site-packages\\torch\\utils\\data\\dataloader.py\u001b[0m in \u001b[0;36m__next__\u001b[1;34m(self)\u001b[0m\n\u001b[0;32m    343\u001b[0m \u001b[1;33m\u001b[0m\u001b[0m\n\u001b[0;32m    344\u001b[0m     \u001b[1;32mdef\u001b[0m \u001b[0m__next__\u001b[0m\u001b[1;33m(\u001b[0m\u001b[0mself\u001b[0m\u001b[1;33m)\u001b[0m\u001b[1;33m:\u001b[0m\u001b[1;33m\u001b[0m\u001b[1;33m\u001b[0m\u001b[0m\n\u001b[1;32m--> 345\u001b[1;33m         \u001b[0mdata\u001b[0m \u001b[1;33m=\u001b[0m \u001b[0mself\u001b[0m\u001b[1;33m.\u001b[0m\u001b[0m_next_data\u001b[0m\u001b[1;33m(\u001b[0m\u001b[1;33m)\u001b[0m\u001b[1;33m\u001b[0m\u001b[1;33m\u001b[0m\u001b[0m\n\u001b[0m\u001b[0;32m    346\u001b[0m         \u001b[0mself\u001b[0m\u001b[1;33m.\u001b[0m\u001b[0m_num_yielded\u001b[0m \u001b[1;33m+=\u001b[0m \u001b[1;36m1\u001b[0m\u001b[1;33m\u001b[0m\u001b[1;33m\u001b[0m\u001b[0m\n\u001b[0;32m    347\u001b[0m         \u001b[1;32mif\u001b[0m \u001b[0mself\u001b[0m\u001b[1;33m.\u001b[0m\u001b[0m_dataset_kind\u001b[0m \u001b[1;33m==\u001b[0m \u001b[0m_DatasetKind\u001b[0m\u001b[1;33m.\u001b[0m\u001b[0mIterable\u001b[0m \u001b[1;32mand\u001b[0m\u001b[0;31m \u001b[0m\u001b[0;31m\\\u001b[0m\u001b[1;33m\u001b[0m\u001b[1;33m\u001b[0m\u001b[0m\n",
      "\u001b[1;32m~\\anaconda3\\lib\\site-packages\\torch\\utils\\data\\dataloader.py\u001b[0m in \u001b[0;36m_next_data\u001b[1;34m(self)\u001b[0m\n\u001b[0;32m    383\u001b[0m     \u001b[1;32mdef\u001b[0m \u001b[0m_next_data\u001b[0m\u001b[1;33m(\u001b[0m\u001b[0mself\u001b[0m\u001b[1;33m)\u001b[0m\u001b[1;33m:\u001b[0m\u001b[1;33m\u001b[0m\u001b[1;33m\u001b[0m\u001b[0m\n\u001b[0;32m    384\u001b[0m         \u001b[0mindex\u001b[0m \u001b[1;33m=\u001b[0m \u001b[0mself\u001b[0m\u001b[1;33m.\u001b[0m\u001b[0m_next_index\u001b[0m\u001b[1;33m(\u001b[0m\u001b[1;33m)\u001b[0m  \u001b[1;31m# may raise StopIteration\u001b[0m\u001b[1;33m\u001b[0m\u001b[1;33m\u001b[0m\u001b[0m\n\u001b[1;32m--> 385\u001b[1;33m         \u001b[0mdata\u001b[0m \u001b[1;33m=\u001b[0m \u001b[0mself\u001b[0m\u001b[1;33m.\u001b[0m\u001b[0m_dataset_fetcher\u001b[0m\u001b[1;33m.\u001b[0m\u001b[0mfetch\u001b[0m\u001b[1;33m(\u001b[0m\u001b[0mindex\u001b[0m\u001b[1;33m)\u001b[0m  \u001b[1;31m# may raise StopIteration\u001b[0m\u001b[1;33m\u001b[0m\u001b[1;33m\u001b[0m\u001b[0m\n\u001b[0m\u001b[0;32m    386\u001b[0m         \u001b[1;32mif\u001b[0m \u001b[0mself\u001b[0m\u001b[1;33m.\u001b[0m\u001b[0m_pin_memory\u001b[0m\u001b[1;33m:\u001b[0m\u001b[1;33m\u001b[0m\u001b[1;33m\u001b[0m\u001b[0m\n\u001b[0;32m    387\u001b[0m             \u001b[0mdata\u001b[0m \u001b[1;33m=\u001b[0m \u001b[0m_utils\u001b[0m\u001b[1;33m.\u001b[0m\u001b[0mpin_memory\u001b[0m\u001b[1;33m.\u001b[0m\u001b[0mpin_memory\u001b[0m\u001b[1;33m(\u001b[0m\u001b[0mdata\u001b[0m\u001b[1;33m)\u001b[0m\u001b[1;33m\u001b[0m\u001b[1;33m\u001b[0m\u001b[0m\n",
      "\u001b[1;32m~\\anaconda3\\lib\\site-packages\\torch\\utils\\data\\_utils\\fetch.py\u001b[0m in \u001b[0;36mfetch\u001b[1;34m(self, possibly_batched_index)\u001b[0m\n\u001b[0;32m     42\u001b[0m     \u001b[1;32mdef\u001b[0m \u001b[0mfetch\u001b[0m\u001b[1;33m(\u001b[0m\u001b[0mself\u001b[0m\u001b[1;33m,\u001b[0m \u001b[0mpossibly_batched_index\u001b[0m\u001b[1;33m)\u001b[0m\u001b[1;33m:\u001b[0m\u001b[1;33m\u001b[0m\u001b[1;33m\u001b[0m\u001b[0m\n\u001b[0;32m     43\u001b[0m         \u001b[1;32mif\u001b[0m \u001b[0mself\u001b[0m\u001b[1;33m.\u001b[0m\u001b[0mauto_collation\u001b[0m\u001b[1;33m:\u001b[0m\u001b[1;33m\u001b[0m\u001b[1;33m\u001b[0m\u001b[0m\n\u001b[1;32m---> 44\u001b[1;33m             \u001b[0mdata\u001b[0m \u001b[1;33m=\u001b[0m \u001b[1;33m[\u001b[0m\u001b[0mself\u001b[0m\u001b[1;33m.\u001b[0m\u001b[0mdataset\u001b[0m\u001b[1;33m[\u001b[0m\u001b[0midx\u001b[0m\u001b[1;33m]\u001b[0m \u001b[1;32mfor\u001b[0m \u001b[0midx\u001b[0m \u001b[1;32min\u001b[0m \u001b[0mpossibly_batched_index\u001b[0m\u001b[1;33m]\u001b[0m\u001b[1;33m\u001b[0m\u001b[1;33m\u001b[0m\u001b[0m\n\u001b[0m\u001b[0;32m     45\u001b[0m         \u001b[1;32melse\u001b[0m\u001b[1;33m:\u001b[0m\u001b[1;33m\u001b[0m\u001b[1;33m\u001b[0m\u001b[0m\n\u001b[0;32m     46\u001b[0m             \u001b[0mdata\u001b[0m \u001b[1;33m=\u001b[0m \u001b[0mself\u001b[0m\u001b[1;33m.\u001b[0m\u001b[0mdataset\u001b[0m\u001b[1;33m[\u001b[0m\u001b[0mpossibly_batched_index\u001b[0m\u001b[1;33m]\u001b[0m\u001b[1;33m\u001b[0m\u001b[1;33m\u001b[0m\u001b[0m\n",
      "\u001b[1;32m~\\anaconda3\\lib\\site-packages\\torch\\utils\\data\\_utils\\fetch.py\u001b[0m in \u001b[0;36m<listcomp>\u001b[1;34m(.0)\u001b[0m\n\u001b[0;32m     42\u001b[0m     \u001b[1;32mdef\u001b[0m \u001b[0mfetch\u001b[0m\u001b[1;33m(\u001b[0m\u001b[0mself\u001b[0m\u001b[1;33m,\u001b[0m \u001b[0mpossibly_batched_index\u001b[0m\u001b[1;33m)\u001b[0m\u001b[1;33m:\u001b[0m\u001b[1;33m\u001b[0m\u001b[1;33m\u001b[0m\u001b[0m\n\u001b[0;32m     43\u001b[0m         \u001b[1;32mif\u001b[0m \u001b[0mself\u001b[0m\u001b[1;33m.\u001b[0m\u001b[0mauto_collation\u001b[0m\u001b[1;33m:\u001b[0m\u001b[1;33m\u001b[0m\u001b[1;33m\u001b[0m\u001b[0m\n\u001b[1;32m---> 44\u001b[1;33m             \u001b[0mdata\u001b[0m \u001b[1;33m=\u001b[0m \u001b[1;33m[\u001b[0m\u001b[0mself\u001b[0m\u001b[1;33m.\u001b[0m\u001b[0mdataset\u001b[0m\u001b[1;33m[\u001b[0m\u001b[0midx\u001b[0m\u001b[1;33m]\u001b[0m \u001b[1;32mfor\u001b[0m \u001b[0midx\u001b[0m \u001b[1;32min\u001b[0m \u001b[0mpossibly_batched_index\u001b[0m\u001b[1;33m]\u001b[0m\u001b[1;33m\u001b[0m\u001b[1;33m\u001b[0m\u001b[0m\n\u001b[0m\u001b[0;32m     45\u001b[0m         \u001b[1;32melse\u001b[0m\u001b[1;33m:\u001b[0m\u001b[1;33m\u001b[0m\u001b[1;33m\u001b[0m\u001b[0m\n\u001b[0;32m     46\u001b[0m             \u001b[0mdata\u001b[0m \u001b[1;33m=\u001b[0m \u001b[0mself\u001b[0m\u001b[1;33m.\u001b[0m\u001b[0mdataset\u001b[0m\u001b[1;33m[\u001b[0m\u001b[0mpossibly_batched_index\u001b[0m\u001b[1;33m]\u001b[0m\u001b[1;33m\u001b[0m\u001b[1;33m\u001b[0m\u001b[0m\n",
      "\u001b[1;32mG:\\My Drive\\brain_data\\workspace\\3d_brain\\src\\data_util.py\u001b[0m in \u001b[0;36m__getitem__\u001b[1;34m(self, idx)\u001b[0m\n\u001b[0;32m     72\u001b[0m \u001b[1;33m\u001b[0m\u001b[0m\n\u001b[0;32m     73\u001b[0m         \u001b[1;32mif\u001b[0m \u001b[0mself\u001b[0m\u001b[1;33m.\u001b[0m\u001b[0mscaler\u001b[0m \u001b[1;33m==\u001b[0m \u001b[1;34m'minmax'\u001b[0m\u001b[1;33m:\u001b[0m\u001b[1;33m\u001b[0m\u001b[1;33m\u001b[0m\u001b[0m\n\u001b[1;32m---> 74\u001b[1;33m             \u001b[0mx\u001b[0m \u001b[1;33m=\u001b[0m \u001b[0mnp\u001b[0m\u001b[1;33m.\u001b[0m\u001b[0mload\u001b[0m\u001b[1;33m(\u001b[0m\u001b[0mself\u001b[0m\u001b[1;33m.\u001b[0m\u001b[0mdata_files\u001b[0m\u001b[1;33m[\u001b[0m\u001b[0midx\u001b[0m\u001b[1;33m]\u001b[0m\u001b[1;33m)\u001b[0m\u001b[1;33m\u001b[0m\u001b[1;33m\u001b[0m\u001b[0m\n\u001b[0m\u001b[0;32m     75\u001b[0m             \u001b[0mx\u001b[0m \u001b[1;33m=\u001b[0m \u001b[0mMinMaxScaler\u001b[0m\u001b[1;33m(\u001b[0m\u001b[1;33m)\u001b[0m\u001b[1;33m.\u001b[0m\u001b[0mfit_transform\u001b[0m\u001b[1;33m(\u001b[0m\u001b[0mx\u001b[0m\u001b[1;33m.\u001b[0m\u001b[0mreshape\u001b[0m\u001b[1;33m(\u001b[0m\u001b[1;33m-\u001b[0m\u001b[1;36m1\u001b[0m\u001b[1;33m,\u001b[0m \u001b[1;36m1\u001b[0m\u001b[1;33m)\u001b[0m\u001b[1;33m)\u001b[0m\u001b[1;33m.\u001b[0m\u001b[0mreshape\u001b[0m\u001b[1;33m(\u001b[0m\u001b[1;36m141\u001b[0m\u001b[1;33m,\u001b[0m \u001b[1;36m172\u001b[0m\u001b[1;33m,\u001b[0m \u001b[1;36m110\u001b[0m\u001b[1;33m)\u001b[0m\u001b[1;33m\u001b[0m\u001b[1;33m\u001b[0m\u001b[0m\n\u001b[0;32m     76\u001b[0m \u001b[1;33m\u001b[0m\u001b[0m\n",
      "\u001b[1;32m~\\anaconda3\\lib\\site-packages\\numpy\\lib\\npyio.py\u001b[0m in \u001b[0;36mload\u001b[1;34m(file, mmap_mode, allow_pickle, fix_imports, encoding)\u001b[0m\n\u001b[0;32m    438\u001b[0m             \u001b[1;32melse\u001b[0m\u001b[1;33m:\u001b[0m\u001b[1;33m\u001b[0m\u001b[1;33m\u001b[0m\u001b[0m\n\u001b[0;32m    439\u001b[0m                 return format.read_array(fid, allow_pickle=allow_pickle,\n\u001b[1;32m--> 440\u001b[1;33m                                          pickle_kwargs=pickle_kwargs)\n\u001b[0m\u001b[0;32m    441\u001b[0m         \u001b[1;32melse\u001b[0m\u001b[1;33m:\u001b[0m\u001b[1;33m\u001b[0m\u001b[1;33m\u001b[0m\u001b[0m\n\u001b[0;32m    442\u001b[0m             \u001b[1;31m# Try a pickle\u001b[0m\u001b[1;33m\u001b[0m\u001b[1;33m\u001b[0m\u001b[1;33m\u001b[0m\u001b[0m\n",
      "\u001b[1;32m~\\anaconda3\\lib\\site-packages\\numpy\\lib\\format.py\u001b[0m in \u001b[0;36mread_array\u001b[1;34m(fp, allow_pickle, pickle_kwargs)\u001b[0m\n\u001b[0;32m    739\u001b[0m         \u001b[1;32mif\u001b[0m \u001b[0misfileobj\u001b[0m\u001b[1;33m(\u001b[0m\u001b[0mfp\u001b[0m\u001b[1;33m)\u001b[0m\u001b[1;33m:\u001b[0m\u001b[1;33m\u001b[0m\u001b[1;33m\u001b[0m\u001b[0m\n\u001b[0;32m    740\u001b[0m             \u001b[1;31m# We can use the fast fromfile() function.\u001b[0m\u001b[1;33m\u001b[0m\u001b[1;33m\u001b[0m\u001b[1;33m\u001b[0m\u001b[0m\n\u001b[1;32m--> 741\u001b[1;33m             \u001b[0marray\u001b[0m \u001b[1;33m=\u001b[0m \u001b[0mnumpy\u001b[0m\u001b[1;33m.\u001b[0m\u001b[0mfromfile\u001b[0m\u001b[1;33m(\u001b[0m\u001b[0mfp\u001b[0m\u001b[1;33m,\u001b[0m \u001b[0mdtype\u001b[0m\u001b[1;33m=\u001b[0m\u001b[0mdtype\u001b[0m\u001b[1;33m,\u001b[0m \u001b[0mcount\u001b[0m\u001b[1;33m=\u001b[0m\u001b[0mcount\u001b[0m\u001b[1;33m)\u001b[0m\u001b[1;33m\u001b[0m\u001b[1;33m\u001b[0m\u001b[0m\n\u001b[0m\u001b[0;32m    742\u001b[0m         \u001b[1;32melse\u001b[0m\u001b[1;33m:\u001b[0m\u001b[1;33m\u001b[0m\u001b[1;33m\u001b[0m\u001b[0m\n\u001b[0;32m    743\u001b[0m             \u001b[1;31m# This is not a real file. We have to read it the\u001b[0m\u001b[1;33m\u001b[0m\u001b[1;33m\u001b[0m\u001b[1;33m\u001b[0m\u001b[0m\n",
      "\u001b[1;31mKeyboardInterrupt\u001b[0m: "
     ]
    }
   ],
   "source": [
    "best_mae = cfg.best_mae\n",
    "fold = None\n",
    "db = make_db(page, schema=cfg.schema, title='Results') if cfg['notion']['use'] else None\n",
    "for e in range(cfg.epochs):\n",
    "    \n",
    "    start_time = time.time()\n",
    "    print(f'Epoch {e+1} / {cfg.epochs}, BEST MAE {best_mae:.3f}')\n",
    "    \n",
    "    cfg.test = False\n",
    "    model, trn_dp, trn_res = train(model, optimizer, fn_lst, trn_dp, cfg, fold=fold)\n",
    "    model, aug_dp, aug_res = train(model, optimizer, fn_lst, aug_dp, cfg, fold=fold, augment=True)\n",
    "    cfg.test = True\n",
    "    model, tst_dp, tst_res = eval(model, fn_lst, tst_dp, cfg, fold=fold)\n",
    "    elapsed_time = round(time.time() - start_time, 3)\n",
    "       \n",
    "    if best_mae > tst_dp.mae[-1]:\n",
    "        \n",
    "        best_mae = tst_dp.mae[-1]\n",
    "        model_name = f'{cfg.model_name}_ep{e}-{cfg.epochs}_sd{cfg.seed}_mae{best_mae:.3f}.pt'\n",
    "        save_checkpoint(cfg.get_dict(), model_name, is_best=True)\n",
    "        \n",
    "    df = pd.concat([make_df(trn_res, 'Train'),\n",
    "                    make_df(aug_res, 'Aug'),\n",
    "                    make_df(tst_res, 'Test')], ignore_index=True)\n",
    "    \n",
    "    trn_dp.corr.update(df[df['Label'] == 'Train'].corr().Prediction['True'])\n",
    "    trn_dp.refresh()\n",
    "    tst_dp.corr.update(df[df['Label'] == 'Test'].corr().Prediction['True'])\n",
    "    tst_dp.refresh()\n",
    "\n",
    "    if e % 1 == 0:\n",
    "        trn_dp.info('train')\n",
    "        aug_dp.info('augme')\n",
    "        tst_dp.info('test ')\n",
    "\n",
    "    if (e+1) % 5 == 0:\n",
    "        plt.title(f\"L1 Losses among epochs, {e}th\")\n",
    "        plt.plot(list(trn_dp.loss), label='Train')\n",
    "        plt.plot(list(tst_dp.loss), label='Test')\n",
    "        plt.grid(); plt.legend()\n",
    "\n",
    "        sns.lmplot(data=df, x='True', y='Prediction', hue='Label')\n",
    "        plt.grid()\n",
    "        plt.show()\n",
    "        \n",
    "        if db:\n",
    "            data = gather_data(e=e, time=elapsed_time, cfg=cfg,\n",
    "                               train=trn_dp, valid=tst_dp, aug=aug_dp)\n",
    "            write_db(db, data)\n",
    "    \n",
    "    metrics = mlflow_data(time=elapsed_time, train=trn_dp, valid=tst_dp, aug=aug_dp)\n",
    "    mlflow.log_metrics(metrics, e)\n",
    "    \n",
    "    torch.cuda.empty_cache()\n",
    "    \n",
    "mlflow.end_run()"
   ]
  },
  {
   "cell_type": "markdown",
   "metadata": {},
   "source": [
    "### kFold"
   ]
  },
  {
   "cell_type": "code",
   "execution_count": 6,
   "metadata": {
    "ExecuteTime": {
     "end_time": "2021-02-01T07:43:34.120863Z",
     "start_time": "2021-02-01T07:43:34.103863Z"
    }
   },
   "outputs": [],
   "source": [
    "models = []\n",
    "packets = []\n",
    "tst_dp = DataPacket()"
   ]
  },
  {
   "cell_type": "markdown",
   "metadata": {},
   "source": [
    "#### Whole Run"
   ]
  },
  {
   "cell_type": "code",
   "execution_count": null,
   "metadata": {
    "ExecuteTime": {
     "start_time": "2021-02-01T07:43:47.935Z"
    },
    "scrolled": true
   },
   "outputs": [
    {
     "name": "stdout",
     "output_type": "stream",
     "text": [
      "Fold 1 / 5\n",
      "Model Resnet is selected.\n"
     ]
    }
   ],
   "source": [
    "test_db = make_db(page, schema=cfg.test_schema, title='Test') if cfg['notion']['use'] else None\n",
    "for fold in range(cfg.folds):\n",
    "    \n",
    "    print(f'Fold {fold+1} / {cfg.folds}')\n",
    "    mlflow.start_run(run_name=f'{today()} Fold {fold+1}')\n",
    "    mlflow.log_params(params)\n",
    "    mlflow.set_tags({\n",
    "        'fold': fold+1\n",
    "    })\n",
    "\n",
    "    fold_db = make_db(page, schema=cfg.schema, title=f'Fold {fold+1}') if cfg['notion']['use'] else None\n",
    "    model, dps, res = run(cfg, fold, fold_db, mlflow=mlflow)\n",
    "    models.append(model)\n",
    "    packets.append(dps)\n",
    "    \n",
    "    cfg.test = True\n",
    "    model, tst_dp, tst_res = eval(model, fn_lst, tst_dp, cfg, fold=None)\n",
    "    \n",
    "    df = pd.concat([make_df(res[0], 'Train'),\n",
    "                   make_df(res[1], 'Valid'),\n",
    "                   make_df(tst_res, 'Test')], ignore_index=True)\n",
    "    \n",
    "    tst_dp.corr.update(df[df['Label'] == 'Test'].corr().Prediction['True'])\n",
    "    tst_dp.refresh()\n",
    "    \n",
    "    # Show Holdout testset information\n",
    "    tst_dp.info('Holdout test')\n",
    "    sns.lmplot(data=df, x='True', y='Prediction', hue='Label')\n",
    "    plt.grid()\n",
    "    plt.show()\n",
    "    \n",
    "    if test_db:\n",
    "        data = gather_data(e=e, train=trn_dp, test=tst_dp)\n",
    "        write_db(test_db, data)\n",
    "    \n",
    "    torch.cuda.empty_cache()"
   ]
  },
  {
   "cell_type": "markdown",
   "metadata": {},
   "source": [
    "## Ensemble"
   ]
  },
  {
   "cell_type": "markdown",
   "metadata": {},
   "source": [
    "### Naive Averaging"
   ]
  },
  {
   "cell_type": "code",
   "execution_count": 39,
   "metadata": {
    "ExecuteTime": {
     "end_time": "2021-01-20T04:32:10.166519Z",
     "start_time": "2021-01-20T04:31:28.471706Z"
    }
   },
   "outputs": [
    {
     "name": "stdout",
     "output_type": "stream",
     "text": [
      "Model Resnet is selected.\n",
      "Model Resnet is selected.\n",
      "Model Resnet is selected.\n",
      "Model Resnet is selected.\n",
      "Model Resnet is selected.\n"
     ]
    }
   ],
   "source": [
    "# Ensemble\n",
    "preds = dict()\n",
    "models = glob('./models/ensembles/*.pth')\n",
    "for fold, state in enumerate(models):\n",
    "    \n",
    "    model, device = load_model('resnet', verbose=False)\n",
    "    model = torch.load(state)\n",
    "    \n",
    "    model, (_, _, _), tst_preds = eval(model, True, None, None, resize, device, batch_size,\n",
    "                                      loss_fn, mae_fn, rmse_fn,\n",
    "                                      [], [], [])\n",
    "    \n",
    "    preds[f'model_{fold}'] = list(map(float, tst_preds[1]))\n",
    "    \n",
    "ensemble_results = pd.DataFrame(preds)\n",
    "ensemble_results['Avg'] = ensemble_results.mean(axis=1)\n",
    "ensemble_results['True'] = list(map(float, tst_preds[0]))"
   ]
  },
  {
   "cell_type": "code",
   "execution_count": 64,
   "metadata": {
    "ExecuteTime": {
     "end_time": "2021-01-20T04:42:02.363594Z",
     "start_time": "2021-01-20T04:42:02.355083Z"
    }
   },
   "outputs": [],
   "source": [
    "def result_plot(df):\n",
    "    \n",
    "    avg = torch.Tensor(ensemble_results['Avg'])\n",
    "    tru = torch.Tensor(ensemble_results['True'])\n",
    "    \n",
    "    corr = ensemble_results.corr()['True']['Avg']\n",
    "    mae_fn, rmse_fn = nn.L1Loss(), RMSELoss()\n",
    "    \n",
    "    print(f'Ensemble Results')\n",
    "    print(f'MAE  = {float(mae_fn(avg, tru)):.3f}')\n",
    "    print(f'RMSE = {float(rmse_fn(avg, tru)):.3f}')\n",
    "    print(f'CORR = {corr:.3f}')\n",
    "    \n",
    "    sns.lmplot(data=ensemble_results, x='True', y='Avg')\n",
    "    plt.grid()\n",
    "    plt.show()"
   ]
  },
  {
   "cell_type": "code",
   "execution_count": 65,
   "metadata": {
    "ExecuteTime": {
     "end_time": "2021-01-20T04:42:02.805698Z",
     "start_time": "2021-01-20T04:42:02.546708Z"
    }
   },
   "outputs": [
    {
     "name": "stdout",
     "output_type": "stream",
     "text": [
      "Ensemble Results\n",
      "MAE  = 7.025\n",
      "RMSE = 8.598\n",
      "CORR = 0.854\n"
     ]
    },
    {
     "data": {
      "image/png": "[encoded data removed]",
      "text/plain": [
       "<Figure size 360x360 with 1 Axes>"
      ]
     },
     "metadata": {
      "needs_background": "light"
     },
     "output_type": "display_data"
    }
   ],
   "source": [
    "result_plot(ensemble_results)"
   ]
  },
  {
   "cell_type": "markdown",
   "metadata": {},
   "source": [
    "### Blender"
   ]
  },
  {
   "cell_type": "code",
   "execution_count": 7,
   "metadata": {
    "ExecuteTime": {
     "end_time": "2021-01-27T08:02:57.712105Z",
     "start_time": "2021-01-27T08:02:57.698105Z"
    }
   },
   "outputs": [],
   "source": [
    "class Identity(nn.Module):\n",
    "    def __init__(self):\n",
    "        super(Identity, self).__init__()\n",
    "        \n",
    "    def forward(self, x):\n",
    "        return x"
   ]
  },
  {
   "cell_type": "code",
   "execution_count": 8,
   "metadata": {
    "ExecuteTime": {
     "end_time": "2021-01-27T08:02:58.128103Z",
     "start_time": "2021-01-27T08:02:58.118111Z"
    }
   },
   "outputs": [],
   "source": [
    "class CFG:\n",
    "    \n",
    "    model_name='resnet'\n",
    "    dropout=0.1\n",
    "    use_last_layer=True"
   ]
  },
  {
   "cell_type": "code",
   "execution_count": 10,
   "metadata": {
    "ExecuteTime": {
     "end_time": "2021-01-27T08:03:04.805978Z",
     "start_time": "2021-01-27T08:03:04.798010Z"
    }
   },
   "outputs": [],
   "source": [
    "class Ensemble(nn.Module):\n",
    "    \n",
    "    def __init__(self, model_list, CFG):\n",
    "        super(Ensemble, self).__init__()\n",
    "        \n",
    "        self.cfg = CFG\n",
    "        self.dropout = self.cfg.dropout\n",
    "        self.models = dict()\n",
    "        \n",
    "        for idx, model_path in enumerate(model_list):\n",
    "            \n",
    "            model, device = load_model(self.cfg.model_name, verbose=False)\n",
    "            model = torch.load(model_path)\n",
    "            if not self.cfg.use_last_layer:\n",
    "                model.fc = Identity()\n",
    "                \n",
    "                self.last_layer = nn.Sequential(\n",
    "                    nn.Linear(len(model_list) * 128, 128),\n",
    "                    nn.Dropout(self.dropout),\n",
    "                    nn.Linear(128, 1)\n",
    "#                     nn.Dropout(self.dropout)\n",
    "                )\n",
    "                \n",
    "            else:\n",
    "                self.last_layer = nn.Sequential(\n",
    "                    nn.Linear(len(model_list), 1),\n",
    "#                     nn.Dropout(self.dropout)\n",
    "                )\n",
    "                \n",
    "            for param in model.parameters():\n",
    "                param.requires_grad = False\n",
    "                \n",
    "            self.models[idx] = model\n",
    "        \n",
    "    def forward(self, x):\n",
    "        \n",
    "        vectors = list()\n",
    "        for idx, model in self.models.items():\n",
    "            vectors.append(model(x))\n",
    "            \n",
    "        x = torch.cat(vectors, dim=1)\n",
    "        x = self.last_layer(x)\n",
    "        \n",
    "        return x"
   ]
  },
  {
   "cell_type": "code",
   "execution_count": 11,
   "metadata": {
    "ExecuteTime": {
     "end_time": "2021-01-27T08:03:09.478826Z",
     "start_time": "2021-01-27T08:03:09.109293Z"
    }
   },
   "outputs": [
    {
     "name": "stdout",
     "output_type": "stream",
     "text": [
      "Model Resnet is selected.\n",
      "Model Resnet is selected.\n",
      "Model Resnet is selected.\n",
      "Model Resnet is selected.\n",
      "Model Resnet is selected.\n"
     ]
    }
   ],
   "source": [
    "model_list = glob('./models/ensembles/rough/*.pth')\n",
    "model_list.sort()\n",
    "cfg = CFG()\n",
    "cfg.use_last_layer = True\n",
    "model = Ensemble(model_list, cfg).to(device)\n",
    "with torch.no_grad():\n",
    "    model.last_layer[0].weight.fill_(1 / len(model_list))\n",
    "optimizer = optim.Adam(model.parameters(), lr=1e-4)"
   ]
  }
 ],
 "metadata": {
  "kernelspec": {
   "display_name": "Python 3",
   "language": "python",
   "name": "python3"
  },
  "language_info": {
   "codemirror_mode": {
    "name": "ipython",
    "version": 3
   },
   "file_extension": ".py",
   "mimetype": "text/x-python",
   "name": "python",
   "nbconvert_exporter": "python",
   "pygments_lexer": "ipython3",
   "version": "3.7.7"
  },
  "toc": {
   "base_numbering": 1,
   "nav_menu": {},
   "number_sections": true,
   "sideBar": true,
   "skip_h1_title": false,
   "title_cell": "Table of Contents",
   "title_sidebar": "Contents",
   "toc_cell": false,
   "toc_position": {
    "height": "calc(100% - 180px)",
    "left": "10px",
    "top": "150px",
    "width": "191.589px"
   },
   "toc_section_display": true,
   "toc_window_display": true
  }
 },
 "nbformat": 4,
 "nbformat_minor": 4
}
