{
 "cells": [
  {
   "cell_type": "markdown",
   "metadata": {},
   "source": [
    "# NAIVE LEARNING"
   ]
  },
  {
   "cell_type": "code",
   "execution_count": null,
   "metadata": {},
   "outputs": [],
   "source": [
    "import wandb\n",
    "\n",
    "from sage.config import *\n",
    "from sage.training import runner\n",
    "from utils.misc import seed_everything"
   ]
  },
  {
   "cell_type": "code",
   "execution_count": null,
   "metadata": {},
   "outputs": [],
   "source": [
    "cfg = load_config()\n",
    "seed_everything(cfg.seed)\n",
    "cfg.registration = 'mni'\n",
    "cfg.unused_src = ['IXI', 'Dallas', 'Oasis1']\n",
    "cfg.plot = False\n",
    "\n",
    "cfg.augment = False\n",
    "cfg.epochs = 500\n",
    "cfg.model_name = 'resnet_no_maxpool'\n",
    "cfg.early_patience = 30\n",
    "# cfg.start_channels = 8"
   ]
  },
  {
   "cell_type": "code",
   "execution_count": null,
   "metadata": {},
   "outputs": [],
   "source": [
    "name = 'MNI / OAS3 ONLY / EXTRA_EPOCHS / Resnet_no_maxpool'"
   ]
  },
  {
   "cell_type": "code",
   "execution_count": null,
   "metadata": {},
   "outputs": [],
   "source": [
    "wandb.login()\n",
    "wandb.init(project='3d_smri',\n",
    "           config=vars(cfg),\n",
    "           name=name\n",
    "  )"
   ]
  },
  {
   "cell_type": "code",
   "execution_count": null,
   "metadata": {},
   "outputs": [],
   "source": [
    "model = runner.run(cfg)"
   ]
  },
  {
   "cell_type": "code",
   "execution_count": null,
   "metadata": {},
   "outputs": [],
   "source": [
    "wandb.finish()"
   ]
  },
  {
   "cell_type": "markdown",
   "metadata": {},
   "source": [
    "# UNLEARNING"
   ]
  },
  {
   "cell_type": "code",
   "execution_count": 1,
   "metadata": {
    "ExecuteTime": {
     "end_time": "2021-06-01T12:00:55.122315Z",
     "start_time": "2021-06-01T12:00:52.812815Z"
    }
   },
   "outputs": [],
   "source": [
    "import os\n",
    "import wandb\n",
    "\n",
    "from sage.config import *\n",
    "from sage.training import unlearner\n",
    "from utils.misc import seed_everything, get_today"
   ]
  },
  {
   "cell_type": "code",
   "execution_count": 2,
   "metadata": {
    "ExecuteTime": {
     "end_time": "2021-06-01T12:00:55.609349Z",
     "start_time": "2021-06-01T12:00:55.572411Z"
    }
   },
   "outputs": [],
   "source": [
    "cfg = load_config()\n",
    "seed_everything(cfg.seed)\n",
    "cfg.registration = 'mni'\n",
    "cfg.unused_src = ['Oasis1', 'Oasis3']\n",
    "\n",
    "cfg.unlearn = True\n",
    "cfg.unlearn_cfg.encoder.name = 'resnet'\n",
    "\n",
    "cfg.unlearn_cfg.opt_conf.point = 50\n",
    "# cfg.unlearn_cfg.opt_conf.use = False\n",
    "cfg.unlearn_cfg.domainer.num_dbs = 4 - len(cfg.unused_src)"
   ]
  },
  {
   "cell_type": "code",
   "execution_count": 3,
   "metadata": {
    "ExecuteTime": {
     "end_time": "2021-06-01T12:00:55.828401Z",
     "start_time": "2021-06-01T12:00:55.811864Z"
    }
   },
   "outputs": [],
   "source": [
    "name = 'RES(128) 2DB CONF50 '\n",
    "cfg.RESULT_PATH = os.path.join(cfg.RESULT_PATH, name + get_today())"
   ]
  },
  {
   "cell_type": "code",
   "execution_count": 4,
   "metadata": {
    "ExecuteTime": {
     "end_time": "2021-06-01T12:01:04.660089Z",
     "start_time": "2021-06-01T12:00:56.012642Z"
    }
   },
   "outputs": [
    {
     "name": "stderr",
     "output_type": "stream",
     "text": [
      "wandb: Currently logged in as: 1pha (use `wandb login --relogin` to force relogin)\n"
     ]
    },
    {
     "data": {
      "text/html": [
       "\n",
       "                Tracking run with wandb version 0.10.31<br/>\n",
       "                Syncing run <strong style=\"color:#cdcd00\">RES(128) 2DB CONF50 </strong> to <a href=\"https://wandb.ai\" target=\"_blank\">Weights & Biases</a> <a href=\"https://docs.wandb.com/integrations/jupyter.html\" target=\"_blank\">(Documentation)</a>.<br/>\n",
       "                Project page: <a href=\"https://wandb.ai/1pha/3d_smri_unlearning\" target=\"_blank\">https://wandb.ai/1pha/3d_smri_unlearning</a><br/>\n",
       "                Run page: <a href=\"https://wandb.ai/1pha/3d_smri_unlearning/runs/3lj5u0fv\" target=\"_blank\">https://wandb.ai/1pha/3d_smri_unlearning/runs/3lj5u0fv</a><br/>\n",
       "                Run data is saved locally in <code>G:\\My Drive\\brain_data\\workspace\\3DCNN_sMRI\\wandb\\run-20210601_210057-3lj5u0fv</code><br/><br/>\n",
       "            "
      ],
      "text/plain": [
       "<IPython.core.display.HTML object>"
      ]
     },
     "metadata": {},
     "output_type": "display_data"
    },
    {
     "data": {
      "text/html": [
       "<h1>Run(3lj5u0fv)</h1><iframe src=\"https://wandb.ai/1pha/3d_smri_unlearning/runs/3lj5u0fv\" style=\"border:none;width:100%;height:400px\"></iframe>"
      ],
      "text/plain": [
       "<wandb.sdk.wandb_run.Run at 0x1f9672a55e0>"
      ]
     },
     "execution_count": 4,
     "metadata": {},
     "output_type": "execute_result"
    }
   ],
   "source": [
    "wandb.login()\n",
    "wandb.init(project='3d_smri_unlearning',\n",
    "           config=vars(cfg),\n",
    "           name=name\n",
    "  )"
   ]
  },
  {
   "cell_type": "code",
   "execution_count": null,
   "metadata": {
    "ExecuteTime": {
     "start_time": "2021-06-01T12:00:56.594Z"
    },
    "scrolled": false
   },
   "outputs": [
    {
     "name": "stdout",
     "output_type": "stream",
     "text": [
      "Use cuda:0 as a device.\n",
      "Output from encoder is 128.\n",
      "TOTAL TRAIN 448 | VALID 112\n",
      "Epoch 1 / 100, BEST MAE inf\n",
      " opt_age: True  opt_dom: True  opt_conf: False \n",
      "[train] 16.2 sec [valid] 2.5 sec \n",
      "\tTRAIN :: \n",
      "\tREG  3154.26 | DOM     0.69 | CONF    0.00\n",
      "\tACC      0.52 | AUC      0.51\n",
      "\tRMSE    56.16 | MAE     53.17 | R2      -8.61 | CORR     0.20\n",
      "\tVALID :: \n",
      "\tREG  2692.40 | DOM     0.69 | CONF    0.00\n",
      "\tACC      0.62 | AUC      0.50\n",
      "\tRMSE    51.89 | MAE     49.17 | R2      -8.81 | CORR    -0.22\n",
      "Saving ...\n",
      "Epoch 2 / 100, BEST MAE 49.171\n",
      " opt_age: True  opt_dom: True  opt_conf: False \n",
      "[train] 15.2 sec [valid] 2.6 sec \n",
      "\tTRAIN :: \n",
      "\tREG  3119.16 | DOM     0.69 | CONF    0.00\n",
      "\tACC      0.67 | AUC      0.67\n",
      "\tRMSE    55.85 | MAE     52.85 | R2      -8.50 | CORR     0.35\n",
      "\tVALID :: \n",
      "\tREG  2672.48 | DOM     0.69 | CONF    0.00\n",
      "\tACC      0.62 | AUC      0.50\n",
      "\tRMSE    51.70 | MAE     48.97 | R2      -8.73 | CORR     0.32\n",
      "Saving ...\n",
      "Epoch 3 / 100, BEST MAE 48.971\n",
      " opt_age: True  opt_dom: True  opt_conf: False \n",
      "[train] 16.1 sec [valid] 2.6 sec \n",
      "\tTRAIN :: \n",
      "\tREG  3077.03 | DOM     0.68 | CONF    0.00\n",
      "\tACC      0.69 | AUC      0.69\n",
      "\tRMSE    55.47 | MAE     52.49 | R2      -8.37 | CORR     0.57\n",
      "\tVALID :: \n",
      "\tREG  2600.29 | DOM     0.68 | CONF    0.00\n",
      "\tACC      0.65 | AUC      0.61\n",
      "\tRMSE    50.99 | MAE     48.31 | R2      -8.47 | CORR     0.72\n",
      "Saving ...\n",
      "Epoch 4 / 100, BEST MAE 48.307\n",
      " opt_age: True  opt_dom: True  opt_conf: False \n",
      "[train] 17.1 sec [valid] 2.5 sec \n",
      "\tTRAIN :: \n",
      "\tREG  3015.89 | DOM     0.68 | CONF    0.00\n",
      "\tACC      0.60 | AUC      0.61\n",
      "\tRMSE    54.92 | MAE     51.98 | R2      -8.19 | CORR     0.68\n",
      "\tVALID :: \n",
      "\tREG  2470.90 | DOM     0.69 | CONF    0.00\n",
      "\tACC      0.46 | AUC      0.52\n",
      "\tRMSE    49.71 | MAE     47.05 | R2      -8.00 | CORR     0.75\n",
      "Saving ...\n",
      "Epoch 5 / 100, BEST MAE 47.049\n",
      " opt_age: True  opt_dom: True  opt_conf: False \n",
      "[train] 15.6 sec [valid] 2.5 sec \n",
      "\tTRAIN :: \n",
      "\tREG  2934.09 | DOM     0.69 | CONF    0.00\n",
      "\tACC      0.56 | AUC      0.57\n",
      "\tRMSE    54.17 | MAE     51.28 | R2      -7.94 | CORR     0.73\n",
      "\tVALID :: \n",
      "\tREG  2434.98 | DOM     0.69 | CONF    0.00\n",
      "\tACC      0.50 | AUC      0.51\n",
      "\tRMSE    49.35 | MAE     46.76 | R2      -7.87 | CORR     0.76\n",
      "Saving ...\n",
      "Epoch 6 / 100, BEST MAE 46.759\n",
      " opt_age: True  opt_dom: True  opt_conf: False \n",
      "[train] 15.9 sec [valid] 3.3 sec \n",
      "\tTRAIN :: \n",
      "\tREG  2821.85 | DOM     0.69 | CONF    0.00\n",
      "\tACC      0.54 | AUC      0.54\n",
      "\tRMSE    53.12 | MAE     50.32 | R2      -7.60 | CORR     0.78\n",
      "\tVALID :: \n",
      "\tREG  2526.26 | DOM     0.68 | CONF    0.00\n",
      "\tACC      0.62 | AUC      0.52\n",
      "\tRMSE    50.26 | MAE     47.69 | R2      -8.20 | CORR     0.76\n",
      "Epoch 7 / 100, BEST MAE 46.759\n",
      " opt_age: True  opt_dom: True  opt_conf: False \n",
      "[train] 15.6 sec [valid] 2.5 sec \n",
      "\tTRAIN :: \n",
      "\tREG  2671.58 | DOM     0.69 | CONF    0.00\n",
      "\tACC      0.60 | AUC      0.58\n",
      "\tRMSE    51.69 | MAE     49.03 | R2      -7.14 | CORR     0.84\n",
      "\tVALID :: \n",
      "\tREG  2469.27 | DOM     0.68 | CONF    0.00\n",
      "\tACC      0.62 | AUC      0.50\n",
      "\tRMSE    49.69 | MAE     47.20 | R2      -7.99 | CORR     0.77\n",
      "Epoch 8 / 100, BEST MAE 46.759\n",
      " opt_age: True  opt_dom: True  opt_conf: False \n",
      "[train] 15.0 sec [valid] 2.5 sec \n",
      "\tTRAIN :: \n",
      "\tREG  2473.17 | DOM     0.68 | CONF    0.00\n",
      "\tACC      0.60 | AUC      0.58\n",
      "\tRMSE    49.73 | MAE     47.28 | R2      -6.53 | CORR     0.88\n",
      "\tVALID :: \n",
      "\tREG  2188.94 | DOM     0.68 | CONF    0.00\n",
      "\tACC      0.64 | AUC      0.53\n",
      "\tRMSE    46.79 | MAE     44.49 | R2      -6.97 | CORR     0.85\n",
      "Saving ...\n",
      "Epoch 9 / 100, BEST MAE 44.488\n",
      " opt_age: True  opt_dom: True  opt_conf: False \n",
      "[train] 15.0 sec [valid] 2.4 sec \n",
      "\tTRAIN :: \n",
      "\tREG  2218.93 | DOM     0.68 | CONF    0.00\n",
      "\tACC      0.60 | AUC      0.57\n",
      "\tRMSE    47.11 | MAE     44.89 | R2      -5.76 | CORR     0.90\n",
      "\tVALID :: \n",
      "\tREG  2363.96 | DOM     0.68 | CONF    0.00\n",
      "\tACC      0.62 | AUC      0.50\n",
      "\tRMSE    48.62 | MAE     46.22 | R2      -7.61 | CORR     0.75\n",
      "Epoch 10 / 100, BEST MAE 44.488\n",
      " opt_age: True  opt_dom: True  opt_conf: False \n",
      "[train] 15.4 sec [valid] 2.8 sec \n",
      "\tTRAIN :: \n",
      "\tREG  1919.90 | DOM     0.68 | CONF    0.00\n",
      "\tACC      0.59 | AUC      0.56\n",
      "\tRMSE    43.82 | MAE     41.86 | R2      -4.85 | CORR     0.91\n",
      "\tVALID :: \n",
      "\tREG  1992.21 | DOM     0.68 | CONF    0.00\n",
      "\tACC      0.62 | AUC      0.51\n",
      "\tRMSE    44.63 | MAE     42.60 | R2      -6.26 | CORR     0.81\n",
      "Saving ...\n",
      "Epoch 11 / 100, BEST MAE 42.601\n",
      " opt_age: True  opt_dom: True  opt_conf: False \n",
      "[train] 18.6 sec [valid] 2.6 sec \n",
      "\tTRAIN :: \n",
      "\tREG  1611.63 | DOM     0.68 | CONF    0.00\n",
      "\tACC      0.61 | AUC      0.58\n",
      "\tRMSE    40.15 | MAE     38.39 | R2      -3.91 | CORR     0.92\n",
      "\tVALID :: \n",
      "\tREG  2211.05 | DOM     0.68 | CONF    0.00\n",
      "\tACC      0.62 | AUC      0.50\n",
      "\tRMSE    47.02 | MAE     44.63 | R2      -7.05 | CORR     0.74\n",
      "Epoch 12 / 100, BEST MAE 42.601\n",
      " opt_age: True  opt_dom: True  opt_conf: False \n",
      "[train] 16.4 sec [valid] 2.7 sec \n",
      "\tTRAIN :: \n",
      "\tREG  1289.20 | DOM     0.68 | CONF    0.00\n",
      "\tACC      0.59 | AUC      0.56\n",
      "\tRMSE    35.91 | MAE     34.41 | R2      -2.93 | CORR     0.93\n",
      "\tVALID :: \n",
      "\tREG  1595.02 | DOM     0.67 | CONF    0.00\n",
      "\tACC      0.62 | AUC      0.50\n",
      "\tRMSE    39.94 | MAE     37.95 | R2      -4.81 | CORR     0.83\n",
      "Saving ...\n",
      "Epoch 13 / 100, BEST MAE 37.952\n",
      " opt_age: True  opt_dom: True  opt_conf: False \n",
      "[train] 15.2 sec [valid] 2.5 sec \n",
      "\tTRAIN :: \n",
      "\tREG   982.86 | DOM     0.68 | CONF    0.00\n",
      "\tACC      0.59 | AUC      0.56\n",
      "\tRMSE    31.35 | MAE     30.03 | R2      -1.99 | CORR     0.93\n",
      "\tVALID :: \n",
      "\tREG   810.06 | DOM     0.68 | CONF    0.00\n",
      "\tACC      0.65 | AUC      0.55\n",
      "\tRMSE    28.46 | MAE     26.44 | R2      -1.95 | CORR     0.83\n",
      "Saving ...\n",
      "Epoch 14 / 100, BEST MAE 26.436\n",
      " opt_age: True  opt_dom: True  opt_conf: False \n",
      "[train] 15.5 sec [valid] 2.5 sec \n",
      "\tTRAIN :: \n",
      "\tREG   709.80 | DOM     0.68 | CONF    0.00\n",
      "\tACC      0.63 | AUC      0.60\n",
      "\tRMSE    26.64 | MAE     25.47 | R2      -1.16 | CORR     0.94\n",
      "\tVALID :: \n",
      "\tREG   551.23 | DOM     0.68 | CONF    0.00\n",
      "\tACC      0.67 | AUC      0.57\n",
      "\tRMSE    23.48 | MAE     21.44 | R2      -1.01 | CORR     0.86\n",
      "Saving ...\n",
      "Epoch 15 / 100, BEST MAE 21.443\n",
      " opt_age: True  opt_dom: True  opt_conf: False \n",
      "[train] 15.2 sec [valid] 2.4 sec \n",
      "\tTRAIN :: \n",
      "\tREG   492.08 | DOM     0.68 | CONF    0.00\n",
      "\tACC      0.59 | AUC      0.56\n",
      "\tRMSE    22.18 | MAE     21.04 | R2      -0.50 | CORR     0.94\n",
      "\tVALID :: \n",
      "\tREG  1151.48 | DOM     0.67 | CONF    0.00\n",
      "\tACC      0.62 | AUC      0.50\n",
      "\tRMSE    33.93 | MAE     31.77 | R2      -3.19 | CORR     0.81\n",
      "Epoch 16 / 100, BEST MAE 21.443\n",
      " opt_age: True  opt_dom: True  opt_conf: False \n",
      "[train] 15.0 sec [valid] 2.4 sec \n",
      "\tTRAIN :: \n",
      "\tREG   320.86 | DOM     0.68 | CONF    0.00\n",
      "\tACC      0.62 | AUC      0.59\n",
      "\tRMSE    17.91 | MAE     16.65 | R2       0.02 | CORR     0.94\n",
      "\tVALID :: \n",
      "\tREG   637.73 | DOM     0.67 | CONF    0.00\n",
      "\tACC      0.62 | AUC      0.50\n",
      "\tRMSE    25.25 | MAE     22.62 | R2      -1.32 | CORR     0.82\n",
      "Epoch 17 / 100, BEST MAE 21.443\n",
      " opt_age: True  opt_dom: True  opt_conf: False \n"
     ]
    }
   ],
   "source": [
    "unlearner.run(cfg)"
   ]
  },
  {
   "cell_type": "markdown",
   "metadata": {},
   "source": [
    "--- CUT"
   ]
  },
  {
   "cell_type": "code",
   "execution_count": null,
   "metadata": {
    "ExecuteTime": {
     "start_time": "2021-06-01T12:02:48.275Z"
    }
   },
   "outputs": [],
   "source": [
    "import os\n",
    "import wandb\n",
    "\n",
    "from sage.config import *\n",
    "from sage.training import unlearner\n",
    "from utils.misc import seed_everything, get_today"
   ]
  },
  {
   "cell_type": "code",
   "execution_count": null,
   "metadata": {
    "ExecuteTime": {
     "start_time": "2021-06-01T12:02:48.528Z"
    }
   },
   "outputs": [],
   "source": [
    "cfg = load_config()\n",
    "seed_everything(cfg.seed)\n",
    "cfg.registration = 'mni'\n",
    "cfg.unused_src = []\n",
    "\n",
    "cfg.unlearn = True\n",
    "cfg.unlearn_cfg.encoder.name = 'resnet'\n",
    "\n",
    "cfg.unlearn_cfg.opt_conf.point = 50\n",
    "# cfg.unlearn_cfg.opt_conf.use = False\n",
    "cfg.unlearn_cfg.domainer.num_dbs = 4 - len(cfg.unused_src)"
   ]
  },
  {
   "cell_type": "code",
   "execution_count": null,
   "metadata": {
    "ExecuteTime": {
     "start_time": "2021-06-01T12:02:49.018Z"
    }
   },
   "outputs": [],
   "source": [
    "name = 'RES(128) 4DB CONF50 '\n",
    "cfg.RESULT_PATH = os.path.join(cfg.RESULT_PATH, name + get_today())"
   ]
  },
  {
   "cell_type": "code",
   "execution_count": null,
   "metadata": {
    "ExecuteTime": {
     "start_time": "2021-06-01T12:02:49.322Z"
    }
   },
   "outputs": [],
   "source": [
    "wandb.login()\n",
    "wandb.init(project='3d_smri_unlearning',\n",
    "           config=vars(cfg),\n",
    "           name=name\n",
    "  )"
   ]
  },
  {
   "cell_type": "code",
   "execution_count": null,
   "metadata": {
    "ExecuteTime": {
     "start_time": "2021-06-01T12:02:50.078Z"
    },
    "scrolled": false
   },
   "outputs": [],
   "source": [
    "unlearner.run(cfg)"
   ]
  },
  {
   "cell_type": "code",
   "execution_count": null,
   "metadata": {},
   "outputs": [],
   "source": []
  }
 ],
 "metadata": {
  "kernelspec": {
   "display_name": "Python 3",
   "language": "python",
   "name": "python3"
  },
  "language_info": {
   "codemirror_mode": {
    "name": "ipython",
    "version": 3
   },
   "file_extension": ".py",
   "mimetype": "text/x-python",
   "name": "python",
   "nbconvert_exporter": "python",
   "pygments_lexer": "ipython3",
   "version": "3.8.8"
  },
  "toc": {
   "base_numbering": 1,
   "nav_menu": {},
   "number_sections": false,
   "sideBar": true,
   "skip_h1_title": false,
   "title_cell": "Table of Contents",
   "title_sidebar": "Contents",
   "toc_cell": false,
   "toc_position": {
    "height": "calc(100% - 180px)",
    "left": "10px",
    "top": "150px",
    "width": "191.527px"
   },
   "toc_section_display": true,
   "toc_window_display": false
  }
 },
 "nbformat": 4,
 "nbformat_minor": 4
}
