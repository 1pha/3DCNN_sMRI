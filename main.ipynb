{
 "cells": [
  {
   "cell_type": "markdown",
   "metadata": {},
   "source": [
    "# NAIVE LEARNING"
   ]
  },
  {
   "cell_type": "code",
   "execution_count": null,
   "metadata": {},
   "outputs": [],
   "source": [
    "import wandb\n",
    "\n",
    "from sage.config import *\n",
    "from sage.training import runner\n",
    "from utils.misc import seed_everything"
   ]
  },
  {
   "cell_type": "code",
   "execution_count": null,
   "metadata": {},
   "outputs": [],
   "source": [
    "cfg = load_config()\n",
    "seed_everything(cfg.seed)\n",
    "cfg.registration = 'mni'\n",
    "cfg.unused_src = ['IXI', 'Dallas', 'Oasis1']\n",
    "cfg.plot = False\n",
    "\n",
    "cfg.augment = False\n",
    "cfg.epochs = 500\n",
    "cfg.model_name = 'resnet_no_maxpool'\n",
    "cfg.early_patience = 30\n",
    "# cfg.start_channels = 8"
   ]
  },
  {
   "cell_type": "code",
   "execution_count": null,
   "metadata": {},
   "outputs": [],
   "source": [
    "name = 'MNI / OAS3 ONLY / EXTRA_EPOCHS / Resnet_no_maxpool'"
   ]
  },
  {
   "cell_type": "code",
   "execution_count": null,
   "metadata": {},
   "outputs": [],
   "source": [
    "wandb.login()\n",
    "wandb.init(project='3d_smri',\n",
    "           config=vars(cfg),\n",
    "           name=name\n",
    "  )"
   ]
  },
  {
   "cell_type": "code",
   "execution_count": null,
   "metadata": {},
   "outputs": [],
   "source": [
    "model = runner.run(cfg)"
   ]
  },
  {
   "cell_type": "code",
   "execution_count": null,
   "metadata": {},
   "outputs": [],
   "source": [
    "wandb.finish()"
   ]
  },
  {
   "cell_type": "markdown",
   "metadata": {},
   "source": [
    "# UNLEARNING"
   ]
  },
  {
   "cell_type": "code",
   "execution_count": 1,
   "metadata": {
    "ExecuteTime": {
     "end_time": "2021-05-29T09:24:50.813772Z",
     "start_time": "2021-05-29T09:24:48.377185Z"
    }
   },
   "outputs": [],
   "source": [
    "import wandb\n",
    "\n",
    "from sage.config import *\n",
    "from sage.training import unlearner\n",
    "from utils.misc import seed_everything"
   ]
  },
  {
   "cell_type": "code",
   "execution_count": 2,
   "metadata": {
    "ExecuteTime": {
     "end_time": "2021-05-29T09:24:50.875274Z",
     "start_time": "2021-05-29T09:24:50.822754Z"
    }
   },
   "outputs": [],
   "source": [
    "cfg = load_config()\n",
    "seed_everything(cfg.seed)\n",
    "cfg.registration = 'mni'\n",
    "cfg.unused_src = ['Oasis1', 'Oasis3']\n",
    "\n",
    "cfg.unlearn = True\n",
    "cfg.unlearn_cfg.domainer.num_dbs = 4 - len(cfg.unused_src)"
   ]
  },
  {
   "cell_type": "code",
   "execution_count": 3,
   "metadata": {
    "ExecuteTime": {
     "end_time": "2021-05-29T09:24:50.891273Z",
     "start_time": "2021-05-29T09:24:50.880273Z"
    }
   },
   "outputs": [],
   "source": [
    "name = 'UNLEARNING TESTBED'"
   ]
  },
  {
   "cell_type": "code",
   "execution_count": 4,
   "metadata": {
    "ExecuteTime": {
     "end_time": "2021-05-29T09:24:58.935643Z",
     "start_time": "2021-05-29T09:24:50.894276Z"
    }
   },
   "outputs": [
    {
     "name": "stderr",
     "output_type": "stream",
     "text": [
      "wandb: Currently logged in as: 1pha (use `wandb login --relogin` to force relogin)\n"
     ]
    },
    {
     "data": {
      "text/html": [
       "\n",
       "                Tracking run with wandb version 0.10.31<br/>\n",
       "                Syncing run <strong style=\"color:#cdcd00\">UNLEARNING TESTBED</strong> to <a href=\"https://wandb.ai\" target=\"_blank\">Weights & Biases</a> <a href=\"https://docs.wandb.com/integrations/jupyter.html\" target=\"_blank\">(Documentation)</a>.<br/>\n",
       "                Project page: <a href=\"https://wandb.ai/1pha/3d_smri_unlearning\" target=\"_blank\">https://wandb.ai/1pha/3d_smri_unlearning</a><br/>\n",
       "                Run page: <a href=\"https://wandb.ai/1pha/3d_smri_unlearning/runs/jvcyhf7g\" target=\"_blank\">https://wandb.ai/1pha/3d_smri_unlearning/runs/jvcyhf7g</a><br/>\n",
       "                Run data is saved locally in <code>G:\\My Drive\\brain_data\\workspace\\3DCNN_sMRI\\wandb\\run-20210529_182451-jvcyhf7g</code><br/><br/>\n",
       "            "
      ],
      "text/plain": [
       "<IPython.core.display.HTML object>"
      ]
     },
     "metadata": {},
     "output_type": "display_data"
    },
    {
     "data": {
      "text/html": [
       "<h1>Run(jvcyhf7g)</h1><iframe src=\"https://wandb.ai/1pha/3d_smri_unlearning/runs/jvcyhf7g\" style=\"border:none;width:100%;height:400px\"></iframe>"
      ],
      "text/plain": [
       "<wandb.sdk.wandb_run.Run at 0x18ab7931490>"
      ]
     },
     "execution_count": 4,
     "metadata": {},
     "output_type": "execute_result"
    }
   ],
   "source": [
    "wandb.login()\n",
    "wandb.init(project='3d_smri_unlearning',\n",
    "           config=vars(cfg),\n",
    "           name=name\n",
    "  )"
   ]
  },
  {
   "cell_type": "code",
   "execution_count": null,
   "metadata": {
    "ExecuteTime": {
     "start_time": "2021-05-29T09:24:44.814Z"
    }
   },
   "outputs": [
    {
     "name": "stdout",
     "output_type": "stream",
     "text": [
      "Use cuda:0 as a device.\n",
      "Output from encoder is 128.\n",
      "TOTAL TRAIN 448 | VALID 112\n",
      "Epoch 1 / 100, BEST MAE inf\n",
      "[train] 27.8 sec [valid] 2.7 sec \n",
      "TRAIN :: REG 3171.842 DOM 0.689 CONF 111.558 \n",
      "RMSE 56.32 | MAE 53.34 | R2 -8.66 | CORR 0.30\n",
      "TRAIN :: REG 2689.167 DOM 0.699 CONF 111.120 \n",
      "RMSE 51.86 | MAE 49.14 | R2 -8.79 | CORR 0.18\n",
      "Epoch 2 / 100, BEST MAE 49.139\n",
      "[train] 26.5 sec [valid] 2.8 sec \n",
      "TRAIN :: REG 3146.647 DOM 0.669 CONF 112.826 \n",
      "RMSE 56.09 | MAE 53.12 | R2 -8.59 | CORR 0.34\n",
      "TRAIN :: REG 2670.912 DOM 0.683 CONF 111.032 \n",
      "RMSE 51.68 | MAE 48.95 | R2 -8.73 | CORR -0.21\n",
      "Epoch 3 / 100, BEST MAE 48.946\n",
      "[train] 26.8 sec [valid] 2.8 sec \n",
      "TRAIN :: REG 3117.849 DOM 0.633 CONF 116.798 \n",
      "RMSE 55.84 | MAE 52.86 | R2 -8.50 | CORR 0.34\n",
      "TRAIN :: REG 2648.062 DOM 0.622 CONF 115.652 \n",
      "RMSE 51.46 | MAE 48.76 | R2 -8.64 | CORR 0.42\n",
      "Epoch 4 / 100, BEST MAE 48.756\n",
      "[train] 26.8 sec [valid] 2.9 sec \n",
      "TRAIN :: REG 3078.371 DOM 0.598 CONF 124.150 \n",
      "RMSE 55.48 | MAE 52.51 | R2 -8.38 | CORR 0.40\n",
      "TRAIN :: REG 2618.515 DOM 0.592 CONF 118.230 \n",
      "RMSE 51.17 | MAE 48.47 | R2 -8.54 | CORR 0.55\n",
      "Epoch 5 / 100, BEST MAE 48.474\n",
      "[train] 26.8 sec [valid] 3.2 sec \n",
      "TRAIN :: REG 3021.804 DOM 0.573 CONF 135.930 \n",
      "RMSE 54.97 | MAE 52.05 | R2 -8.21 | CORR 0.52\n",
      "TRAIN :: REG 2596.578 DOM 0.593 CONF 120.616 \n",
      "RMSE 50.96 | MAE 48.29 | R2 -8.46 | CORR 0.63\n",
      "Epoch 6 / 100, BEST MAE 48.295\n",
      "[train] 28.4 sec [valid] 2.7 sec \n",
      "TRAIN :: REG 2941.250 DOM 0.557 CONF 150.011 \n",
      "RMSE 54.23 | MAE 51.41 | R2 -7.96 | CORR 0.63\n",
      "TRAIN :: REG 2500.807 DOM 0.551 CONF 135.259 \n",
      "RMSE 50.01 | MAE 47.45 | R2 -8.11 | CORR 0.76\n",
      "Epoch 7 / 100, BEST MAE 47.449\n",
      "[train] 26.9 sec [valid] 2.8 sec \n",
      "TRAIN :: REG 2828.956 DOM 0.545 CONF 165.858 \n",
      "RMSE 53.19 | MAE 50.49 | R2 -7.62 | CORR 0.70\n",
      "TRAIN :: REG 2461.644 DOM 0.552 CONF 137.504 \n",
      "RMSE 49.61 | MAE 47.14 | R2 -7.97 | CORR 0.77\n",
      "Epoch 8 / 100, BEST MAE 47.142\n",
      "[train] 26.6 sec [valid] 2.8 sec \n",
      "TRAIN :: REG 2676.310 DOM 0.539 CONF 177.780 \n",
      "RMSE 51.73 | MAE 49.23 | R2 -7.15 | CORR 0.75\n",
      "TRAIN :: REG 2315.896 DOM 0.556 CONF 146.247 \n",
      "RMSE 48.12 | MAE 45.88 | R2 -7.44 | CORR 0.76\n",
      "Epoch 9 / 100, BEST MAE 45.882\n",
      "[train] 27.2 sec [valid] 2.9 sec \n",
      "TRAIN :: REG 2466.996 DOM 0.543 CONF 179.422 \n",
      "RMSE 49.67 | MAE 47.48 | R2 -6.51 | CORR 0.81\n",
      "TRAIN :: REG 2556.846 DOM 0.619 CONF 118.286 \n",
      "RMSE 50.57 | MAE 47.96 | R2 -8.31 | CORR 0.46\n",
      "Epoch 10 / 100, BEST MAE 45.882\n",
      "[train] 26.8 sec [valid] 3.3 sec \n",
      "TRAIN :: REG 2216.323 DOM 0.532 CONF 179.840 \n",
      "RMSE 47.08 | MAE 45.20 | R2 -5.75 | CORR 0.83\n",
      "TRAIN :: REG 1830.242 DOM 0.473 CONF 202.945 \n",
      "RMSE 42.78 | MAE 40.74 | R2 -5.67 | CORR 0.78\n",
      "Epoch 11 / 100, BEST MAE 40.742\n",
      "[train] 27.4 sec [valid] 2.8 sec \n",
      "TRAIN :: REG 1930.002 DOM 0.520 CONF 190.444 \n",
      "RMSE 43.93 | MAE 42.37 | R2 -4.88 | CORR 0.86\n",
      "TRAIN :: REG 2207.985 DOM 0.567 CONF 137.026 \n",
      "RMSE 46.99 | MAE 44.81 | R2 -7.04 | CORR 0.69\n",
      "Epoch 12 / 100, BEST MAE 40.742\n",
      "[train] 27.3 sec [valid] 2.7 sec \n",
      "TRAIN :: REG 1618.962 DOM 0.510 CONF 204.279 \n",
      "RMSE 40.24 | MAE 38.92 | R2 -3.93 | CORR 0.88\n",
      "TRAIN :: REG 1736.846 DOM 0.511 CONF 169.343 \n",
      "RMSE 41.68 | MAE 40.05 | R2 -5.33 | CORR 0.79\n",
      "Epoch 13 / 100, BEST MAE 40.048\n",
      "[train] 26.2 sec [valid] 2.7 sec \n",
      "TRAIN :: REG 1318.187 DOM 0.506 CONF 218.012 \n",
      "RMSE 36.31 | MAE 35.18 | R2 -3.02 | CORR 0.89\n",
      "TRAIN :: REG 841.550 DOM 0.435 CONF 261.186 \n",
      "RMSE 29.01 | MAE 26.65 | R2 -2.07 | CORR 0.75\n",
      "Epoch 14 / 100, BEST MAE 26.655\n",
      "[train] 27.3 sec [valid] 3.4 sec \n",
      "TRAIN :: REG 1046.723 DOM 0.500 CONF 235.096 \n",
      "RMSE 32.35 | MAE 31.19 | R2 -2.19 | CORR 0.89\n",
      "TRAIN :: REG 914.159 DOM 0.485 CONF 248.199 \n",
      "RMSE 30.24 | MAE 28.56 | R2 -2.33 | CORR 0.81\n",
      "Epoch 15 / 100, BEST MAE 26.655\n",
      "[train] 26.9 sec [valid] 2.8 sec \n",
      "TRAIN :: REG 776.812 DOM 0.501 CONF 240.982 \n",
      "RMSE 27.87 | MAE 26.82 | R2 -1.37 | CORR 0.91\n",
      "TRAIN :: REG 532.596 DOM 0.475 CONF 250.298 \n",
      "RMSE 23.08 | MAE 20.69 | R2 -0.94 | CORR 0.81\n",
      "Epoch 16 / 100, BEST MAE 20.688\n",
      "[train] 27.7 sec [valid] 2.9 sec \n",
      "TRAIN :: REG 563.043 DOM 0.504 CONF 248.726 \n",
      "RMSE 23.73 | MAE 22.56 | R2 -0.72 | CORR 0.91\n",
      "TRAIN :: REG 1099.602 DOM 0.567 CONF 219.786 \n",
      "RMSE 33.16 | MAE 30.62 | R2 -3.01 | CORR 0.65\n",
      "Epoch 17 / 100, BEST MAE 20.688\n",
      "[train] 26.6 sec [valid] 2.8 sec \n",
      "TRAIN :: REG 409.060 DOM 0.516 CONF 254.922 \n",
      "RMSE 20.23 | MAE 18.61 | R2 -0.25 | CORR 0.90\n",
      "TRAIN :: REG 563.557 DOM 0.511 CONF 245.248 \n",
      "RMSE 23.74 | MAE 21.73 | R2 -1.05 | CORR 0.81\n",
      "Epoch 18 / 100, BEST MAE 20.688\n",
      "[train] 28.4 sec [valid] 3.3 sec \n",
      "TRAIN :: REG 283.457 DOM 0.529 CONF 248.706 \n",
      "RMSE 16.84 | MAE 15.08 | R2 0.14 | CORR 0.91\n",
      "TRAIN :: REG 421.822 DOM 0.553 CONF 276.997 \n",
      "RMSE 20.54 | MAE 17.82 | R2 -0.54 | CORR 0.77\n",
      "Epoch 19 / 100, BEST MAE 17.820\n",
      "[train] 27.4 sec [valid] 3.0 sec \n",
      "TRAIN :: REG 164.028 DOM 0.542 CONF 249.411 \n",
      "RMSE 12.81 | MAE 11.36 | R2 0.50 | CORR 0.94\n",
      "TRAIN :: REG 265.386 DOM 0.538 CONF 262.399 \n",
      "RMSE 16.29 | MAE 13.80 | R2 0.03 | CORR 0.82\n",
      "Epoch 20 / 100, BEST MAE 13.802\n",
      "[train] 27.3 sec [valid] 3.0 sec \n",
      "TRAIN :: REG 98.703 DOM 0.550 CONF 246.770 \n",
      "RMSE 9.93 | MAE 8.48 | R2 0.70 | CORR 0.95\n",
      "TRAIN :: REG 152.455 DOM 0.530 CONF 268.685 \n",
      "RMSE 12.35 | MAE 10.13 | R2 0.44 | CORR 0.83\n",
      "Epoch 21 / 100, BEST MAE 10.132\n",
      "[train] 27.5 sec [valid] 2.8 sec \n",
      "TRAIN :: REG 65.819 DOM 0.550 CONF 246.292 \n",
      "RMSE 8.11 | MAE 6.56 | R2 0.80 | CORR 0.95\n",
      "TRAIN :: REG 115.307 DOM 0.499 CONF 213.860 \n",
      "RMSE 10.74 | MAE 8.97 | R2 0.58 | CORR 0.82\n",
      "Epoch 22 / 100, BEST MAE 8.970\n",
      "[train] 32.9 sec [valid] 3.6 sec \n",
      "TRAIN :: REG 49.894 DOM 0.549 CONF 247.290 \n",
      "RMSE 7.06 | MAE 5.64 | R2 0.85 | CORR 0.95\n",
      "TRAIN :: REG 176.958 DOM 0.519 CONF 235.628 \n",
      "RMSE 13.30 | MAE 10.91 | R2 0.36 | CORR 0.84\n",
      "Epoch 23 / 100, BEST MAE 8.970\n",
      "[train] 26.7 sec [valid] 2.8 sec \n",
      "TRAIN :: REG 42.797 DOM 0.547 CONF 246.308 \n",
      "RMSE 6.54 | MAE 5.08 | R2 0.87 | CORR 0.95\n",
      "TRAIN :: REG 340.389 DOM 0.616 CONF 260.925 \n",
      "RMSE 18.45 | MAE 14.75 | R2 -0.24 | CORR 0.67\n",
      "Epoch 24 / 100, BEST MAE 8.970\n",
      "[train] 27.2 sec [valid] 2.8 sec \n",
      "TRAIN :: REG 42.491 DOM 0.551 CONF 245.074 \n",
      "RMSE 6.52 | MAE 5.19 | R2 0.87 | CORR 0.94\n",
      "TRAIN :: REG 137.970 DOM 0.501 CONF 222.676 \n",
      "RMSE 11.75 | MAE 9.61 | R2 0.50 | CORR 0.81\n",
      "Epoch 25 / 100, BEST MAE 8.970\n",
      "[train] 26.5 sec [valid] 2.8 sec \n",
      "TRAIN :: REG 45.410 DOM 0.565 CONF 241.406 \n",
      "RMSE 6.74 | MAE 5.29 | R2 0.86 | CORR 0.93\n",
      "TRAIN :: REG 170.473 DOM 0.534 CONF 239.638 \n",
      "RMSE 13.06 | MAE 10.61 | R2 0.38 | CORR 0.78\n",
      "Epoch 26 / 100, BEST MAE 8.970\n"
     ]
    }
   ],
   "source": [
    "unlearner.run(cfg)"
   ]
  },
  {
   "cell_type": "code",
   "execution_count": null,
   "metadata": {},
   "outputs": [],
   "source": []
  }
 ],
 "metadata": {
  "kernelspec": {
   "display_name": "Python 3",
   "language": "python",
   "name": "python3"
  },
  "language_info": {
   "codemirror_mode": {
    "name": "ipython",
    "version": 3
   },
   "file_extension": ".py",
   "mimetype": "text/x-python",
   "name": "python",
   "nbconvert_exporter": "python",
   "pygments_lexer": "ipython3",
   "version": "3.8.8"
  },
  "toc": {
   "base_numbering": 1,
   "nav_menu": {},
   "number_sections": false,
   "sideBar": true,
   "skip_h1_title": false,
   "title_cell": "Table of Contents",
   "title_sidebar": "Contents",
   "toc_cell": false,
   "toc_position": {
    "height": "calc(100% - 180px)",
    "left": "10px",
    "top": "150px",
    "width": "191.527px"
   },
   "toc_section_display": true,
   "toc_window_display": true
  }
 },
 "nbformat": 4,
 "nbformat_minor": 4
}
