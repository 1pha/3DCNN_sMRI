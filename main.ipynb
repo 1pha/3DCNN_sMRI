{
 "cells": [
  {
   "cell_type": "markdown",
   "metadata": {},
   "source": [
    "# NAIVE LEARNING"
   ]
  },
  {
   "cell_type": "code",
   "execution_count": null,
   "metadata": {},
   "outputs": [],
   "source": [
    "import wandb\n",
    "\n",
    "from sage.config import *\n",
    "from sage.training import runner\n",
    "from utils.misc import seed_everything"
   ]
  },
  {
   "cell_type": "code",
   "execution_count": null,
   "metadata": {},
   "outputs": [],
   "source": [
    "cfg = load_config()\n",
    "seed_everything(cfg.seed)\n",
    "cfg.registration = 'mni'\n",
    "cfg.unused_src = ['IXI', 'Dallas', 'Oasis1']\n",
    "cfg.plot = False\n",
    "\n",
    "cfg.augment = False\n",
    "cfg.epochs = 500\n",
    "cfg.model_name = 'resnet_no_maxpool'\n",
    "cfg.early_patience = 30\n",
    "# cfg.start_channels = 8"
   ]
  },
  {
   "cell_type": "code",
   "execution_count": null,
   "metadata": {},
   "outputs": [],
   "source": [
    "name = 'MNI / OAS3 ONLY / EXTRA_EPOCHS / Resnet_no_maxpool'"
   ]
  },
  {
   "cell_type": "code",
   "execution_count": null,
   "metadata": {},
   "outputs": [],
   "source": [
    "wandb.login()\n",
    "wandb.init(project='3d_smri',\n",
    "           config=vars(cfg),\n",
    "           name=name\n",
    "  )"
   ]
  },
  {
   "cell_type": "code",
   "execution_count": null,
   "metadata": {},
   "outputs": [],
   "source": [
    "model = runner.run(cfg)"
   ]
  },
  {
   "cell_type": "code",
   "execution_count": null,
   "metadata": {},
   "outputs": [],
   "source": [
    "wandb.finish()"
   ]
  },
  {
   "cell_type": "markdown",
   "metadata": {},
   "source": [
    "# UNLEARNING"
   ]
  },
  {
   "cell_type": "code",
   "execution_count": 1,
   "metadata": {
    "ExecuteTime": {
     "end_time": "2021-06-01T11:35:50.691765Z",
     "start_time": "2021-06-01T11:35:48.288831Z"
    }
   },
   "outputs": [],
   "source": [
    "import wandb\n",
    "\n",
    "from sage.config import *\n",
    "from sage.training import unlearner\n",
    "from utils.misc import seed_everything"
   ]
  },
  {
   "cell_type": "code",
   "execution_count": 2,
   "metadata": {
    "ExecuteTime": {
     "end_time": "2021-06-01T11:35:50.723764Z",
     "start_time": "2021-06-01T11:35:50.693763Z"
    }
   },
   "outputs": [],
   "source": [
    "cfg = load_config()\n",
    "seed_everything(cfg.seed)\n",
    "cfg.registration = 'mni'\n",
    "cfg.unused_src = []\n",
    "\n",
    "cfg.unlearn = True\n",
    "cfg.unlearn_cfg.encoder.name = 'resnet'\n",
    "\n",
    "cfg.unlearn_cfg.opt_conf.point = 1\n",
    "# cfg.unlearn_cfg.opt_conf.use = False\n",
    "cfg.unlearn_cfg.domainer.num_dbs = 4 - len(cfg.unused_src)"
   ]
  },
  {
   "cell_type": "code",
   "execution_count": 3,
   "metadata": {
    "ExecuteTime": {
     "end_time": "2021-06-01T11:35:50.739765Z",
     "start_time": "2021-06-01T11:35:50.725764Z"
    }
   },
   "outputs": [],
   "source": [
    "name = 'RES(128) 2DB CONF=50'"
   ]
  },
  {
   "cell_type": "code",
   "execution_count": 4,
   "metadata": {
    "ExecuteTime": {
     "end_time": "2021-06-01T11:35:58.866078Z",
     "start_time": "2021-06-01T11:35:50.741766Z"
    }
   },
   "outputs": [
    {
     "name": "stderr",
     "output_type": "stream",
     "text": [
      "wandb: Currently logged in as: 1pha (use `wandb login --relogin` to force relogin)\n"
     ]
    },
    {
     "data": {
      "text/html": [
       "\n",
       "                Tracking run with wandb version 0.10.31<br/>\n",
       "                Syncing run <strong style=\"color:#cdcd00\">RES(128) 2DB CONF=50</strong> to <a href=\"https://wandb.ai\" target=\"_blank\">Weights & Biases</a> <a href=\"https://docs.wandb.com/integrations/jupyter.html\" target=\"_blank\">(Documentation)</a>.<br/>\n",
       "                Project page: <a href=\"https://wandb.ai/1pha/3d_smri_unlearning\" target=\"_blank\">https://wandb.ai/1pha/3d_smri_unlearning</a><br/>\n",
       "                Run page: <a href=\"https://wandb.ai/1pha/3d_smri_unlearning/runs/2u4x25x6\" target=\"_blank\">https://wandb.ai/1pha/3d_smri_unlearning/runs/2u4x25x6</a><br/>\n",
       "                Run data is saved locally in <code>G:\\My Drive\\brain_data\\workspace\\3DCNN_sMRI\\wandb\\run-20210601_203551-2u4x25x6</code><br/><br/>\n",
       "            "
      ],
      "text/plain": [
       "<IPython.core.display.HTML object>"
      ]
     },
     "metadata": {},
     "output_type": "display_data"
    },
    {
     "data": {
      "text/html": [
       "<h1>Run(2u4x25x6)</h1><iframe src=\"https://wandb.ai/1pha/3d_smri_unlearning/runs/2u4x25x6\" style=\"border:none;width:100%;height:400px\"></iframe>"
      ],
      "text/plain": [
       "<wandb.sdk.wandb_run.Run at 0x166e5a678b0>"
      ]
     },
     "execution_count": 4,
     "metadata": {},
     "output_type": "execute_result"
    }
   ],
   "source": [
    "wandb.login()\n",
    "wandb.init(project='3d_smri_unlearning',\n",
    "           config=vars(cfg),\n",
    "           name=name\n",
    "  )"
   ]
  },
  {
   "cell_type": "code",
   "execution_count": null,
   "metadata": {
    "ExecuteTime": {
     "start_time": "2021-06-01T11:35:42.832Z"
    },
    "scrolled": true
   },
   "outputs": [
    {
     "name": "stdout",
     "output_type": "stream",
     "text": [
      "Use cuda:0 as a device.\n",
      "Output from encoder is 128.\n",
      "TOTAL TRAIN 1141 | VALID 286\n",
      "Epoch 1 / 100, BEST MAE inf\n"
     ]
    }
   ],
   "source": [
    "unlearner.run(cfg)"
   ]
  },
  {
   "cell_type": "code",
   "execution_count": null,
   "metadata": {},
   "outputs": [],
   "source": []
  }
 ],
 "metadata": {
  "kernelspec": {
   "display_name": "Python 3",
   "language": "python",
   "name": "python3"
  },
  "language_info": {
   "codemirror_mode": {
    "name": "ipython",
    "version": 3
   },
   "file_extension": ".py",
   "mimetype": "text/x-python",
   "name": "python",
   "nbconvert_exporter": "python",
   "pygments_lexer": "ipython3",
   "version": "3.8.8"
  },
  "toc": {
   "base_numbering": 1,
   "nav_menu": {},
   "number_sections": false,
   "sideBar": true,
   "skip_h1_title": false,
   "title_cell": "Table of Contents",
   "title_sidebar": "Contents",
   "toc_cell": false,
   "toc_position": {
    "height": "calc(100% - 180px)",
    "left": "10px",
    "top": "150px",
    "width": "191.527px"
   },
   "toc_section_display": true,
   "toc_window_display": false
  }
 },
 "nbformat": 4,
 "nbformat_minor": 4
}
