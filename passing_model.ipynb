{
 "cells": [
  {
   "cell_type": "markdown",
   "metadata": {},
   "source": [
    "# Import"
   ]
  },
  {
   "cell_type": "code",
   "execution_count": 1,
   "metadata": {
    "ExecuteTime": {
     "end_time": "2020-09-16T07:23:35.417833Z",
     "start_time": "2020-09-16T07:23:33.994937Z"
    }
   },
   "outputs": [],
   "source": [
    "import os\n",
    "from datetime import datetime\n",
    "from itertools import chain\n",
    "\n",
    "import numpy as np\n",
    "import pandas as pd\n",
    "from glob import glob\n",
    "from tqdm.notebook import tqdm\n",
    "\n",
    "import matplotlib.pyplot as plt\n",
    "\n",
    "import nibabel as nib\n",
    "\n",
    "import torch\n",
    "import torch.nn as nn\n",
    "import torch.optim as optim\n",
    "from torch.utils.data import Dataset, DataLoader"
   ]
  },
  {
   "cell_type": "code",
   "execution_count": 2,
   "metadata": {
    "ExecuteTime": {
     "end_time": "2020-09-16T07:23:35.433831Z",
     "start_time": "2020-09-16T07:23:35.421835Z"
    }
   },
   "outputs": [],
   "source": [
    "RANDOM_STATE = 42\n",
    "np.random.seed(RANDOM_STATE)"
   ]
  },
  {
   "cell_type": "code",
   "execution_count": 3,
   "metadata": {
    "ExecuteTime": {
     "end_time": "2020-09-16T07:23:35.465829Z",
     "start_time": "2020-09-16T07:23:35.434831Z"
    }
   },
   "outputs": [
    {
     "name": "stdout",
     "output_type": "stream",
     "text": [
      "cuda:0\n"
     ]
    }
   ],
   "source": [
    "device = torch.device(\"cuda:0\" if torch.cuda.is_available() else \"cpu\")\n",
    "print(device)"
   ]
  },
  {
   "cell_type": "markdown",
   "metadata": {},
   "source": [
    "# DataLoader"
   ]
  },
  {
   "cell_type": "code",
   "execution_count": 4,
   "metadata": {
    "ExecuteTime": {
     "end_time": "2020-09-16T07:23:35.764051Z",
     "start_time": "2020-09-16T07:23:35.466830Z"
    }
   },
   "outputs": [],
   "source": [
    "class MyDataset(Dataset):\n",
    "    def __init__(self, test_size=0.2, test=False):\n",
    "        \n",
    "        data_files = glob('../../brainmask_nii/*.nii')\n",
    "        data_files.sort()\n",
    "        \n",
    "        test_num = int(test_size * len(data_files))\n",
    "        train_num = len(data_files) - test_num\n",
    "        shuffled_index = np.random.permutation(len(data_files))\n",
    "        \n",
    "        train_fname = [data_files[i] for i in shuffled_index[:train_num]]\n",
    "        test_fname  = [data_files[i] for i in shuffled_index[-test_num:]]\n",
    "        \n",
    "        label_file = pd.read_csv('../rsc/age_ixi_and_oasis.csv', index_col=0)\n",
    "        \n",
    "        if test:\n",
    "            self.data_files = [data_files[i] for i in shuffled_index[-test_num:]]\n",
    "            self.label_file = label_file.age_zscored.values[shuffled_index[-test_num:]]\n",
    "            \n",
    "        else:\n",
    "            self.data_files = [data_files[i] for i in shuffled_index[:train_num]]\n",
    "            self.label_file = label_file.age_zscored.values[shuffled_index[:train_num]]\n",
    "\n",
    "    def __getitem__(self, idx):\n",
    "        #print(idx)\n",
    "        x = torch.tensor(nib.load(self.data_files[idx]).get_fdata())[None, :, :].float() / 255\n",
    "        y = torch.tensor(self.label_file[idx]).float()\n",
    "        return x, y\n",
    "\n",
    "    def __len__(self):\n",
    "        return len(self.data_files)\n",
    "\n",
    "train_dset = MyDataset()\n",
    "test_dset  = MyDataset(test=True)\n",
    "\n",
    "train_loader = DataLoader(train_dset, batch_size=8)\n",
    "test_loader = DataLoader(test_dset, batch_size=8)"
   ]
  },
  {
   "cell_type": "markdown",
   "metadata": {},
   "source": [
    "# 3D Convolution Model"
   ]
  },
  {
   "cell_type": "markdown",
   "metadata": {},
   "source": [
    "## Modeling"
   ]
  },
  {
   "cell_type": "code",
   "execution_count": 5,
   "metadata": {
    "ExecuteTime": {
     "end_time": "2020-09-16T07:23:35.796075Z",
     "start_time": "2020-09-16T07:23:35.771075Z"
    }
   },
   "outputs": [],
   "source": [
    "class Conv3d(nn.Module):\n",
    "    \n",
    "    def __init__(self):\n",
    "        super(Conv3d, self).__init__()\n",
    "        \n",
    "        self.layer1 = nn.Sequential(\n",
    "            nn.Conv3d(1, 8, 5, 3),\n",
    "            nn.BatchNorm3d(8),\n",
    "            nn.ReLU(),\n",
    "            nn.Dropout(.2),\n",
    "            nn.MaxPool3d(kernel_size=3, stride=3)\n",
    "        )\n",
    "        \n",
    "        self.layer2 = nn.Sequential(\n",
    "            nn.Conv3d(8, 16, 5, 3),\n",
    "            nn.BatchNorm3d(16),\n",
    "            nn.ReLU(),\n",
    "            nn.Dropout(.2),\n",
    "            nn.MaxPool3d(kernel_size=3, stride=3)\n",
    "        )\n",
    "        \n",
    "        self.fc1 = nn.Linear(128, 64)\n",
    "        self.fc2 = nn.Linear(64, 1)\n",
    "        \n",
    "    def forward(self, x):\n",
    "        x = self.layer1(x)\n",
    "        x = self.layer2(x)\n",
    "        \n",
    "        x = x.reshape(x.size(0), -1)\n",
    "        x = self.fc1(x)\n",
    "        x = self.fc2(x)\n",
    "        \n",
    "        return x"
   ]
  },
  {
   "cell_type": "code",
   "execution_count": 6,
   "metadata": {
    "ExecuteTime": {
     "end_time": "2020-09-16T07:23:37.019754Z",
     "start_time": "2020-09-16T07:23:35.798047Z"
    }
   },
   "outputs": [
    {
     "data": {
      "text/plain": [
       "Conv3d(\n",
       "  (layer1): Sequential(\n",
       "    (0): Conv3d(1, 8, kernel_size=(5, 5, 5), stride=(3, 3, 3))\n",
       "    (1): BatchNorm3d(8, eps=1e-05, momentum=0.1, affine=True, track_running_stats=True)\n",
       "    (2): ReLU()\n",
       "    (3): Dropout(p=0.2, inplace=False)\n",
       "    (4): MaxPool3d(kernel_size=3, stride=3, padding=0, dilation=1, ceil_mode=False)\n",
       "  )\n",
       "  (layer2): Sequential(\n",
       "    (0): Conv3d(8, 16, kernel_size=(5, 5, 5), stride=(3, 3, 3))\n",
       "    (1): BatchNorm3d(16, eps=1e-05, momentum=0.1, affine=True, track_running_stats=True)\n",
       "    (2): ReLU()\n",
       "    (3): Dropout(p=0.2, inplace=False)\n",
       "    (4): MaxPool3d(kernel_size=3, stride=3, padding=0, dilation=1, ceil_mode=False)\n",
       "  )\n",
       "  (fc1): Linear(in_features=128, out_features=64, bias=True)\n",
       "  (fc2): Linear(in_features=64, out_features=1, bias=True)\n",
       ")"
      ]
     },
     "execution_count": 6,
     "metadata": {},
     "output_type": "execute_result"
    }
   ],
   "source": [
    "model = Conv3d().float()\n",
    "model.to(device)"
   ]
  },
  {
   "cell_type": "markdown",
   "metadata": {},
   "source": [
    "## Debug"
   ]
  },
  {
   "cell_type": "code",
   "execution_count": 7,
   "metadata": {
    "ExecuteTime": {
     "end_time": "2020-09-16T07:23:42.047001Z",
     "start_time": "2020-09-16T07:23:37.020755Z"
    }
   },
   "outputs": [],
   "source": [
    "# for i, (x, y)in enumerate(test_loader):\n",
    "#     if i < 1:\n",
    "#         x = x.to(device)\n",
    "#         y = y.to(device)\n",
    "#         print(model.forward(x), y)\n",
    "#     else:\n",
    "#         break"
   ]
  },
  {
   "cell_type": "markdown",
   "metadata": {},
   "source": [
    "## Passing through Model"
   ]
  },
  {
   "cell_type": "code",
   "execution_count": 8,
   "metadata": {
    "ExecuteTime": {
     "end_time": "2020-09-16T07:23:42.062002Z",
     "start_time": "2020-09-16T07:23:42.048003Z"
    }
   },
   "outputs": [],
   "source": [
    "lr = 1e-3\n",
    "optimizer = optim.Adam(model.parameters(), lr=lr)\n",
    "loss_fn = nn.MSELoss()"
   ]
  },
  {
   "cell_type": "code",
   "execution_count": 9,
   "metadata": {
    "ExecuteTime": {
     "end_time": "2020-09-16T07:28:14.826137Z",
     "start_time": "2020-09-16T07:23:42.063002Z"
    },
    "scrolled": false
   },
   "outputs": [
    {
     "name": "stderr",
     "output_type": "stream",
     "text": [
      "C:\\Users\\pha\\anaconda3\\envs\\1pha\\lib\\site-packages\\torch\\nn\\modules\\loss.py:445: UserWarning: Using a target size (torch.Size([8])) that is different to the input size (torch.Size([8, 1])). This will likely lead to incorrect results due to broadcasting. Please ensure they have the same size.\n",
      "  return F.mse_loss(input, target, reduction=self.reduction)\n"
     ]
    },
    {
     "name": "stdout",
     "output_type": "stream",
     "text": [
      "0  th Batch. Loss: 0.333\n",
      "20 th Batch. Loss: 1.148\n",
      "40 th Batch. Loss: 1.168\n",
      "60 th Batch. Loss: 0.373\n",
      "80 th Batch. Loss: 1.161\n",
      "100th Batch. Loss: 1.009\n"
     ]
    },
    {
     "name": "stderr",
     "output_type": "stream",
     "text": [
      "C:\\Users\\pha\\anaconda3\\envs\\1pha\\lib\\site-packages\\torch\\nn\\modules\\loss.py:445: UserWarning: Using a target size (torch.Size([3])) that is different to the input size (torch.Size([3, 1])). This will likely lead to incorrect results due to broadcasting. Please ensure they have the same size.\n",
      "  return F.mse_loss(input, target, reduction=self.reduction)\n"
     ]
    },
    {
     "name": "stdout",
     "output_type": "stream",
     "text": [
      "EPOCHS 0 | TRAIN :: [LOSS] 1.100 | VALID :: [LOSS] 1.214\n",
      "0  th Batch. Loss: 0.727\n",
      "20 th Batch. Loss: 1.062\n",
      "40 th Batch. Loss: 1.200\n",
      "60 th Batch. Loss: 0.354\n",
      "80 th Batch. Loss: 1.182\n",
      "100th Batch. Loss: 0.922\n",
      "EPOCHS 1 | TRAIN :: [LOSS] 1.026 | VALID :: [LOSS] 1.227\n",
      "0  th Batch. Loss: 0.803\n",
      "20 th Batch. Loss: 1.022\n",
      "40 th Batch. Loss: 1.223\n",
      "60 th Batch. Loss: 0.347\n",
      "80 th Batch. Loss: 1.125\n",
      "100th Batch. Loss: 0.731\n",
      "EPOCHS 2 | TRAIN :: [LOSS] 1.025 | VALID :: [LOSS] 1.196\n",
      "0  th Batch. Loss: 0.689\n",
      "20 th Batch. Loss: 0.941\n",
      "40 th Batch. Loss: 1.204\n",
      "60 th Batch. Loss: 0.379\n",
      "80 th Batch. Loss: 1.027\n",
      "100th Batch. Loss: 0.644\n",
      "EPOCHS 3 | TRAIN :: [LOSS] 1.012 | VALID :: [LOSS] 1.104\n",
      "0  th Batch. Loss: 0.474\n",
      "20 th Batch. Loss: 0.939\n",
      "40 th Batch. Loss: 1.145\n",
      "60 th Batch. Loss: 0.385\n",
      "80 th Batch. Loss: 0.991\n",
      "100th Batch. Loss: 0.646\n",
      "EPOCHS 4 | TRAIN :: [LOSS] 0.998 | VALID :: [LOSS] 1.072\n",
      "0  th Batch. Loss: 0.399\n",
      "20 th Batch. Loss: 0.974\n",
      "40 th Batch. Loss: 1.149\n",
      "60 th Batch. Loss: 0.394\n",
      "80 th Batch. Loss: 0.983\n",
      "100th Batch. Loss: 0.657\n",
      "EPOCHS 5 | TRAIN :: [LOSS] 0.990 | VALID :: [LOSS] 1.069\n",
      "0  th Batch. Loss: 0.397\n",
      "20 th Batch. Loss: 0.982\n",
      "40 th Batch. Loss: 1.156\n",
      "60 th Batch. Loss: 0.397\n",
      "80 th Batch. Loss: 0.979\n",
      "100th Batch. Loss: 0.663\n",
      "EPOCHS 6 | TRAIN :: [LOSS] 0.986 | VALID :: [LOSS] 1.066\n",
      "0  th Batch. Loss: 0.390\n",
      "20 th Batch. Loss: 0.992\n",
      "40 th Batch. Loss: 1.160\n",
      "60 th Batch. Loss: 0.401\n",
      "80 th Batch. Loss: 0.976\n",
      "100th Batch. Loss: 0.664\n",
      "EPOCHS 7 | TRAIN :: [LOSS] 0.983 | VALID :: [LOSS] 1.067\n",
      "0  th Batch. Loss: 0.394\n",
      "20 th Batch. Loss: 0.996\n",
      "40 th Batch. Loss: 1.163\n",
      "60 th Batch. Loss: 0.407\n",
      "80 th Batch. Loss: 0.972\n",
      "100th Batch. Loss: 0.674\n",
      "EPOCHS 8 | TRAIN :: [LOSS] 0.981 | VALID :: [LOSS] 1.065\n",
      "0  th Batch. Loss: 0.383\n",
      "20 th Batch. Loss: 1.000\n",
      "40 th Batch. Loss: 1.159\n",
      "60 th Batch. Loss: 0.412\n",
      "80 th Batch. Loss: 0.973\n",
      "100th Batch. Loss: 0.678\n",
      "EPOCHS 9 | TRAIN :: [LOSS] 0.979 | VALID :: [LOSS] 1.064\n",
      "0  th Batch. Loss: 0.386\n",
      "20 th Batch. Loss: 1.008\n",
      "40 th Batch. Loss: 1.167\n",
      "60 th Batch. Loss: 0.417\n",
      "80 th Batch. Loss: 0.976\n",
      "100th Batch. Loss: 0.676\n",
      "EPOCHS 10 | TRAIN :: [LOSS] 0.977 | VALID :: [LOSS] 1.065\n",
      "0  th Batch. Loss: 0.381\n",
      "20 th Batch. Loss: 1.005\n",
      "40 th Batch. Loss: 1.170\n",
      "60 th Batch. Loss: 0.425\n",
      "80 th Batch. Loss: 0.976\n",
      "100th Batch. Loss: 0.693\n",
      "EPOCHS 11 | TRAIN :: [LOSS] 0.976 | VALID :: [LOSS] 1.065\n",
      "0  th Batch. Loss: 0.380\n",
      "20 th Batch. Loss: 1.008\n",
      "40 th Batch. Loss: 1.170\n",
      "60 th Batch. Loss: 0.426\n",
      "80 th Batch. Loss: 0.973\n",
      "100th Batch. Loss: 0.682\n",
      "EPOCHS 12 | TRAIN :: [LOSS] 0.975 | VALID :: [LOSS] 1.064\n",
      "0  th Batch. Loss: 0.386\n",
      "20 th Batch. Loss: 1.005\n",
      "40 th Batch. Loss: 1.171\n",
      "60 th Batch. Loss: 0.434\n",
      "80 th Batch. Loss: 0.976\n",
      "100th Batch. Loss: 0.695\n",
      "EPOCHS 13 | TRAIN :: [LOSS] 0.974 | VALID :: [LOSS] 1.065\n",
      "0  th Batch. Loss: 0.383\n",
      "20 th Batch. Loss: 1.005\n",
      "40 th Batch. Loss: 1.169\n",
      "60 th Batch. Loss: 0.425\n",
      "80 th Batch. Loss: 0.973\n",
      "100th Batch. Loss: 0.683\n",
      "EPOCHS 14 | TRAIN :: [LOSS] 0.972 | VALID :: [LOSS] 1.063\n",
      "0  th Batch. Loss: 0.379\n",
      "20 th Batch. Loss: 1.006\n",
      "40 th Batch. Loss: 1.166\n",
      "60 th Batch. Loss: 0.413\n",
      "80 th Batch. Loss: 0.973\n",
      "100th Batch. Loss: 0.693\n",
      "EPOCHS 15 | TRAIN :: [LOSS] 0.975 | VALID :: [LOSS] 1.064\n",
      "0  th Batch. Loss: 0.383\n",
      "20 th Batch. Loss: 1.007\n",
      "40 th Batch. Loss: 1.166\n",
      "60 th Batch. Loss: 0.425\n",
      "80 th Batch. Loss: 0.972\n",
      "100th Batch. Loss: 0.705\n",
      "EPOCHS 16 | TRAIN :: [LOSS] 0.972 | VALID :: [LOSS] 1.065\n",
      "0  th Batch. Loss: 0.386\n",
      "20 th Batch. Loss: 1.016\n",
      "40 th Batch. Loss: 1.183\n",
      "60 th Batch. Loss: 0.435\n",
      "80 th Batch. Loss: 0.973\n",
      "100th Batch. Loss: 0.703\n",
      "EPOCHS 17 | TRAIN :: [LOSS] 0.971 | VALID :: [LOSS] 1.065\n",
      "0  th Batch. Loss: 0.384\n",
      "20 th Batch. Loss: 1.018\n",
      "40 th Batch. Loss: 1.173\n",
      "60 th Batch. Loss: 0.451\n",
      "80 th Batch. Loss: 0.976\n",
      "100th Batch. Loss: 0.699\n",
      "EPOCHS 18 | TRAIN :: [LOSS] 0.971 | VALID :: [LOSS] 1.063\n",
      "0  th Batch. Loss: 0.379\n",
      "20 th Batch. Loss: 1.022\n",
      "40 th Batch. Loss: 1.174\n",
      "60 th Batch. Loss: 0.430\n",
      "80 th Batch. Loss: 0.971\n",
      "100th Batch. Loss: 0.705\n",
      "EPOCHS 19 | TRAIN :: [LOSS] 0.970 | VALID :: [LOSS] 1.063\n"
     ]
    }
   ],
   "source": [
    "epochs = range(20)\n",
    "\n",
    "trn_losses, tst_losses = [], []\n",
    "\n",
    "for e in epochs:\n",
    "    \n",
    "    trn_bth_loss = 0\n",
    "    model.train()\n",
    "    for i, (x, y) in enumerate(train_loader):\n",
    "        x, y = x.to(device), y.to(device)\n",
    "\n",
    "        optimizer.zero_grad()\n",
    "\n",
    "        y_pred = model.forward(x).to(device)\n",
    "        \n",
    "        loss = loss_fn(y_pred, y)\n",
    "        del x, y, y_pred\n",
    "\n",
    "        loss.backward()\n",
    "        optimizer.step()\n",
    "\n",
    "        trn_bth_loss += loss.item()\n",
    "        \n",
    "        if not i % 20:\n",
    "            print(f'{i:<4}th Batch. Loss: {loss.item():.3f}')\n",
    "\n",
    "    torch.cuda.empty_cache()\n",
    "    trn_losses.append(trn_bth_loss / len(train_loader))\n",
    "        \n",
    "        \n",
    "    tst_bth_loss = 0\n",
    "    model.eval()\n",
    "    with torch.no_grad():\n",
    "        for i, (x, y) in enumerate(test_loader):\n",
    "            x, y = x.to(device), y.to(device)\n",
    "\n",
    "            y_pred = model.forward(x).to(device)\n",
    "            loss = loss_fn(y_pred, y)\n",
    "            del x, y, y_pred\n",
    "\n",
    "            tst_bth_loss += loss.item()\n",
    "\n",
    "    tst_losses.append(tst_bth_loss / len(test_loader))\n",
    "    torch.cuda.empty_cache()\n",
    "    \n",
    "    # Print\n",
    "    print(f'EPOCHS {e} | TRAIN :: [LOSS] {trn_losses[-1]:.3f} | VALID :: [LOSS] {tst_losses[-1]:.3f}')"
   ]
  },
  {
   "cell_type": "markdown",
   "metadata": {},
   "source": [
    "# Plot Result"
   ]
  },
  {
   "cell_type": "markdown",
   "metadata": {},
   "source": [
    "### Loss"
   ]
  },
  {
   "cell_type": "code",
   "execution_count": 20,
   "metadata": {},
   "outputs": [
    {
     "data": {
      "image/png": "[encoded data removed]",
      "text/plain": [
       "<Figure size 432x288 with 1 Axes>"
      ]
     },
     "metadata": {
      "needs_background": "light"
     },
     "output_type": "display_data"
    }
   ],
   "source": [
    "plt.plot(trn_losses)\n",
    "plt.plot(tst_losses)\n",
    "plt.legend(['Train Loss', 'Val Loss'])\n",
    "plt.xticks(np.arange(0, 21, step=1))\n",
    "plt.show()"
   ]
  },
  {
   "cell_type": "markdown",
   "metadata": {},
   "source": [
    "### Regression Accuracy"
   ]
  },
  {
   "cell_type": "code",
   "execution_count": 15,
   "metadata": {},
   "outputs": [],
   "source": [
    "def plot_result(trues, preds, title='Train', fname=None):\n",
    "    preds = np.array(list(chain(*preds)))\n",
    "    trues = np.array(list(chain(*trues)))\n",
    "    \n",
    "    cut = max(max(abs(preds)), max(abs(trues)))\n",
    "    cuts = [-cut, cut]\n",
    "              \n",
    "    plt.scatter(preds, trues)\n",
    "    plt.xlim(*cuts)\n",
    "    plt.ylim(*cuts)\n",
    "    plt.xlabel('Prediction')\n",
    "    plt.ylabel('True')\n",
    "    plt.title(f'{title} Dataset Prediction')\n",
    "    domain = np.linspace(*cuts, 100)\n",
    "    plt.plot(domain, domain, c='black')\n",
    "    if fname:\n",
    "        plt.savefig(f'./result/{fname}_{title}.png')\n",
    "    plt.show()"
   ]
  },
  {
   "cell_type": "code",
   "execution_count": 16,
   "metadata": {},
   "outputs": [],
   "source": [
    "fname = f'{datetime.now().strftime(\"%Y-%m-%d_%H%M-\")}_lr{lr}'"
   ]
  },
  {
   "cell_type": "markdown",
   "metadata": {},
   "source": [
    "### Train"
   ]
  },
  {
   "cell_type": "code",
   "execution_count": 13,
   "metadata": {},
   "outputs": [
    {
     "data": {
      "application/vnd.jupyter.widget-view+json": {
       "model_id": "fca1c03767404df296308dafc7161a84",
       "version_major": 2,
       "version_minor": 0
      },
      "text/plain": [
       "HBox(children=(FloatProgress(value=0.0, max=118.0), HTML(value='')))"
      ]
     },
     "metadata": {},
     "output_type": "display_data"
    },
    {
     "name": "stdout",
     "output_type": "stream",
     "text": [
      "\n"
     ]
    }
   ],
   "source": [
    "model.eval()\n",
    "train_true, train_pred = [], []\n",
    "with torch.no_grad():\n",
    "    for i, (x, y) in enumerate(tqdm(train_loader)):\n",
    "\n",
    "        x, y = x.to(device), y.to(device)\n",
    "        y_pred = model.forward(x).to(device)\n",
    "\n",
    "        train_pred.append(y_pred.to('cpu'))\n",
    "        train_true.append(y.to('cpu'))\n",
    "\n",
    "        del x, y, y_pred\n",
    "        torch.cuda.empty_cache()"
   ]
  },
  {
   "cell_type": "code",
   "execution_count": 17,
   "metadata": {},
   "outputs": [
    {
     "data": {
      "image/png": "[encoded data removed]",
      "text/plain": [
       "<Figure size 432x288 with 1 Axes>"
      ]
     },
     "metadata": {
      "needs_background": "light"
     },
     "output_type": "display_data"
    }
   ],
   "source": [
    "plot_result(train_true, train_pred, fname=fname)"
   ]
  },
  {
   "cell_type": "markdown",
   "metadata": {},
   "source": [
    "### Test"
   ]
  },
  {
   "cell_type": "code",
   "execution_count": 18,
   "metadata": {},
   "outputs": [
    {
     "data": {
      "application/vnd.jupyter.widget-view+json": {
       "model_id": "d1697aacad8b4fba81ccd4b0583ec238",
       "version_major": 2,
       "version_minor": 0
      },
      "text/plain": [
       "HBox(children=(FloatProgress(value=0.0, max=30.0), HTML(value='')))"
      ]
     },
     "metadata": {},
     "output_type": "display_data"
    },
    {
     "name": "stdout",
     "output_type": "stream",
     "text": [
      "\n"
     ]
    }
   ],
   "source": [
    "model.eval()\n",
    "test_true, test_pred = [], []\n",
    "with torch.no_grad():\n",
    "    for i, (x, y) in enumerate(tqdm(test_loader)):\n",
    "\n",
    "        x, y = x.to(device), y.to(device)\n",
    "        y_pred = model.forward(x).to(device)\n",
    "\n",
    "        test_pred.append(y_pred.to('cpu'))\n",
    "        test_true.append(y.to('cpu'))\n",
    "\n",
    "        del x, y, y_pred\n",
    "        torch.cuda.empty_cache()"
   ]
  },
  {
   "cell_type": "code",
   "execution_count": 19,
   "metadata": {},
   "outputs": [
    {
     "data": {
      "image/png": "[encoded data removed]",
      "text/plain": [
       "<Figure size 432x288 with 1 Axes>"
      ]
     },
     "metadata": {
      "needs_background": "light"
     },
     "output_type": "display_data"
    }
   ],
   "source": [
    "plot_result(test_true, test_pred, title='Test', fname=fname)"
   ]
  },
  {
   "cell_type": "code",
   "execution_count": null,
   "metadata": {},
   "outputs": [],
   "source": []
  }
 ],
 "metadata": {
  "kernelspec": {
   "display_name": "Python 3",
   "language": "python",
   "name": "python3"
  },
  "language_info": {
   "codemirror_mode": {
    "name": "ipython",
    "version": 3
   },
   "file_extension": ".py",
   "mimetype": "text/x-python",
   "name": "python",
   "nbconvert_exporter": "python",
   "pygments_lexer": "ipython3",
   "version": "3.7.7"
  },
  "toc": {
   "base_numbering": 1,
   "nav_menu": {},
   "number_sections": true,
   "sideBar": true,
   "skip_h1_title": false,
   "title_cell": "Table of Contents",
   "title_sidebar": "Contents",
   "toc_cell": false,
   "toc_position": {},
   "toc_section_display": true,
   "toc_window_display": false
  }
 },
 "nbformat": 4,
 "nbformat_minor": 4
}
