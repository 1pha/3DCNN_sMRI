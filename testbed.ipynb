{
 "cells": [
  {
   "cell_type": "code",
   "execution_count": 1,
   "metadata": {
    "ExecuteTime": {
     "end_time": "2021-05-17T04:54:13.836368Z",
     "start_time": "2021-05-17T04:54:10.962213Z"
    }
   },
   "outputs": [],
   "source": [
    "import wandb\n",
    "\n",
    "from sage.config import *\n",
    "from sage.training import runner\n",
    "from utils.misc import seed_everything"
   ]
  },
  {
   "cell_type": "code",
   "execution_count": 2,
   "metadata": {
    "ExecuteTime": {
     "end_time": "2021-05-17T04:54:13.883368Z",
     "start_time": "2021-05-17T04:54:13.839370Z"
    }
   },
   "outputs": [],
   "source": [
    "cfg = load_config()\n",
    "seed_everything(cfg.seed)\n",
    "cfg.registration = 'mni'\n",
    "cfg.unused_src = ['Oasis1', 'Oasis3']\n",
    "\n",
    "cfg.epochs = 100\n",
    "cfg.model_name = 'resnet_no_maxpool'"
   ]
  },
  {
   "cell_type": "code",
   "execution_count": 3,
   "metadata": {
    "ExecuteTime": {
     "end_time": "2021-05-17T04:54:22.258454Z",
     "start_time": "2021-05-17T04:54:13.885370Z"
    },
    "scrolled": true
   },
   "outputs": [
    {
     "name": "stderr",
     "output_type": "stream",
     "text": [
      "wandb: Currently logged in as: 1pha (use `wandb login --relogin` to force relogin)\n"
     ]
    },
    {
     "data": {
      "text/html": [
       "\n",
       "                Tracking run with wandb version 0.10.30<br/>\n",
       "                Syncing run <strong style=\"color:#cdcd00\">MNI / IXI+Dallas / Resnet No Maxpool</strong> to <a href=\"https://wandb.ai\" target=\"_blank\">Weights & Biases</a> <a href=\"https://docs.wandb.com/integrations/jupyter.html\" target=\"_blank\">(Documentation)</a>.<br/>\n",
       "                Project page: <a href=\"https://wandb.ai/1pha/3d_smri\" target=\"_blank\">https://wandb.ai/1pha/3d_smri</a><br/>\n",
       "                Run page: <a href=\"https://wandb.ai/1pha/3d_smri/runs/1rrlfpp1\" target=\"_blank\">https://wandb.ai/1pha/3d_smri/runs/1rrlfpp1</a><br/>\n",
       "                Run data is saved locally in <code>G:\\My Drive\\brain_data\\workspace\\3DCNN_sMRI\\wandb\\run-20210517_135415-1rrlfpp1</code><br/><br/>\n",
       "            "
      ],
      "text/plain": [
       "<IPython.core.display.HTML object>"
      ]
     },
     "metadata": {},
     "output_type": "display_data"
    },
    {
     "data": {
      "text/html": [
       "<h1>Run(1rrlfpp1)</h1><iframe src=\"https://wandb.ai/1pha/3d_smri/runs/1rrlfpp1\" style=\"border:none;width:100%;height:400px\"></iframe>"
      ],
      "text/plain": [
       "<wandb.sdk.wandb_run.Run at 0x1c8500a62b0>"
      ]
     },
     "execution_count": 3,
     "metadata": {},
     "output_type": "execute_result"
    }
   ],
   "source": [
    "wandb.login()\n",
    "wandb.init(project='3d_smri',\n",
    "           config=vars(cfg),\n",
    "           name='MNI / IXI+Dallas / Resnet No Maxpool'\n",
    "  )"
   ]
  },
  {
   "cell_type": "code",
   "execution_count": 6,
   "metadata": {
    "ExecuteTime": {
     "end_time": "2021-05-17T05:20:41.284772Z",
     "start_time": "2021-05-17T05:20:37.934561Z"
    }
   },
   "outputs": [
    {
     "data": {
      "text/html": [
       "<br/>Waiting for W&B process to finish, PID 19684<br/>Program ended successfully."
      ],
      "text/plain": [
       "<IPython.core.display.HTML object>"
      ]
     },
     "metadata": {},
     "output_type": "display_data"
    },
    {
     "data": {
      "application/vnd.jupyter.widget-view+json": {
       "model_id": "",
       "version_major": 2,
       "version_minor": 0
      },
      "text/plain": [
       "VBox(children=(Label(value=' 0.00MB of 0.00MB uploaded (0.00MB deduped)\\r'), FloatProgress(value=1.0, max=1.0)…"
      ]
     },
     "metadata": {},
     "output_type": "display_data"
    },
    {
     "data": {
      "text/html": [
       "Find user logs for this run at: <code>G:\\My Drive\\brain_data\\workspace\\3DCNN_sMRI\\wandb\\run-20210517_135415-1rrlfpp1\\logs\\debug.log</code>"
      ],
      "text/plain": [
       "<IPython.core.display.HTML object>"
      ]
     },
     "metadata": {},
     "output_type": "display_data"
    },
    {
     "data": {
      "text/html": [
       "Find internal logs for this run at: <code>G:\\My Drive\\brain_data\\workspace\\3DCNN_sMRI\\wandb\\run-20210517_135415-1rrlfpp1\\logs\\debug-internal.log</code>"
      ],
      "text/plain": [
       "<IPython.core.display.HTML object>"
      ]
     },
     "metadata": {},
     "output_type": "display_data"
    },
    {
     "data": {
      "text/html": [
       "<h3>Run summary:</h3><br/><style>\n",
       "    table.wandb td:nth-child(1) { padding: 0 10px; text-align: right }\n",
       "    </style><table class=\"wandb\">\n",
       "<tr><td>train_rmse</td><td>18.38602</td></tr><tr><td>train_mae</td><td>17.4403</td></tr><tr><td>train_r2</td><td>-0.02975</td></tr><tr><td>train_corr</td><td>0.96584</td></tr><tr><td>train_loss</td><td>338.04561</td></tr><tr><td>valid_loss</td><td>191.50564</td></tr><tr><td>valid_rmse</td><td>13.83856</td></tr><tr><td>valid_mae</td><td>11.72585</td></tr><tr><td>valid_r2</td><td>0.30248</td></tr><tr><td>valid_corr</td><td>0.8761</td></tr><tr><td>_runtime</td><td>1456</td></tr><tr><td>_timestamp</td><td>1621228711</td></tr><tr><td>_step</td><td>99</td></tr></table>"
      ],
      "text/plain": [
       "<IPython.core.display.HTML object>"
      ]
     },
     "metadata": {},
     "output_type": "display_data"
    },
    {
     "data": {
      "text/html": [
       "<h3>Run history:</h3><br/><style>\n",
       "    table.wandb td:nth-child(1) { padding: 0 10px; text-align: right }\n",
       "    </style><table class=\"wandb\">\n",
       "<tr><td>train_rmse</td><td>████▇▇▇▇▇▇▆▆▆▆▆▆▅▅▅▅▅▄▄▄▄▄▃▃▃▃▃▃▂▂▂▂▂▁▁▁</td></tr><tr><td>train_mae</td><td>████▇▇▇▇▇▇▇▆▆▆▆▆▆▅▅▅▅▅▄▄▄▄▄▃▃▃▃▃▂▂▂▂▂▁▁▁</td></tr><tr><td>train_r2</td><td>▁▁▂▂▂▂▂▂▃▃▃▃▄▄▄▄▄▅▅▅▅▅▆▆▆▆▆▆▇▇▇▇▇▇▇█████</td></tr><tr><td>train_corr</td><td>▁▅▆▆▇▇██████████████████████████████████</td></tr><tr><td>train_loss</td><td>██▇▇▇▇▇▇▆▆▆▆▅▅▅▅▅▄▄▄▄▄▃▃▃▃▃▃▂▂▂▂▂▂▂▁▁▁▁▁</td></tr><tr><td>valid_loss</td><td>███▇▇▇▇▆▆▆▆▆▅▆▆▆▆▆▅▄▄▄▃▃▃▄▄▃▂▂▂▂▂▃▃▂▁▂▂▁</td></tr><tr><td>valid_rmse</td><td>████▇▇▇▇▇▇▇▇▆▆▇▇▇▆▆▅▅▅▄▄▄▅▅▄▃▃▃▃▃▄▄▃▂▂▃▁</td></tr><tr><td>valid_mae</td><td>█████▇▇▇▇▇▇▇▆▇▇▇▇▇▆▅▅▅▅▄▅▅▅▄▃▃▃▃▃▄▄▃▂▂▃▁</td></tr><tr><td>valid_r2</td><td>▁▁▁▂▂▂▂▃▃▃▃▃▄▃▃▃▃▃▄▅▅▅▆▆▆▅▅▆▇▇▇▇▇▆▆▇█▇▇█</td></tr><tr><td>valid_corr</td><td>▁▄▅▆▇▇█▇██▇▇███▇▇▇▇██████▇██████████▇███</td></tr><tr><td>_runtime</td><td>▁▁▁▂▂▂▂▂▂▃▃▃▃▃▄▄▄▄▄▄▅▅▅▅▅▆▆▆▆▆▆▇▇▇▇▇▇███</td></tr><tr><td>_timestamp</td><td>▁▁▁▂▂▂▂▂▂▃▃▃▃▃▄▄▄▄▄▄▅▅▅▅▅▆▆▆▆▆▆▇▇▇▇▇▇███</td></tr><tr><td>_step</td><td>▁▁▁▁▂▂▂▂▂▃▃▃▃▃▃▄▄▄▄▄▅▅▅▅▅▅▆▆▆▆▆▇▇▇▇▇▇███</td></tr></table><br/>"
      ],
      "text/plain": [
       "<IPython.core.display.HTML object>"
      ]
     },
     "metadata": {},
     "output_type": "display_data"
    },
    {
     "data": {
      "text/html": [
       "Synced 6 W&B file(s), 0 media file(s), 0 artifact file(s) and 1 other file(s)"
      ],
      "text/plain": [
       "<IPython.core.display.HTML object>"
      ]
     },
     "metadata": {},
     "output_type": "display_data"
    },
    {
     "data": {
      "text/html": [
       "\n",
       "                    <br/>Synced <strong style=\"color:#cdcd00\">MNI / IXI+Dallas / Resnet No Maxpool</strong>: <a href=\"https://wandb.ai/1pha/3d_smri/runs/1rrlfpp1\" target=\"_blank\">https://wandb.ai/1pha/3d_smri/runs/1rrlfpp1</a><br/>\n",
       "                "
      ],
      "text/plain": [
       "<IPython.core.display.HTML object>"
      ]
     },
     "metadata": {},
     "output_type": "display_data"
    }
   ],
   "source": [
    "wandb.finish()"
   ]
  },
  {
   "cell_type": "code",
   "execution_count": null,
   "metadata": {},
   "outputs": [],
   "source": []
  }
 ],
 "metadata": {
  "kernelspec": {
   "display_name": "Python 3",
   "language": "python",
   "name": "python3"
  },
  "language_info": {
   "codemirror_mode": {
    "name": "ipython",
    "version": 3
   },
   "file_extension": ".py",
   "mimetype": "text/x-python",
   "name": "python",
   "nbconvert_exporter": "python",
   "pygments_lexer": "ipython3",
   "version": "3.8.8"
  },
  "toc": {
   "base_numbering": 1,
   "nav_menu": {},
   "number_sections": true,
   "sideBar": true,
   "skip_h1_title": false,
   "title_cell": "Table of Contents",
   "title_sidebar": "Contents",
   "toc_cell": false,
   "toc_position": {},
   "toc_section_display": true,
   "toc_window_display": false
  }
 },
 "nbformat": 4,
 "nbformat_minor": 4
}
