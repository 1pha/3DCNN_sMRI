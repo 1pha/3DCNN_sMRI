{
 "cells": [
  {
   "cell_type": "code",
   "execution_count": 1,
   "metadata": {
    "ExecuteTime": {
     "end_time": "2021-05-15T11:09:07.443845Z",
     "start_time": "2021-05-15T11:09:04.594776Z"
    }
   },
   "outputs": [],
   "source": [
    "import wandb\n",
    "\n",
    "from sage.config import *\n",
    "from sage.training import runner\n",
    "from utils.misc import seed_everything"
   ]
  },
  {
   "cell_type": "code",
   "execution_count": 2,
   "metadata": {
    "ExecuteTime": {
     "end_time": "2021-05-15T11:09:07.475357Z",
     "start_time": "2021-05-15T11:09:07.445845Z"
    }
   },
   "outputs": [],
   "source": [
    "cfg = load_config()\n",
    "seed_everything(cfg.seed)\n",
    "cfg.registration = 'mni'\n",
    "\n",
    "cfg.epochs = 100\n",
    "cfg.model_name = 'resnet_no_maxpool'"
   ]
  },
  {
   "cell_type": "code",
   "execution_count": 3,
   "metadata": {
    "ExecuteTime": {
     "end_time": "2021-05-15T11:09:16.369762Z",
     "start_time": "2021-05-15T11:09:07.479359Z"
    },
    "scrolled": false
   },
   "outputs": [
    {
     "name": "stderr",
     "output_type": "stream",
     "text": [
      "wandb: Currently logged in as: 1pha (use `wandb login --relogin` to force relogin)\n"
     ]
    },
    {
     "data": {
      "text/html": [
       "\n",
       "                Tracking run with wandb version 0.10.30<br/>\n",
       "                Syncing run <strong style=\"color:#cdcd00\">Trial</strong> to <a href=\"https://wandb.ai\" target=\"_blank\">Weights & Biases</a> <a href=\"https://docs.wandb.com/integrations/jupyter.html\" target=\"_blank\">(Documentation)</a>.<br/>\n",
       "                Project page: <a href=\"https://wandb.ai/1pha/3d_smri\" target=\"_blank\">https://wandb.ai/1pha/3d_smri</a><br/>\n",
       "                Run page: <a href=\"https://wandb.ai/1pha/3d_smri/runs/3umfs7ao\" target=\"_blank\">https://wandb.ai/1pha/3d_smri/runs/3umfs7ao</a><br/>\n",
       "                Run data is saved locally in <code>G:\\My Drive\\brain_data\\workspace\\3DCNN_sMRI\\wandb\\run-20210515_200908-3umfs7ao</code><br/><br/>\n",
       "            "
      ],
      "text/plain": [
       "<IPython.core.display.HTML object>"
      ]
     },
     "metadata": {},
     "output_type": "display_data"
    },
    {
     "data": {
      "text/html": [
       "<h1>Run(3umfs7ao)</h1><iframe src=\"https://wandb.ai/1pha/3d_smri/runs/3umfs7ao\" style=\"border:none;width:100%;height:400px\"></iframe>"
      ],
      "text/plain": [
       "<wandb.sdk.wandb_run.Run at 0x23295973460>"
      ]
     },
     "execution_count": 3,
     "metadata": {},
     "output_type": "execute_result"
    }
   ],
   "source": [
    "wandb.login()\n",
    "wandb.init(project='3d_smri',\n",
    "           config=vars(cfg),\n",
    "           name='Trial'\n",
    "  )"
   ]
  },
  {
   "cell_type": "code",
   "execution_count": null,
   "metadata": {
    "ExecuteTime": {
     "start_time": "2021-05-15T11:08:59.434Z"
    }
   },
   "outputs": [
    {
     "name": "stdout",
     "output_type": "stream",
     "text": [
      "Model Resnet_no_maxpool is selected.\n",
      "----------------------------------------------------------------\n",
      "        Layer (type)               Output Shape         Param #\n",
      "================================================================\n",
      "            Conv3d-1       [-1, 16, 48, 48, 48]           5,488\n",
      "       BatchNorm3d-2       [-1, 16, 48, 48, 48]              32\n",
      "              ReLU-3       [-1, 16, 48, 48, 48]               0\n",
      "            Conv3d-4       [-1, 16, 48, 48, 48]           6,912\n",
      "       BatchNorm3d-5       [-1, 16, 48, 48, 48]              32\n",
      "              ReLU-6       [-1, 16, 48, 48, 48]               0\n",
      "            Conv3d-7       [-1, 16, 48, 48, 48]           6,912\n",
      "       BatchNorm3d-8       [-1, 16, 48, 48, 48]              32\n",
      "              ReLU-9       [-1, 16, 48, 48, 48]               0\n",
      "       BasicBlock-10       [-1, 16, 48, 48, 48]               0\n",
      "           Conv3d-11       [-1, 32, 24, 24, 24]          13,824\n",
      "      BatchNorm3d-12       [-1, 32, 24, 24, 24]              64\n",
      "             ReLU-13       [-1, 32, 24, 24, 24]               0\n",
      "           Conv3d-14       [-1, 32, 24, 24, 24]          27,648\n",
      "      BatchNorm3d-15       [-1, 32, 24, 24, 24]              64\n",
      "             ReLU-16       [-1, 32, 24, 24, 24]               0\n",
      "       BasicBlock-17       [-1, 32, 24, 24, 24]               0\n",
      "           Conv3d-18       [-1, 64, 12, 12, 12]          55,296\n",
      "      BatchNorm3d-19       [-1, 64, 12, 12, 12]             128\n",
      "             ReLU-20       [-1, 64, 12, 12, 12]               0\n",
      "           Conv3d-21       [-1, 64, 12, 12, 12]         110,592\n",
      "      BatchNorm3d-22       [-1, 64, 12, 12, 12]             128\n",
      "             ReLU-23       [-1, 64, 12, 12, 12]               0\n",
      "       BasicBlock-24       [-1, 64, 12, 12, 12]               0\n",
      "           Conv3d-25         [-1, 128, 6, 6, 6]         221,184\n",
      "      BatchNorm3d-26         [-1, 128, 6, 6, 6]             256\n",
      "             ReLU-27         [-1, 128, 6, 6, 6]               0\n",
      "           Conv3d-28         [-1, 128, 6, 6, 6]         442,368\n",
      "      BatchNorm3d-29         [-1, 128, 6, 6, 6]             256\n",
      "             ReLU-30         [-1, 128, 6, 6, 6]               0\n",
      "       BasicBlock-31         [-1, 128, 6, 6, 6]               0\n",
      "AdaptiveAvgPool3d-32         [-1, 128, 1, 1, 1]               0\n",
      "           Linear-33                    [-1, 1]             129\n",
      "================================================================\n",
      "Total params: 891,345\n",
      "Trainable params: 891,345\n",
      "Non-trainable params: 0\n",
      "----------------------------------------------------------------\n",
      "Input size (MB): 3.38\n",
      "Forward/backward pass size (MB): 166.01\n",
      "Params size (MB): 3.40\n",
      "Estimated Total Size (MB): 172.78\n",
      "----------------------------------------------------------------\n",
      "None\n",
      "Epoch 1 / 100, BEST MAE 8.000\n",
      "[train] 31.9 sec [valid] 7.0 sec \n",
      "TRAIN :: LOSS 3381.681 | RMSE 57.97 | MAE 54.89 | R2 -8.57 | CORR 0.18\n",
      "VALID :: LOSS 3209.737 | RMSE 56.67 | MAE 53.45 | R2 -7.94 | CORR 0.30\n",
      "Saving ...\n",
      "Epoch 2 / 100, BEST MAE 8.000\n",
      "[train] 32.0 sec [valid] 8.0 sec \n",
      "TRAIN :: LOSS 3274.042 | RMSE 57.04 | MAE 53.92 | R2 -8.26 | CORR 0.27\n",
      "VALID :: LOSS 3117.571 | RMSE 55.85 | MAE 52.58 | R2 -7.68 | CORR 0.34\n",
      "Epoch 3 / 100, BEST MAE 8.000\n",
      "[train] 32.4 sec [valid] 7.6 sec \n",
      "TRAIN :: LOSS 3193.200 | RMSE 56.33 | MAE 53.17 | R2 -8.03 | CORR 0.30\n",
      "VALID :: LOSS 3041.384 | RMSE 55.16 | MAE 51.86 | R2 -7.47 | CORR 0.35\n",
      "Epoch 4 / 100, BEST MAE 8.000\n",
      "[train] 29.9 sec [valid] 8.6 sec \n",
      "TRAIN :: LOSS 3117.850 | RMSE 55.66 | MAE 52.47 | R2 -7.82 | CORR 0.32\n",
      "VALID :: LOSS 2959.425 | RMSE 54.41 | MAE 51.07 | R2 -7.24 | CORR 0.36\n",
      "Epoch 5 / 100, BEST MAE 8.000\n",
      "[train] 31.4 sec [valid] 9.1 sec \n",
      "TRAIN :: LOSS 3043.415 | RMSE 54.99 | MAE 51.77 | R2 -7.61 | CORR 0.34\n",
      "VALID :: LOSS 2875.454 | RMSE 53.63 | MAE 50.25 | R2 -7.01 | CORR 0.37\n",
      "Saving ...\n",
      "Epoch 6 / 100, BEST MAE 8.000\n",
      "[train] 31.8 sec [valid] 8.5 sec \n",
      "TRAIN :: LOSS 2968.769 | RMSE 54.30 | MAE 51.06 | R2 -7.40 | CORR 0.36\n",
      "VALID :: LOSS 2776.284 | RMSE 52.70 | MAE 49.25 | R2 -6.73 | CORR 0.38\n",
      "Epoch 7 / 100, BEST MAE 8.000\n",
      "[train] 31.6 sec [valid] 7.0 sec \n",
      "TRAIN :: LOSS 2893.336 | RMSE 53.61 | MAE 50.34 | R2 -7.18 | CORR 0.38\n",
      "VALID :: LOSS 2685.797 | RMSE 51.84 | MAE 48.33 | R2 -6.48 | CORR 0.39\n",
      "Epoch 8 / 100, BEST MAE 8.000\n"
     ]
    }
   ],
   "source": [
    "model = runner.run(cfg)"
   ]
  },
  {
   "cell_type": "code",
   "execution_count": null,
   "metadata": {},
   "outputs": [],
   "source": []
  }
 ],
 "metadata": {
  "kernelspec": {
   "display_name": "Python 3",
   "language": "python",
   "name": "python3"
  },
  "language_info": {
   "codemirror_mode": {
    "name": "ipython",
    "version": 3
   },
   "file_extension": ".py",
   "mimetype": "text/x-python",
   "name": "python",
   "nbconvert_exporter": "python",
   "pygments_lexer": "ipython3",
   "version": "3.8.8"
  },
  "toc": {
   "base_numbering": 1,
   "nav_menu": {},
   "number_sections": true,
   "sideBar": true,
   "skip_h1_title": false,
   "title_cell": "Table of Contents",
   "title_sidebar": "Contents",
   "toc_cell": false,
   "toc_position": {},
   "toc_section_display": true,
   "toc_window_display": false
  }
 },
 "nbformat": 4,
 "nbformat_minor": 4
}
