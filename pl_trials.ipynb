{
 "cells": [
  {
   "cell_type": "code",
   "execution_count": 1,
   "metadata": {
    "ExecuteTime": {
     "end_time": "2021-02-16T12:39:37.096056Z",
     "start_time": "2021-02-16T12:39:29.844022Z"
    }
   },
   "outputs": [],
   "source": [
    "# models\n",
    "from src.architectures.model_util import load_model, save_checkpoint\n",
    "\n",
    "# Pytorch Lightning\n",
    "import pytorch_lightning as pl\n",
    "\n",
    "# other files\n",
    "from src.run import *\n",
    "from src.config import *\n",
    "from src.lit_model import *\n",
    "from src.data_util import *"
   ]
  },
  {
   "cell_type": "code",
   "execution_count": 2,
   "metadata": {
    "ExecuteTime": {
     "end_time": "2021-02-16T12:39:37.224059Z",
     "start_time": "2021-02-16T12:39:37.098058Z"
    }
   },
   "outputs": [],
   "source": [
    "cfg = load_config()"
   ]
  },
  {
   "cell_type": "code",
   "execution_count": 3,
   "metadata": {
    "ExecuteTime": {
     "end_time": "2021-02-16T12:39:37.304057Z",
     "start_time": "2021-02-16T12:39:37.226060Z"
    }
   },
   "outputs": [
    {
     "name": "stdout",
     "output_type": "stream",
     "text": [
      "Model Resnet is selected.\n"
     ]
    }
   ],
   "source": [
    "loggers = [pl.loggers.MLFlowLogger(\"training/logs\")]\n",
    "callbacks = [pl.callbacks.EarlyStopping(monitor=\"val_loss\", mode=\"min\", patience=10)]\n",
    "\n",
    "model, cfg.device = load_model(cfg.model_name, gpu=False, verbose=False)\n",
    "lit_model = BaseLitModel(model, cfg=cfg)"
   ]
  },
  {
   "cell_type": "code",
   "execution_count": 4,
   "metadata": {
    "ExecuteTime": {
     "end_time": "2021-02-16T12:39:37.320058Z",
     "start_time": "2021-02-16T12:39:37.306060Z"
    }
   },
   "outputs": [
    {
     "name": "stderr",
     "output_type": "stream",
     "text": [
      "GPU available: True, used: False\n",
      "TPU available: None, using: 0 TPU cores\n"
     ]
    }
   ],
   "source": [
    "trainer = pl.Trainer(logger=loggers, callbacks=callbacks)"
   ]
  },
  {
   "cell_type": "code",
   "execution_count": 5,
   "metadata": {
    "ExecuteTime": {
     "end_time": "2021-02-16T12:39:37.446056Z",
     "start_time": "2021-02-16T12:39:37.322058Z"
    }
   },
   "outputs": [],
   "source": [
    "cfg.test = False\n",
    "trn_dset = MyDataset(cfg, augment=None)\n",
    "trn_dl = DataLoader(trn_dset, cfg.batch_size)\n",
    "cfg.test = True\n",
    "val_dset = MyDataset(cfg, augment=None)\n",
    "val_dl = DataLoader(val_dset, cfg.batch_size)"
   ]
  },
  {
   "cell_type": "code",
   "execution_count": null,
   "metadata": {
    "ExecuteTime": {
     "start_time": "2021-02-16T12:39:29.799Z"
    },
    "scrolled": false
   },
   "outputs": [
    {
     "name": "stderr",
     "output_type": "stream",
     "text": [
      "\n",
      "  | Name      | Type              | Params\n",
      "------------------------------------------------\n",
      "0 | model     | ResNet            | 888 K \n",
      "1 | train_acc | MeanAbsoluteError | 0     \n",
      "2 | val_acc   | MeanAbsoluteError | 0     \n",
      "3 | test_acc  | MeanAbsoluteError | 0     \n",
      "------------------------------------------------\n",
      "888 K     Trainable params\n",
      "0         Non-trainable params\n",
      "888 K     Total params\n"
     ]
    },
    {
     "data": {
      "application/vnd.jupyter.widget-view+json": {
       "model_id": "",
       "version_major": 2,
       "version_minor": 0
      },
      "text/plain": [
       "HBox(children=(HTML(value='Validation sanity check'), FloatProgress(value=1.0, bar_style='info', layout=Layout…"
      ]
     },
     "metadata": {},
     "output_type": "display_data"
    },
    {
     "data": {
      "application/vnd.jupyter.widget-view+json": {
       "model_id": "100affdb24d044b09d2a119cf43cc72e",
       "version_major": 2,
       "version_minor": 0
      },
      "text/plain": [
       "HBox(children=(HTML(value='Training'), FloatProgress(value=1.0, bar_style='info', layout=Layout(flex='2'), max…"
      ]
     },
     "metadata": {},
     "output_type": "display_data"
    }
   ],
   "source": [
    "trainer.fit(lit_model, train_dataloader=trn_dl, val_dataloaders=val_dl)"
   ]
  },
  {
   "cell_type": "code",
   "execution_count": null,
   "metadata": {},
   "outputs": [],
   "source": []
  }
 ],
 "metadata": {
  "kernelspec": {
   "display_name": "Python 3",
   "language": "python",
   "name": "python3"
  },
  "language_info": {
   "codemirror_mode": {
    "name": "ipython",
    "version": 3
   },
   "file_extension": ".py",
   "mimetype": "text/x-python",
   "name": "python",
   "nbconvert_exporter": "python",
   "pygments_lexer": "ipython3",
   "version": "3.7.7"
  },
  "toc": {
   "base_numbering": 1,
   "nav_menu": {},
   "number_sections": true,
   "sideBar": true,
   "skip_h1_title": false,
   "title_cell": "Table of Contents",
   "title_sidebar": "Contents",
   "toc_cell": false,
   "toc_position": {},
   "toc_section_display": true,
   "toc_window_display": false
  }
 },
 "nbformat": 4,
 "nbformat_minor": 4
}
